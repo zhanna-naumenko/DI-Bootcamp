{
  "nbformat": 4,
  "nbformat_minor": 0,
  "metadata": {
    "colab": {
      "provenance": [],
      "authorship_tag": "ABX9TyP1kWFitCZk+FGlxWHd12Hc",
      "include_colab_link": true
    },
    "kernelspec": {
      "name": "python3",
      "display_name": "Python 3"
    },
    "language_info": {
      "name": "python"
    }
  },
  "cells": [
    {
      "cell_type": "markdown",
      "metadata": {
        "id": "view-in-github",
        "colab_type": "text"
      },
      "source": [
        "<a href=\"https://colab.research.google.com/github/zhanna-naumenko/DI-Bootcamp/blob/main/W6D1_ExercisesXP.ipynb\" target=\"_parent\"><img src=\"https://colab.research.google.com/assets/colab-badge.svg\" alt=\"Open In Colab\"/></a>"
      ]
    },
    {
      "cell_type": "markdown",
      "source": [
        "**Exercise 1**"
      ],
      "metadata": {
        "id": "OR0_H7guDfTR"
      }
    },
    {
      "cell_type": "code",
      "source": [
        "import numpy as np\n",
        "\n",
        "user_array = np.arange(0, 10)\n",
        "print(user_array)"
      ],
      "metadata": {
        "colab": {
          "base_uri": "https://localhost:8080/"
        },
        "id": "QzveUun8Dgkp",
        "outputId": "a74fbb32-51cd-494b-9c1d-3654193a1b9b"
      },
      "execution_count": 3,
      "outputs": [
        {
          "output_type": "stream",
          "name": "stdout",
          "text": [
            "[0 1 2 3 4 5 6 7 8 9]\n"
          ]
        }
      ]
    },
    {
      "cell_type": "markdown",
      "source": [
        "**Exercise 2**"
      ],
      "metadata": {
        "id": "0MGmv6KzECA4"
      }
    },
    {
      "cell_type": "code",
      "source": [
        "my_list = [3.14, 2.17, 0, 1, 2]\n",
        "list_array = np.array(my_list, dtype=np.int64)\n",
        "print(list_array)"
      ],
      "metadata": {
        "colab": {
          "base_uri": "https://localhost:8080/"
        },
        "id": "wFtpFekhEEEh",
        "outputId": "7b1fc06a-7106-4c78-a2e4-181135d38a0f"
      },
      "execution_count": 5,
      "outputs": [
        {
          "output_type": "stream",
          "name": "stdout",
          "text": [
            "[3 2 0 1 2]\n"
          ]
        }
      ]
    },
    {
      "cell_type": "markdown",
      "source": [
        "**Exercise 3**"
      ],
      "metadata": {
        "id": "uDpK1N4eFhp8"
      }
    },
    {
      "cell_type": "code",
      "source": [
        "array_new = np.arange(1, 10).reshape(3, 3)\n",
        "print(array_new)"
      ],
      "metadata": {
        "colab": {
          "base_uri": "https://localhost:8080/"
        },
        "id": "ews0NYuUFj7d",
        "outputId": "4018482e-f3e7-4008-9c13-c60957b06439"
      },
      "execution_count": 8,
      "outputs": [
        {
          "output_type": "stream",
          "name": "stdout",
          "text": [
            "[[1 2 3]\n",
            " [4 5 6]\n",
            " [7 8 9]]\n"
          ]
        }
      ]
    },
    {
      "cell_type": "markdown",
      "source": [
        "**Exercise 4**"
      ],
      "metadata": {
        "id": "uxBt-ilnGMy8"
      }
    },
    {
      "cell_type": "code",
      "source": [
        "random_array = (np.random.rand(4, 5)).round(2)\n",
        "print(random_array)"
      ],
      "metadata": {
        "colab": {
          "base_uri": "https://localhost:8080/"
        },
        "id": "4jAfqoOMGOeZ",
        "outputId": "641ce8bb-74a1-452f-abc2-7bd8b48b780e"
      },
      "execution_count": 23,
      "outputs": [
        {
          "output_type": "stream",
          "name": "stdout",
          "text": [
            "[[0.98 0.83 0.27 0.28 0.66]\n",
            " [0.48 0.59 0.49 0.49 0.86]\n",
            " [0.35 0.09 0.41 0.95 0.36]\n",
            " [0.72 0.51 0.02 0.55 0.36]]\n"
          ]
        }
      ]
    },
    {
      "cell_type": "markdown",
      "source": [
        "**Exercise 5**"
      ],
      "metadata": {
        "id": "ADiXofbFIJ6g"
      }
    },
    {
      "cell_type": "code",
      "source": [
        "print(random_array[1])"
      ],
      "metadata": {
        "colab": {
          "base_uri": "https://localhost:8080/"
        },
        "id": "AR33E7YTILyA",
        "outputId": "5c9cdbb7-d2c9-448e-dc05-e5ae07dfb80c"
      },
      "execution_count": 24,
      "outputs": [
        {
          "output_type": "stream",
          "name": "stdout",
          "text": [
            "[0.48 0.59 0.49 0.49 0.86]\n"
          ]
        }
      ]
    },
    {
      "cell_type": "markdown",
      "source": [
        "**Exercise 6**"
      ],
      "metadata": {
        "id": "ybW48EAKJRQI"
      }
    },
    {
      "cell_type": "code",
      "source": [
        "given_array = np.array([9, 8, 7, 6, 5, 4, 3, 2, 1, 0])\n",
        "revers = np.flipud(given_array)\n",
        "print(revers)\n",
        "print(given_array[::-1])"
      ],
      "metadata": {
        "colab": {
          "base_uri": "https://localhost:8080/"
        },
        "id": "PErL-wj-JUfn",
        "outputId": "f0c40813-d682-49c2-bee9-c33507f171d9"
      },
      "execution_count": 31,
      "outputs": [
        {
          "output_type": "stream",
          "name": "stdout",
          "text": [
            "[0 1 2 3 4 5 6 7 8 9]\n",
            "[0 1 2 3 4 5 6 7 8 9]\n"
          ]
        }
      ]
    },
    {
      "cell_type": "markdown",
      "source": [
        "**Exercise 7**"
      ],
      "metadata": {
        "id": "clwLL4zwKb27"
      }
    },
    {
      "cell_type": "code",
      "source": [
        "array_ident = np.identity(4)\n",
        "print(array_ident)"
      ],
      "metadata": {
        "colab": {
          "base_uri": "https://localhost:8080/"
        },
        "id": "Q5SG-OJcKdf1",
        "outputId": "42c567af-b833-430f-dbef-1bd0739bb641"
      },
      "execution_count": 32,
      "outputs": [
        {
          "output_type": "stream",
          "name": "stdout",
          "text": [
            "[[1. 0. 0. 0.]\n",
            " [0. 1. 0. 0.]\n",
            " [0. 0. 1. 0.]\n",
            " [0. 0. 0. 1.]]\n"
          ]
        }
      ]
    },
    {
      "cell_type": "markdown",
      "source": [
        "**Exercise 8**"
      ],
      "metadata": {
        "id": "Gabb474wLTtD"
      }
    },
    {
      "cell_type": "code",
      "source": [
        "sum_array = np.sum(user_array)\n",
        "av_array = np.average(user_array)\n",
        "print(f\"Sum of array: {sum_array}\")\n",
        "print(f\"Averag of array: {av_array}\")"
      ],
      "metadata": {
        "colab": {
          "base_uri": "https://localhost:8080/"
        },
        "id": "PmDEj7BgLUaf",
        "outputId": "be68f5cb-168c-4cf9-97a8-194aecb8aecc"
      },
      "execution_count": 34,
      "outputs": [
        {
          "output_type": "stream",
          "name": "stdout",
          "text": [
            "Sum of array: 45\n",
            "Averag of array: 4.5\n"
          ]
        }
      ]
    },
    {
      "cell_type": "markdown",
      "source": [
        "**Exercise 9**"
      ],
      "metadata": {
        "id": "-7SN_zvFL2B7"
      }
    },
    {
      "cell_type": "code",
      "source": [
        "array_line = np.arange(1, 21).reshape((4, 5))\n",
        "print(array_line)"
      ],
      "metadata": {
        "colab": {
          "base_uri": "https://localhost:8080/"
        },
        "id": "qcdkwvrvL4ty",
        "outputId": "cca84dce-8599-4590-85b7-bbd8ed06d604"
      },
      "execution_count": 37,
      "outputs": [
        {
          "output_type": "stream",
          "name": "stdout",
          "text": [
            "[[ 1  2  3  4  5]\n",
            " [ 6  7  8  9 10]\n",
            " [11 12 13 14 15]\n",
            " [16 17 18 19 20]]\n"
          ]
        }
      ]
    },
    {
      "cell_type": "markdown",
      "source": [
        "**Exercise 10**"
      ],
      "metadata": {
        "id": "-G977gQ7Mv37"
      }
    },
    {
      "cell_type": "code",
      "source": [
        "odd_array = user_array[user_array % 2 == 1]\n",
        "print(odd_array)"
      ],
      "metadata": {
        "colab": {
          "base_uri": "https://localhost:8080/"
        },
        "id": "MM1D-8l3MwvB",
        "outputId": "bed3465a-92ed-4532-9e44-25b30e97627f"
      },
      "execution_count": 38,
      "outputs": [
        {
          "output_type": "stream",
          "name": "stdout",
          "text": [
            "[1 3 5 7 9]\n"
          ]
        }
      ]
    }
  ]
}