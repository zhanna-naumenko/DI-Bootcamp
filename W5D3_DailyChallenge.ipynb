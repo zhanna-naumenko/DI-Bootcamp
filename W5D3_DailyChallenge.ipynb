{
  "nbformat": 4,
  "nbformat_minor": 0,
  "metadata": {
    "colab": {
      "provenance": [],
      "authorship_tag": "ABX9TyM+D6SAtAvRHpGPTnDAeEnL",
      "include_colab_link": true
    },
    "kernelspec": {
      "name": "python3",
      "display_name": "Python 3"
    },
    "language_info": {
      "name": "python"
    }
  },
  "cells": [
    {
      "cell_type": "markdown",
      "metadata": {
        "id": "view-in-github",
        "colab_type": "text"
      },
      "source": [
        "<a href=\"https://colab.research.google.com/github/zhanna-naumenko/DI-Bootcamp/blob/main/W5D3_DailyChallenge.ipynb\" target=\"_parent\"><img src=\"https://colab.research.google.com/assets/colab-badge.svg\" alt=\"Open In Colab\"/></a>"
      ]
    },
    {
      "cell_type": "markdown",
      "source": [
        "Write a Python program that performs aggregation queries to get the total number of orders, total sales amount, minimum item price, maximum item price and average order quantity using SQLAlchemy."
      ],
      "metadata": {
        "id": "K-b99VhZcZdL"
      }
    },
    {
      "cell_type": "code",
      "source": [
        "!pip install sqlalchemy"
      ],
      "metadata": {
        "colab": {
          "base_uri": "https://localhost:8080/"
        },
        "id": "0olJd2jkcfUD",
        "outputId": "f4d28c86-bb6e-4b60-e8bf-097eaa0e336c"
      },
      "execution_count": 1,
      "outputs": [
        {
          "output_type": "stream",
          "name": "stdout",
          "text": [
            "Requirement already satisfied: sqlalchemy in /usr/local/lib/python3.10/dist-packages (2.0.29)\n",
            "Requirement already satisfied: typing-extensions>=4.6.0 in /usr/local/lib/python3.10/dist-packages (from sqlalchemy) (4.11.0)\n",
            "Requirement already satisfied: greenlet!=0.4.17 in /usr/local/lib/python3.10/dist-packages (from sqlalchemy) (3.0.3)\n"
          ]
        }
      ]
    },
    {
      "cell_type": "code",
      "source": [
        "!pip install flask_sqlalchemy"
      ],
      "metadata": {
        "colab": {
          "base_uri": "https://localhost:8080/"
        },
        "id": "pdfgwMg2f-Uk",
        "outputId": "3da5e2fd-73a1-42c9-d4e5-ecb72707a6bd"
      },
      "execution_count": 2,
      "outputs": [
        {
          "output_type": "stream",
          "name": "stdout",
          "text": [
            "Collecting flask_sqlalchemy\n",
            "  Downloading flask_sqlalchemy-3.1.1-py3-none-any.whl (25 kB)\n",
            "Requirement already satisfied: flask>=2.2.5 in /usr/local/lib/python3.10/dist-packages (from flask_sqlalchemy) (2.2.5)\n",
            "Requirement already satisfied: sqlalchemy>=2.0.16 in /usr/local/lib/python3.10/dist-packages (from flask_sqlalchemy) (2.0.29)\n",
            "Requirement already satisfied: Werkzeug>=2.2.2 in /usr/local/lib/python3.10/dist-packages (from flask>=2.2.5->flask_sqlalchemy) (3.0.2)\n",
            "Requirement already satisfied: Jinja2>=3.0 in /usr/local/lib/python3.10/dist-packages (from flask>=2.2.5->flask_sqlalchemy) (3.1.3)\n",
            "Requirement already satisfied: itsdangerous>=2.0 in /usr/local/lib/python3.10/dist-packages (from flask>=2.2.5->flask_sqlalchemy) (2.2.0)\n",
            "Requirement already satisfied: click>=8.0 in /usr/local/lib/python3.10/dist-packages (from flask>=2.2.5->flask_sqlalchemy) (8.1.7)\n",
            "Requirement already satisfied: typing-extensions>=4.6.0 in /usr/local/lib/python3.10/dist-packages (from sqlalchemy>=2.0.16->flask_sqlalchemy) (4.11.0)\n",
            "Requirement already satisfied: greenlet!=0.4.17 in /usr/local/lib/python3.10/dist-packages (from sqlalchemy>=2.0.16->flask_sqlalchemy) (3.0.3)\n",
            "Requirement already satisfied: MarkupSafe>=2.0 in /usr/local/lib/python3.10/dist-packages (from Jinja2>=3.0->flask>=2.2.5->flask_sqlalchemy) (2.1.5)\n",
            "Installing collected packages: flask_sqlalchemy\n",
            "Successfully installed flask_sqlalchemy-3.1.1\n"
          ]
        }
      ]
    },
    {
      "cell_type": "code",
      "source": [
        "from sqlalchemy import create_engine, func\n",
        "from sqlalchemy.orm import sessionmaker\n",
        "from sqlalchemy.ext.declarative import declarative_base\n",
        "from sqlalchemy import Column, Integer, String, Float\n",
        "\n",
        "engine = create_engine('sqlite:///shop.db', echo=True)\n",
        "Base = declarative_base()\n",
        "\n",
        "class Order(Base):\n",
        "    __tablename__ = \"orders\"\n",
        "\n",
        "    order_id = Column(Integer, primary_key=True)\n",
        "    user_id = Column(Integer, nullable=False)\n",
        "    item_id = Column(Integer, nullable=False)\n",
        "    order_quantity = Column(Integer, unique=False, nullable=False)\n",
        "    price = Column(Integer, unique=False, nullable=False)\n",
        "    total_cost = Column(Integer, unique=False, nullable=False)\n",
        "\n",
        "    def __init__(self, user_id, item_id, order_quantity, price):\n",
        "        self.user_id = user_id\n",
        "        self.item_id = item_id\n",
        "        self.order_quantity = order_quantity\n",
        "        self.price = price\n",
        "        self.total_cost = self.calculate_total_cost()\n",
        "\n",
        "    def calculate_total_cost(self):\n",
        "        return self.order_quantity * self.price\n",
        "\n",
        "Base.metadata.create_all(engine)\n",
        "\n",
        "Session = sessionmaker(bind=engine)\n",
        "session = Session()\n",
        "\n",
        "order1 = Order(user_id=10, item_id=10, order_quantity=20, price=5)\n",
        "order2 = Order(user_id=12, item_id=1, order_quantity=5, price=20)\n",
        "order3 = Order(user_id=12, item_id=120, order_quantity=30, price=32)\n",
        "order4 = Order(user_id=19, item_id=15, order_quantity=15, price=25)\n",
        "order5 = Order(user_id=16, item_id=36, order_quantity=56, price=2)\n",
        "\n",
        "session.add_all([order1, order2, order3, order4, order5])\n",
        "session.commit()\n",
        "\n",
        "\n",
        "total_orders = session.query(func.count(Order.order_id)).scalar()\n",
        "total_sales_amount = session.query(func.sum(Order.order_quantity * Order.price)).scalar()\n",
        "min_item_price = session.query(func.min(Order.price)).scalar()\n",
        "max_item_price = session.query(func.max(Order.price)).scalar()\n",
        "avg_order_quantity = session.query(func.avg(Order.order_quantity)).scalar()\n",
        "\n",
        "print(\"Total number of orders:\", total_orders)\n",
        "print(\"Total sales amount:\", total_sales_amount)\n",
        "print(\"Minimum item price:\", min_item_price)\n",
        "print(\"Maximum item price:\", max_item_price)\n",
        "print(\"Average order quantity:\", avg_order_quantity)\n",
        "\n",
        "session.close()"
      ],
      "metadata": {
        "colab": {
          "base_uri": "https://localhost:8080/"
        },
        "id": "oYnfmfI-gCVQ",
        "outputId": "efe42f59-5b71-4296-ecca-d223837615e5"
      },
      "execution_count": 3,
      "outputs": [
        {
          "output_type": "stream",
          "name": "stdout",
          "text": [
            "2024-04-29 15:40:33,986 INFO sqlalchemy.engine.Engine BEGIN (implicit)\n"
          ]
        },
        {
          "output_type": "stream",
          "name": "stderr",
          "text": [
            "<ipython-input-3-33902b952b5c>:7: MovedIn20Warning: The ``declarative_base()`` function is now available as sqlalchemy.orm.declarative_base(). (deprecated since: 2.0) (Background on SQLAlchemy 2.0 at: https://sqlalche.me/e/b8d9)\n",
            "  Base = declarative_base()\n",
            "INFO:sqlalchemy.engine.Engine:BEGIN (implicit)\n"
          ]
        },
        {
          "output_type": "stream",
          "name": "stdout",
          "text": [
            "2024-04-29 15:40:33,993 INFO sqlalchemy.engine.Engine PRAGMA main.table_info(\"orders\")\n"
          ]
        },
        {
          "output_type": "stream",
          "name": "stderr",
          "text": [
            "INFO:sqlalchemy.engine.Engine:PRAGMA main.table_info(\"orders\")\n"
          ]
        },
        {
          "output_type": "stream",
          "name": "stdout",
          "text": [
            "2024-04-29 15:40:34,000 INFO sqlalchemy.engine.Engine [raw sql] ()\n"
          ]
        },
        {
          "output_type": "stream",
          "name": "stderr",
          "text": [
            "INFO:sqlalchemy.engine.Engine:[raw sql] ()\n"
          ]
        },
        {
          "output_type": "stream",
          "name": "stdout",
          "text": [
            "2024-04-29 15:40:34,005 INFO sqlalchemy.engine.Engine PRAGMA temp.table_info(\"orders\")\n"
          ]
        },
        {
          "output_type": "stream",
          "name": "stderr",
          "text": [
            "INFO:sqlalchemy.engine.Engine:PRAGMA temp.table_info(\"orders\")\n"
          ]
        },
        {
          "output_type": "stream",
          "name": "stdout",
          "text": [
            "2024-04-29 15:40:34,009 INFO sqlalchemy.engine.Engine [raw sql] ()\n"
          ]
        },
        {
          "output_type": "stream",
          "name": "stderr",
          "text": [
            "INFO:sqlalchemy.engine.Engine:[raw sql] ()\n"
          ]
        },
        {
          "output_type": "stream",
          "name": "stdout",
          "text": [
            "2024-04-29 15:40:34,014 INFO sqlalchemy.engine.Engine \n",
            "CREATE TABLE orders (\n",
            "\torder_id INTEGER NOT NULL, \n",
            "\tuser_id INTEGER NOT NULL, \n",
            "\titem_id INTEGER NOT NULL, \n",
            "\torder_quantity INTEGER NOT NULL, \n",
            "\tprice INTEGER NOT NULL, \n",
            "\ttotal_cost INTEGER NOT NULL, \n",
            "\tPRIMARY KEY (order_id)\n",
            ")\n",
            "\n",
            "\n"
          ]
        },
        {
          "output_type": "stream",
          "name": "stderr",
          "text": [
            "INFO:sqlalchemy.engine.Engine:\n",
            "CREATE TABLE orders (\n",
            "\torder_id INTEGER NOT NULL, \n",
            "\tuser_id INTEGER NOT NULL, \n",
            "\titem_id INTEGER NOT NULL, \n",
            "\torder_quantity INTEGER NOT NULL, \n",
            "\tprice INTEGER NOT NULL, \n",
            "\ttotal_cost INTEGER NOT NULL, \n",
            "\tPRIMARY KEY (order_id)\n",
            ")\n",
            "\n",
            "\n"
          ]
        },
        {
          "output_type": "stream",
          "name": "stdout",
          "text": [
            "2024-04-29 15:40:34,018 INFO sqlalchemy.engine.Engine [no key 0.00471s] ()\n"
          ]
        },
        {
          "output_type": "stream",
          "name": "stderr",
          "text": [
            "INFO:sqlalchemy.engine.Engine:[no key 0.00471s] ()\n"
          ]
        },
        {
          "output_type": "stream",
          "name": "stdout",
          "text": [
            "2024-04-29 15:40:34,048 INFO sqlalchemy.engine.Engine COMMIT\n"
          ]
        },
        {
          "output_type": "stream",
          "name": "stderr",
          "text": [
            "INFO:sqlalchemy.engine.Engine:COMMIT\n"
          ]
        },
        {
          "output_type": "stream",
          "name": "stdout",
          "text": [
            "2024-04-29 15:40:34,059 INFO sqlalchemy.engine.Engine BEGIN (implicit)\n"
          ]
        },
        {
          "output_type": "stream",
          "name": "stderr",
          "text": [
            "INFO:sqlalchemy.engine.Engine:BEGIN (implicit)\n"
          ]
        },
        {
          "output_type": "stream",
          "name": "stdout",
          "text": [
            "2024-04-29 15:40:34,070 INFO sqlalchemy.engine.Engine INSERT INTO orders (user_id, item_id, order_quantity, price, total_cost) VALUES (?, ?, ?, ?, ?) RETURNING order_id\n"
          ]
        },
        {
          "output_type": "stream",
          "name": "stderr",
          "text": [
            "INFO:sqlalchemy.engine.Engine:INSERT INTO orders (user_id, item_id, order_quantity, price, total_cost) VALUES (?, ?, ?, ?, ?) RETURNING order_id\n"
          ]
        },
        {
          "output_type": "stream",
          "name": "stdout",
          "text": [
            "2024-04-29 15:40:34,080 INFO sqlalchemy.engine.Engine [generated in 0.00032s (insertmanyvalues) 1/5 (ordered; batch not supported)] (10, 10, 20, 5, 100)\n"
          ]
        },
        {
          "output_type": "stream",
          "name": "stderr",
          "text": [
            "INFO:sqlalchemy.engine.Engine:[generated in 0.00032s (insertmanyvalues) 1/5 (ordered; batch not supported)] (10, 10, 20, 5, 100)\n"
          ]
        },
        {
          "output_type": "stream",
          "name": "stdout",
          "text": [
            "2024-04-29 15:40:34,084 INFO sqlalchemy.engine.Engine INSERT INTO orders (user_id, item_id, order_quantity, price, total_cost) VALUES (?, ?, ?, ?, ?) RETURNING order_id\n"
          ]
        },
        {
          "output_type": "stream",
          "name": "stderr",
          "text": [
            "INFO:sqlalchemy.engine.Engine:INSERT INTO orders (user_id, item_id, order_quantity, price, total_cost) VALUES (?, ?, ?, ?, ?) RETURNING order_id\n"
          ]
        },
        {
          "output_type": "stream",
          "name": "stdout",
          "text": [
            "2024-04-29 15:40:34,088 INFO sqlalchemy.engine.Engine [insertmanyvalues 2/5 (ordered; batch not supported)] (12, 1, 5, 20, 100)\n"
          ]
        },
        {
          "output_type": "stream",
          "name": "stderr",
          "text": [
            "INFO:sqlalchemy.engine.Engine:[insertmanyvalues 2/5 (ordered; batch not supported)] (12, 1, 5, 20, 100)\n"
          ]
        },
        {
          "output_type": "stream",
          "name": "stdout",
          "text": [
            "2024-04-29 15:40:34,092 INFO sqlalchemy.engine.Engine INSERT INTO orders (user_id, item_id, order_quantity, price, total_cost) VALUES (?, ?, ?, ?, ?) RETURNING order_id\n"
          ]
        },
        {
          "output_type": "stream",
          "name": "stderr",
          "text": [
            "INFO:sqlalchemy.engine.Engine:INSERT INTO orders (user_id, item_id, order_quantity, price, total_cost) VALUES (?, ?, ?, ?, ?) RETURNING order_id\n"
          ]
        },
        {
          "output_type": "stream",
          "name": "stdout",
          "text": [
            "2024-04-29 15:40:34,096 INFO sqlalchemy.engine.Engine [insertmanyvalues 3/5 (ordered; batch not supported)] (12, 120, 30, 32, 960)\n"
          ]
        },
        {
          "output_type": "stream",
          "name": "stderr",
          "text": [
            "INFO:sqlalchemy.engine.Engine:[insertmanyvalues 3/5 (ordered; batch not supported)] (12, 120, 30, 32, 960)\n"
          ]
        },
        {
          "output_type": "stream",
          "name": "stdout",
          "text": [
            "2024-04-29 15:40:34,099 INFO sqlalchemy.engine.Engine INSERT INTO orders (user_id, item_id, order_quantity, price, total_cost) VALUES (?, ?, ?, ?, ?) RETURNING order_id\n"
          ]
        },
        {
          "output_type": "stream",
          "name": "stderr",
          "text": [
            "INFO:sqlalchemy.engine.Engine:INSERT INTO orders (user_id, item_id, order_quantity, price, total_cost) VALUES (?, ?, ?, ?, ?) RETURNING order_id\n"
          ]
        },
        {
          "output_type": "stream",
          "name": "stdout",
          "text": [
            "2024-04-29 15:40:34,105 INFO sqlalchemy.engine.Engine [insertmanyvalues 4/5 (ordered; batch not supported)] (19, 15, 15, 25, 375)\n"
          ]
        },
        {
          "output_type": "stream",
          "name": "stderr",
          "text": [
            "INFO:sqlalchemy.engine.Engine:[insertmanyvalues 4/5 (ordered; batch not supported)] (19, 15, 15, 25, 375)\n"
          ]
        },
        {
          "output_type": "stream",
          "name": "stdout",
          "text": [
            "2024-04-29 15:40:34,109 INFO sqlalchemy.engine.Engine INSERT INTO orders (user_id, item_id, order_quantity, price, total_cost) VALUES (?, ?, ?, ?, ?) RETURNING order_id\n"
          ]
        },
        {
          "output_type": "stream",
          "name": "stderr",
          "text": [
            "INFO:sqlalchemy.engine.Engine:INSERT INTO orders (user_id, item_id, order_quantity, price, total_cost) VALUES (?, ?, ?, ?, ?) RETURNING order_id\n"
          ]
        },
        {
          "output_type": "stream",
          "name": "stdout",
          "text": [
            "2024-04-29 15:40:34,113 INFO sqlalchemy.engine.Engine [insertmanyvalues 5/5 (ordered; batch not supported)] (16, 36, 56, 2, 112)\n"
          ]
        },
        {
          "output_type": "stream",
          "name": "stderr",
          "text": [
            "INFO:sqlalchemy.engine.Engine:[insertmanyvalues 5/5 (ordered; batch not supported)] (16, 36, 56, 2, 112)\n"
          ]
        },
        {
          "output_type": "stream",
          "name": "stdout",
          "text": [
            "2024-04-29 15:40:34,118 INFO sqlalchemy.engine.Engine COMMIT\n"
          ]
        },
        {
          "output_type": "stream",
          "name": "stderr",
          "text": [
            "INFO:sqlalchemy.engine.Engine:COMMIT\n"
          ]
        },
        {
          "output_type": "stream",
          "name": "stdout",
          "text": [
            "2024-04-29 15:40:34,138 INFO sqlalchemy.engine.Engine BEGIN (implicit)\n"
          ]
        },
        {
          "output_type": "stream",
          "name": "stderr",
          "text": [
            "INFO:sqlalchemy.engine.Engine:BEGIN (implicit)\n"
          ]
        },
        {
          "output_type": "stream",
          "name": "stdout",
          "text": [
            "2024-04-29 15:40:34,147 INFO sqlalchemy.engine.Engine SELECT count(orders.order_id) AS count_1 \n",
            "FROM orders\n"
          ]
        },
        {
          "output_type": "stream",
          "name": "stderr",
          "text": [
            "INFO:sqlalchemy.engine.Engine:SELECT count(orders.order_id) AS count_1 \n",
            "FROM orders\n"
          ]
        },
        {
          "output_type": "stream",
          "name": "stdout",
          "text": [
            "2024-04-29 15:40:34,153 INFO sqlalchemy.engine.Engine [generated in 0.00559s] ()\n"
          ]
        },
        {
          "output_type": "stream",
          "name": "stderr",
          "text": [
            "INFO:sqlalchemy.engine.Engine:[generated in 0.00559s] ()\n"
          ]
        },
        {
          "output_type": "stream",
          "name": "stdout",
          "text": [
            "2024-04-29 15:40:34,164 INFO sqlalchemy.engine.Engine SELECT sum(orders.order_quantity * orders.price) AS sum_1 \n",
            "FROM orders\n"
          ]
        },
        {
          "output_type": "stream",
          "name": "stderr",
          "text": [
            "INFO:sqlalchemy.engine.Engine:SELECT sum(orders.order_quantity * orders.price) AS sum_1 \n",
            "FROM orders\n"
          ]
        },
        {
          "output_type": "stream",
          "name": "stdout",
          "text": [
            "2024-04-29 15:40:34,170 INFO sqlalchemy.engine.Engine [generated in 0.00649s] ()\n"
          ]
        },
        {
          "output_type": "stream",
          "name": "stderr",
          "text": [
            "INFO:sqlalchemy.engine.Engine:[generated in 0.00649s] ()\n"
          ]
        },
        {
          "output_type": "stream",
          "name": "stdout",
          "text": [
            "2024-04-29 15:40:34,178 INFO sqlalchemy.engine.Engine SELECT min(orders.price) AS min_1 \n",
            "FROM orders\n"
          ]
        },
        {
          "output_type": "stream",
          "name": "stderr",
          "text": [
            "INFO:sqlalchemy.engine.Engine:SELECT min(orders.price) AS min_1 \n",
            "FROM orders\n"
          ]
        },
        {
          "output_type": "stream",
          "name": "stdout",
          "text": [
            "2024-04-29 15:40:34,214 INFO sqlalchemy.engine.Engine [generated in 0.03617s] ()\n"
          ]
        },
        {
          "output_type": "stream",
          "name": "stderr",
          "text": [
            "INFO:sqlalchemy.engine.Engine:[generated in 0.03617s] ()\n"
          ]
        },
        {
          "output_type": "stream",
          "name": "stdout",
          "text": [
            "2024-04-29 15:40:34,228 INFO sqlalchemy.engine.Engine SELECT max(orders.price) AS max_1 \n",
            "FROM orders\n"
          ]
        },
        {
          "output_type": "stream",
          "name": "stderr",
          "text": [
            "INFO:sqlalchemy.engine.Engine:SELECT max(orders.price) AS max_1 \n",
            "FROM orders\n"
          ]
        },
        {
          "output_type": "stream",
          "name": "stdout",
          "text": [
            "2024-04-29 15:40:34,249 INFO sqlalchemy.engine.Engine [generated in 0.02084s] ()\n"
          ]
        },
        {
          "output_type": "stream",
          "name": "stderr",
          "text": [
            "INFO:sqlalchemy.engine.Engine:[generated in 0.02084s] ()\n"
          ]
        },
        {
          "output_type": "stream",
          "name": "stdout",
          "text": [
            "2024-04-29 15:40:34,261 INFO sqlalchemy.engine.Engine SELECT avg(orders.order_quantity) AS avg_1 \n",
            "FROM orders\n"
          ]
        },
        {
          "output_type": "stream",
          "name": "stderr",
          "text": [
            "INFO:sqlalchemy.engine.Engine:SELECT avg(orders.order_quantity) AS avg_1 \n",
            "FROM orders\n"
          ]
        },
        {
          "output_type": "stream",
          "name": "stdout",
          "text": [
            "2024-04-29 15:40:34,267 INFO sqlalchemy.engine.Engine [generated in 0.00663s] ()\n"
          ]
        },
        {
          "output_type": "stream",
          "name": "stderr",
          "text": [
            "INFO:sqlalchemy.engine.Engine:[generated in 0.00663s] ()\n"
          ]
        },
        {
          "output_type": "stream",
          "name": "stdout",
          "text": [
            "Total number of orders: 5\n",
            "Total sales amount: 1647\n",
            "Minimum item price: 2\n",
            "Maximum item price: 32\n",
            "Average order quantity: 25.2\n",
            "2024-04-29 15:40:34,272 INFO sqlalchemy.engine.Engine ROLLBACK\n"
          ]
        },
        {
          "output_type": "stream",
          "name": "stderr",
          "text": [
            "INFO:sqlalchemy.engine.Engine:ROLLBACK\n"
          ]
        }
      ]
    }
  ]
}