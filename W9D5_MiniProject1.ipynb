{
  "metadata": {
    "kernelspec": {
      "language": "python",
      "display_name": "Python 3",
      "name": "python3"
    },
    "language_info": {
      "pygments_lexer": "ipython3",
      "nbconvert_exporter": "python",
      "version": "3.6.4",
      "file_extension": ".py",
      "codemirror_mode": {
        "name": "ipython",
        "version": 3
      },
      "name": "python",
      "mimetype": "text/x-python"
    },
    "kaggle": {
      "accelerator": "none",
      "dataSources": [
        {
          "sourceId": 1643659,
          "sourceType": "datasetVersion",
          "datasetId": 971923
        }
      ],
      "dockerImageVersionId": 30028,
      "isInternetEnabled": false,
      "language": "python",
      "sourceType": "notebook",
      "isGpuEnabled": false
    },
    "colab": {
      "provenance": [],
      "include_colab_link": true
    }
  },
  "nbformat_minor": 0,
  "nbformat": 4,
  "cells": [
    {
      "cell_type": "markdown",
      "metadata": {
        "id": "view-in-github",
        "colab_type": "text"
      },
      "source": [
        "<a href=\"https://colab.research.google.com/github/zhanna-naumenko/DI-Bootcamp/blob/main/W9D5_MiniProject1.ipynb\" target=\"_parent\"><img src=\"https://colab.research.google.com/assets/colab-badge.svg\" alt=\"Open In Colab\"/></a>"
      ]
    },
    {
      "cell_type": "markdown",
      "source": [
        "# Data Science Analyze and Present A/B Test Results\n",
        "\n",
        "X company recently introduced a new bidding type, “average bidding”, as an alternative to its exisiting bidding\n",
        "type, called “maximum bidding”. One of our clients, X.com, has decided to test this new feature\n",
        "and wants to conduct an A/B test to understand if average bidding brings more conversions than maximum\n",
        "bidding.\n",
        "\n",
        "In this A/B test, X.com randomly splits its audience into two equally sized groups, e.g. the test\n",
        "and the control group. A X company ad campaign with “maximum bidding” is served to “control group” and\n",
        "another campaign with “average bidding” is served to the “test group”.\n",
        "\n",
        "The A/B test has run for 1 month and X.com now expects you to analyze and present the results\n",
        "of this A/B test.\n",
        "\n",
        "\n",
        "\n",
        "##### You should answer the following questions in this notebook\n",
        "\n",
        "1. How would you define the hypothesis of this A/B test?\n",
        "2. Can we conclude statistically significant results?\n",
        "3. Which statistical test did you use, and why?\n",
        "4. Based on your answer to Question 2, what would be your recommendation to client?\n",
        "\n",
        "\n",
        "##### Hints:\n",
        "\n",
        "1. The customer journey for this campaign is:\n",
        "    1. User sees an ad (Impression)\n",
        "    2. User clicks on the website link on the ad (Website Click)\n",
        "    3. User makes a search on the website (Search)\n",
        "    4. User views details of a product (View Content)\n",
        "    5. User adds the product to the cart (Add to Cart)\n",
        "    6. User purchases the product (Purchase)\n",
        "2. Use visualizations to compare test and control group metrics, such as Website Click Through Rate, Cost per Action, and Conversion Rates in addition to Purchase numbers.\n",
        "3. If you see trends, anomalies or other patterns, discuss these in your notebool.\n",
        "4. You can make assumptions if needed.\n",
        "\n",
        "\n",
        "**Note: I translated also Turkish language**"
      ],
      "metadata": {
        "id": "nbo-72ZODKz2"
      }
    },
    {
      "cell_type": "markdown",
      "source": [
        "## 1. Import libraries"
      ],
      "metadata": {
        "id": "1nq1PmtlDKz5"
      }
    },
    {
      "cell_type": "code",
      "source": [
        "import pandas as pd\n",
        "import numpy as np\n",
        "import seaborn as sns\n",
        "import matplotlib.pyplot as plt\n",
        "from scipy import stats\n",
        "from scipy.stats import skewtest\n",
        "from scipy.stats import median_test\n",
        "from scipy.stats import shapiro\n",
        "import pylab\n",
        "from sklearn.neighbors import LocalOutlierFactor\n",
        "from scipy.stats import levene\n",
        "from statsmodels.stats.proportion import proportions_ztest\n",
        "from sklearn.impute import KNNImputer\n",
        "\n",
        "pd.set_option(\"display.max_columns\",None);\n",
        "pd.set_option(\"display.max_rows\",None);"
      ],
      "metadata": {
        "trusted": true,
        "id": "ZsKzhELSDKz5"
      },
      "execution_count": 1,
      "outputs": []
    },
    {
      "cell_type": "markdown",
      "source": [
        "## 2. Functions"
      ],
      "metadata": {
        "id": "AMaVKs7CDKz6"
      }
    },
    {
      "cell_type": "code",
      "source": [
        "#Maximum Bidding(Existing)\n",
        "control = pd.read_excel(\"control_group.xlsx\")\n",
        "#Average Bidding(New)\n",
        "test = pd.read_excel(\"test_group.xlsx\")"
      ],
      "metadata": {
        "id": "rrYQOsxL_uez"
      },
      "execution_count": 4,
      "outputs": []
    },
    {
      "cell_type": "code",
      "source": [
        "def read_data() :\n",
        "    \"\"\"\n",
        "      Reads and loads control and test group data from an Excel file.\n",
        "    - **Control group** (Maximum Bidding): Existing campaign data.\n",
        "    - **Test group** (Average Bidding): Data from the new bidding strategy.\n",
        "    The function removes rows with NaN values that originated from notes in the Excel file for the control group.\n",
        "    \"\"\"\n",
        "    #Maximum Bidding(Existing)\n",
        "    control = pd.read_excel(\"control_group.xlsx\")\n",
        "    #Average Bidding(New)\n",
        "    test = pd.read_excel(\"test_group.xlsx\")\n",
        "\n",
        "    #control dataframeinde exceldeki not kısmından gelen NaN value içeren indexler uçuruldu\n",
        "    control.drop(control.index[[30,31]], inplace = True)\n",
        "\n",
        "    return control, test\n",
        "\n",
        "def get_catvar(df) :\n",
        "    \"\"\"\n",
        "    Identifies and extracts categorical variables from a DataFrame.\n",
        "    - Returns the original DataFrame, a DataFrame of only categorical variables, and the names of the categorical columns.\n",
        "    \"\"\"\n",
        "    cat_col = [col for col in df.columns if ( (df[col].dtype == 'object') | (df[col].dtype == 'bool'))]\n",
        "    kat_df = pd.DataFrame(df[cat_col], index = df[cat_col].index)\n",
        "    return df, kat_df, cat_col\n",
        "\n",
        "def get_numvar(cat_col,df):\n",
        "    \"\"\"\n",
        "    Identifies and extracts numerical variables from a DataFrame, excluding those specified as categorical.\n",
        "    - Returns the original DataFrame, a DataFrame of only numerical variables, and the names of the numerical columns.\n",
        "    \"\"\"\n",
        "    num_col = [c for c in df.columns if c not in cat_col]\n",
        "    num_df = pd.DataFrame(df[num_col], index = df[num_col].index)\n",
        "    return df, num_df, num_col\n",
        "\n",
        "def fill_NaNValue(num_control) :\n",
        "    \"\"\"\n",
        "    Implements K-Nearest Neighbors Imputation to fill in missing values in numerical columns of the control group.\n",
        "    - Returns a DataFrame with missing values filled.\n",
        "    \"\"\"\n",
        "    cols = num_control.columns\n",
        "    imputer = KNNImputer(n_neighbors=8)\n",
        "    num_control = imputer.fit_transform(num_control)\n",
        "    num_control=pd.DataFrame(num_control,columns=cols)\n",
        "    return num_control\n",
        "\n",
        "def convert_datatype(control):\n",
        "    \"\"\"\n",
        "      Converts specified columns in the control group DataFrame to integer data types.\n",
        "    - This is important for ensuring data consistency and correctness in calculations.\n",
        "    \"\"\"\n",
        "    control = control.astype({'# of Impressions' : 'int64',\n",
        "                        'Reach': 'int64',\n",
        "                        '# of Website Clicks' : 'int64',\n",
        "                        '# of Searches': 'int64',\n",
        "                        '# of View Content': 'int64',\n",
        "                        '# of Add to Cart': 'int64',\n",
        "                        '# of Purchase' : 'int64'})\n",
        "    return control\n",
        "\n",
        "def outliers(control, test):\n",
        "    \"\"\"\n",
        "    Detects and handles outliers in the test group data using Local Outlier Factor (LOF).\n",
        "    - Prints scores of the detected outliers and modifies extreme outlier values based on a specified threshold.\n",
        "    \"\"\"\n",
        "    clf= LocalOutlierFactor(n_neighbors = 20, contamination = 0.1)\n",
        "    clf.fit_predict(test.iloc[:,2:])[0:10]\n",
        "\n",
        "    test_scores=clf.negative_outlier_factor_\n",
        "    print(\"Test Score: \" , np.sort(test_scores)[0:20])\n",
        "    sns.boxplot(test_scores);\n",
        "\n",
        "    threshold=np.sort(test_scores)[4]\n",
        "    print(\"Threshold score: \", threshold)\n",
        "\n",
        "    test.loc[test_scores < -1.50].index\n",
        "    test.loc[test_scores == threshold]\n",
        "\n",
        "    test.iloc[0,2:]=[2742.245945,79574,57168,3086,1263,1098,226,277]\n",
        "    sns.boxplot(x=\"variable\", y=\"value\", data=pd.melt(test.iloc[:,3:5]));\n",
        "    sns.boxplot(x=\"variable\", y=\"value\", data=pd.melt(test.iloc[:,5:6]));\n",
        "    sns.boxplot(x=\"variable\", y=\"value\", data=pd.melt(test.iloc[:,6:]));\n",
        "\n",
        "\n",
        "def feature_engineering(control, test):\n",
        "    \"\"\"\n",
        "    Creates new features for both control and test groups to aid in analysis:\n",
        "    - Website Click Through Rate: The percentage of clicks per number of impressions.\n",
        "    - Number of Action: Sum of various engagement metrics like impressions, clicks, etc.\n",
        "    - Cost per Action: The spend divided by the number of actions.\n",
        "    - Conversion Rate: The number of actions divided by the number of clicks, expressed as a percentage.\n",
        "    \"\"\"\n",
        "    control[\"Website Click Through Rate\"] = control[\"# of Website Clicks\"] / control[\"# of Impressions\"] * 100\n",
        "    test[\"Website Click Through Rate\"] = test[\"# of Website Clicks\"] / test[\"# of Impressions\"] * 100\n",
        "\n",
        "    control[\"Number of Action\"] = control[\"# of Impressions\"] + control[\"# of Website Clicks\"] + control[\"# of Searches\"] + control[\"# of View Content\"] + control[\"# of Add to Cart\"] + control[\"# of Purchase\"]\n",
        "    test[\"Number of Action\"] = test[\"# of Impressions\"] + test[\"# of Website Clicks\"] + test[\"# of Searches\"] + test[\"# of View Content\"] + test[\"# of Add to Cart\"] + test[\"# of Purchase\"]\n",
        "\n",
        "    control[\"Cost per Action\"] = control[\"Spend [USD]\"] / control[\"Number of Action\"]\n",
        "    test[\"Cost per Action\"] = test[\"Spend [USD]\"] / test[\"Number of Action\"]\n",
        "\n",
        "    control[\"Conversion Rate\"] = control[\"Number of Action\"] / control[\"# of Website Clicks\"] * 100\n",
        "    test[\"Conversion Rate\"] = test[\"Number of Action\"] / test[\"# of Website Clicks\"] * 100\n",
        "\n",
        "    return control, test\n",
        "\n",
        "def data_prepare_for_visualization(control,test):\n",
        "    \"\"\"\n",
        "    Prepares control and test group data for visualization by extracting specific metrics and labeling them for group comparison.\n",
        "    - Returns a consolidated DataFrame of both groups for visualization purposes.\n",
        "    \"\"\"\n",
        "    control_nop = pd.DataFrame(control[\"# of Purchase\"])\n",
        "    test_nop = pd.DataFrame(test[\"# of Purchase\"])\n",
        "\n",
        "    control_wctr= pd.DataFrame(control[\"Website Click Through Rate\"])\n",
        "    test_wctr= pd.DataFrame(test[\"Website Click Through Rate\"])\n",
        "\n",
        "    control_cpa= pd.DataFrame(control[\"Cost per Action\"])\n",
        "    test_cpa= pd.DataFrame(test[\"Cost per Action\"])\n",
        "\n",
        "    control_cr= pd.DataFrame(control[\"Conversion Rate\"])\n",
        "    test_cr= pd.DataFrame(test[\"Conversion Rate\"])\n",
        "\n",
        "    Group_A = pd.concat([control_nop, control_wctr, control_cpa, control_cr], axis = 1)\n",
        "    Group_A[\"Group\"] = \"A (MaximumBidding)\"\n",
        "\n",
        "    Group_B = pd.concat([test_nop, test_wctr, test_cpa, test_cr], axis = 1)\n",
        "    Group_B[\"Group\"] = \"B (AverageBidding)\"\n",
        "\n",
        "    #Tum veri\n",
        "    AB = pd.concat([Group_A, Group_B])\n",
        "    AB\n",
        "    return AB, control_nop, test_nop\n",
        "\n",
        "def data_prepare_for_hypothesis_testing(control_nop, test_nop):\n",
        "    \"\"\"\n",
        "    Prepares control and test group data for hypothesis testing by combining \"# of Purchase\" data into a single DataFrame.\n",
        "    - The resulting DataFrame is structured for direct comparison between groups.\n",
        "    \"\"\"\n",
        "    controlB = pd.concat([control_nop, test_nop], axis = 1)\n",
        "    controlB.columns = [\"A\",\"B\"]\n",
        "    return controlB\n",
        "\n",
        "def num_boxplot(fig, axarr, boyut, cols, hue):\n",
        "    \"\"\"\n",
        "    A helper function for plotting boxplots of numerical data, categorized by the experiment group.\n",
        "    - It iterates over specified dimensions and columns to generate boxplots for visual analysis.\n",
        "    \"\"\"\n",
        "    for i in boyut :\n",
        "        for j in boyut :\n",
        "            for c in cols :\n",
        "                sns.boxplot(y=c, x = hue, hue = hue, data = AB, ax=axarr[i][j])\n",
        "                cols.remove(c)\n",
        "                break\n",
        "\n",
        "def show_boxplot(nrows, ncols, boyut, cols, figsize):\n",
        "    \"\"\"\n",
        "    Generates boxplots for the specified columns and groups, utilizing `num_boxplot`.\n",
        "    - Allows specification of the number of rows and columns in the figure, and figure size.\n",
        "    \"\"\"\n",
        "    fig, axarr = plt.subplots(nrows, ncols, figsize=figsize)\n",
        "    num_boxplot(fig, axarr, boyut, cols, \"Group\")\n",
        "\n",
        "\n",
        "def checkReject(p_value, alpha = 0.05):\n",
        "    \"\"\"\n",
        "    Checks whether the p-value from hypothesis testing is significant enough to reject the null hypothesis, given an alpha level (default 0.05).\n",
        "    - Prints the outcome of the hypothesis test in the context of rejecting or not rejecting the null hypothesis.\n",
        "    \"\"\"\n",
        "    if p_value < alpha :\n",
        "        print(f'{p_value} < alpha(0.05) so >>> H0 REJECTED')\n",
        "\n",
        "    elif p_value > alpha :\n",
        "        print(f'{p_value} > alpha(0.05) so >>> H0 CAN\\'T BE REJECTED')"
      ],
      "metadata": {
        "trusted": true,
        "id": "bwPNKkN3DKz7"
      },
      "execution_count": 2,
      "outputs": []
    },
    {
      "cell_type": "markdown",
      "source": [
        "## 3. Data Preparation"
      ],
      "metadata": {
        "id": "eTVHnvKUDKz8"
      }
    },
    {
      "cell_type": "code",
      "source": [
        "control, test = read_data()"
      ],
      "metadata": {
        "id": "lsdMN52uTLYp"
      },
      "execution_count": null,
      "outputs": []
    },
    {
      "cell_type": "code",
      "source": [
        "#TODO : print what is control\n",
        "print(control.head())"
      ],
      "metadata": {
        "trusted": true,
        "id": "A7ip7bmEDKz9",
        "colab": {
          "base_uri": "https://localhost:8080/"
        },
        "outputId": "2d304967-2394-418d-fe2b-40d0769d1335"
      },
      "execution_count": 5,
      "outputs": [
        {
          "output_type": "stream",
          "name": "stdout",
          "text": [
            "      Campaign Name       Date  Spend [USD]  # of Impressions     Reach  \\\n",
            "0  Control Campaign 2019-08-01         2280           82702.0   56930.0   \n",
            "1  Control Campaign 2019-08-02         1757          121040.0  102513.0   \n",
            "2  Control Campaign 2019-08-03         2343          131711.0  110862.0   \n",
            "3  Control Campaign 2019-08-04         1940           72878.0   61235.0   \n",
            "4  Control Campaign 2019-08-05         1835               NaN       NaN   \n",
            "\n",
            "   # of Website Clicks  # of Searches  # of View Content  # of Add to Cart  \\\n",
            "0               7016.0         2290.0             2159.0            1819.0   \n",
            "1               8110.0         2033.0             1841.0            1219.0   \n",
            "2               6508.0         1737.0             1549.0            1134.0   \n",
            "3               3065.0         1042.0              982.0            1183.0   \n",
            "4                  NaN            NaN                NaN               NaN   \n",
            "\n",
            "   # of Purchase  \n",
            "0          618.0  \n",
            "1          511.0  \n",
            "2          372.0  \n",
            "3          340.0  \n",
            "4            NaN  \n"
          ]
        }
      ]
    },
    {
      "cell_type": "code",
      "source": [
        "#TODO : print what is test\n",
        "print(test.head())"
      ],
      "metadata": {
        "trusted": true,
        "id": "i5g2eQGeDKz9",
        "colab": {
          "base_uri": "https://localhost:8080/"
        },
        "outputId": "ebe44b95-15f1-4861-ccfe-4b142b4f4d26"
      },
      "execution_count": 6,
      "outputs": [
        {
          "output_type": "stream",
          "name": "stdout",
          "text": [
            "   Campaign Name       Date  Spend [USD]  # of Impressions  Reach  \\\n",
            "0  Test Campaign 2019-08-01         3008             39550  35820   \n",
            "1  Test Campaign 2019-08-02         2542            100719  91236   \n",
            "2  Test Campaign 2019-08-03         2365             70263  45198   \n",
            "3  Test Campaign 2019-08-04         2710             78451  25937   \n",
            "4  Test Campaign 2019-08-05         2297            114295  95138   \n",
            "\n",
            "   # of Website Clicks  # of Searches  # of View Content  # of Add to Cart  \\\n",
            "0                 3038           1946               1069               894   \n",
            "1                 4657           2359               1548               879   \n",
            "2                 7885           2572               2367              1268   \n",
            "3                 4216           2216               1437               566   \n",
            "4                 5863           2106                858               956   \n",
            "\n",
            "   # of Purchase  \n",
            "0            255  \n",
            "1            677  \n",
            "2            578  \n",
            "3            340  \n",
            "4            768  \n"
          ]
        }
      ]
    },
    {
      "cell_type": "code",
      "source": [
        "#TODO : check for null values in control\n",
        "print(control.isnull().sum())\n",
        "print(test.isnull().sum())"
      ],
      "metadata": {
        "trusted": true,
        "id": "VSQKSys2DKz-",
        "colab": {
          "base_uri": "https://localhost:8080/"
        },
        "outputId": "39cc5b3c-df90-431e-c30a-6529567c34c8"
      },
      "execution_count": 7,
      "outputs": [
        {
          "output_type": "stream",
          "name": "stdout",
          "text": [
            "Campaign Name          0\n",
            "Date                   0\n",
            "Spend [USD]            0\n",
            "# of Impressions       1\n",
            "Reach                  1\n",
            "# of Website Clicks    1\n",
            "# of Searches          1\n",
            "# of View Content      1\n",
            "# of Add to Cart       1\n",
            "# of Purchase          1\n",
            "dtype: int64\n",
            "Campaign Name          0\n",
            "Date                   0\n",
            "Spend [USD]            0\n",
            "# of Impressions       0\n",
            "Reach                  0\n",
            "# of Website Clicks    0\n",
            "# of Searches          0\n",
            "# of View Content      0\n",
            "# of Add to Cart       0\n",
            "# of Purchase          0\n",
            "dtype: int64\n"
          ]
        }
      ]
    },
    {
      "cell_type": "code",
      "source": [
        "#TODO : segment the control DataFrame into two separate DataFrames based on data type: one for categorical variables (kat_control) and one for numerical variables (num_control).\n",
        "control, kat_control, cat_cols = get_catvar(control)\n",
        "control, num_control, num_cols = get_numvar(cat_cols, control)\n",
        "#TODO :produces lists of column names for both categories for further use or reference.\n",
        "print(kat_control.columns)\n",
        "print(num_control.columns)"
      ],
      "metadata": {
        "trusted": true,
        "id": "XUBSKm7dDKz_",
        "colab": {
          "base_uri": "https://localhost:8080/"
        },
        "outputId": "322656dd-1239-4947-e7e7-77a3c6e2d488"
      },
      "execution_count": 8,
      "outputs": [
        {
          "output_type": "stream",
          "name": "stdout",
          "text": [
            "Index(['Campaign Name'], dtype='object')\n",
            "Index(['Date', 'Spend [USD]', '# of Impressions', 'Reach',\n",
            "       '# of Website Clicks', '# of Searches', '# of View Content',\n",
            "       '# of Add to Cart', '# of Purchase'],\n",
            "      dtype='object')\n"
          ]
        }
      ]
    },
    {
      "cell_type": "code",
      "source": [
        "num_control.info()"
      ],
      "metadata": {
        "colab": {
          "base_uri": "https://localhost:8080/"
        },
        "id": "S9p3r6vNHfj7",
        "outputId": "bca1eb93-1102-491e-ead6-2a547d220f1a"
      },
      "execution_count": 9,
      "outputs": [
        {
          "output_type": "stream",
          "name": "stdout",
          "text": [
            "<class 'pandas.core.frame.DataFrame'>\n",
            "RangeIndex: 30 entries, 0 to 29\n",
            "Data columns (total 9 columns):\n",
            " #   Column               Non-Null Count  Dtype         \n",
            "---  ------               --------------  -----         \n",
            " 0   Date                 30 non-null     datetime64[ns]\n",
            " 1   Spend [USD]          30 non-null     int64         \n",
            " 2   # of Impressions     29 non-null     float64       \n",
            " 3   Reach                29 non-null     float64       \n",
            " 4   # of Website Clicks  29 non-null     float64       \n",
            " 5   # of Searches        29 non-null     float64       \n",
            " 6   # of View Content    29 non-null     float64       \n",
            " 7   # of Add to Cart     29 non-null     float64       \n",
            " 8   # of Purchase        29 non-null     float64       \n",
            "dtypes: datetime64[ns](1), float64(7), int64(1)\n",
            "memory usage: 2.2 KB\n"
          ]
        }
      ]
    },
    {
      "cell_type": "code",
      "source": [
        "# TODO : Fill the control dataframe values NaN value with KNNImputer.\n",
        "num_control = fill_NaNValue(num_control[['Spend [USD]', '# of Impressions', 'Reach', '# of Website Clicks', '# of Searches', '# of View Content', '# of Add to Cart', '# of Purchase']])"
      ],
      "metadata": {
        "trusted": true,
        "id": "0JmqqTWJDKz_"
      },
      "execution_count": 11,
      "outputs": []
    },
    {
      "cell_type": "code",
      "source": [
        "num_control.isnull().sum()"
      ],
      "metadata": {
        "colab": {
          "base_uri": "https://localhost:8080/"
        },
        "id": "97Op2S7-BPr4",
        "outputId": "539c3b35-6cac-4478-9cf9-d35b3d3a7eb5"
      },
      "execution_count": 12,
      "outputs": [
        {
          "output_type": "execute_result",
          "data": {
            "text/plain": [
              "Spend [USD]            0\n",
              "# of Impressions       0\n",
              "Reach                  0\n",
              "# of Website Clicks    0\n",
              "# of Searches          0\n",
              "# of View Content      0\n",
              "# of Add to Cart       0\n",
              "# of Purchase          0\n",
              "dtype: int64"
            ]
          },
          "metadata": {},
          "execution_count": 12
        }
      ]
    },
    {
      "cell_type": "code",
      "source": [
        "# TODO : Combine categorical and numerical variables with the concept.\n",
        "control = pd.concat([kat_control, num_control], axis=1)"
      ],
      "metadata": {
        "trusted": true,
        "id": "fvBuwD66DK0B"
      },
      "execution_count": 13,
      "outputs": []
    },
    {
      "cell_type": "code",
      "source": [
        "# Let's do a data type conversion.\n",
        "\n",
        "control = convert_datatype(control)\n",
        "\n",
        "print(control.shape)\n",
        "print(test.shape)"
      ],
      "metadata": {
        "trusted": true,
        "id": "upfhU8BZDK0C",
        "colab": {
          "base_uri": "https://localhost:8080/"
        },
        "outputId": "5cf8eb8f-1a73-417c-be1c-5da6ca8dc5fc"
      },
      "execution_count": 14,
      "outputs": [
        {
          "output_type": "stream",
          "name": "stdout",
          "text": [
            "(30, 9)\n",
            "(30, 10)\n"
          ]
        }
      ]
    },
    {
      "cell_type": "code",
      "source": [
        "# Check your dataframes\n",
        "\n",
        "print(control.info())\n",
        "print(test.info())"
      ],
      "metadata": {
        "trusted": true,
        "id": "FsNo0ySmDK0C",
        "colab": {
          "base_uri": "https://localhost:8080/"
        },
        "outputId": "c8b478ad-7425-4aed-9fbb-8484cd3ba616"
      },
      "execution_count": 15,
      "outputs": [
        {
          "output_type": "stream",
          "name": "stdout",
          "text": [
            "<class 'pandas.core.frame.DataFrame'>\n",
            "RangeIndex: 30 entries, 0 to 29\n",
            "Data columns (total 9 columns):\n",
            " #   Column               Non-Null Count  Dtype  \n",
            "---  ------               --------------  -----  \n",
            " 0   Campaign Name        30 non-null     object \n",
            " 1   Spend [USD]          30 non-null     float64\n",
            " 2   # of Impressions     30 non-null     int64  \n",
            " 3   Reach                30 non-null     int64  \n",
            " 4   # of Website Clicks  30 non-null     int64  \n",
            " 5   # of Searches        30 non-null     int64  \n",
            " 6   # of View Content    30 non-null     int64  \n",
            " 7   # of Add to Cart     30 non-null     int64  \n",
            " 8   # of Purchase        30 non-null     int64  \n",
            "dtypes: float64(1), int64(7), object(1)\n",
            "memory usage: 2.2+ KB\n",
            "None\n",
            "<class 'pandas.core.frame.DataFrame'>\n",
            "RangeIndex: 30 entries, 0 to 29\n",
            "Data columns (total 10 columns):\n",
            " #   Column               Non-Null Count  Dtype         \n",
            "---  ------               --------------  -----         \n",
            " 0   Campaign Name        30 non-null     object        \n",
            " 1   Date                 30 non-null     datetime64[ns]\n",
            " 2   Spend [USD]          30 non-null     int64         \n",
            " 3   # of Impressions     30 non-null     int64         \n",
            " 4   Reach                30 non-null     int64         \n",
            " 5   # of Website Clicks  30 non-null     int64         \n",
            " 6   # of Searches        30 non-null     int64         \n",
            " 7   # of View Content    30 non-null     int64         \n",
            " 8   # of Add to Cart     30 non-null     int64         \n",
            " 9   # of Purchase        30 non-null     int64         \n",
            "dtypes: datetime64[ns](1), int64(8), object(1)\n",
            "memory usage: 2.5+ KB\n",
            "None\n"
          ]
        }
      ]
    },
    {
      "cell_type": "markdown",
      "source": [
        "## 4. Preparing Data for Hypothesis Testing (A/B Test)\n",
        "\n"
      ],
      "metadata": {
        "id": "3fgAFAElDK0C"
      }
    },
    {
      "cell_type": "code",
      "source": [
        "control = convert_datatype(control)"
      ],
      "metadata": {
        "id": "5S-xtzV3TvH7"
      },
      "execution_count": 16,
      "outputs": []
    },
    {
      "cell_type": "code",
      "source": [
        "#TODO : Apply the feature engineering on control and test, what does the function do exactly ?\n",
        "control, test = feature_engineering(control, test)\n",
        "#TODO : Prepare and generate features for visualization with the help of a function\n",
        "AB, control_nop, test_nop = data_prepare_for_visualization(control, test)\n",
        "\n",
        "# Now `AB` contains the consolidated DataFrame for visualization purposes\n",
        "# Example visualization (boxplot)\n",
        "show_boxplot(nrows=2, ncols=2, boyut=[0, 1], cols=['# of Purchase', 'Website Click Through Rate', 'Cost per Action', 'Conversion Rate'], figsize=(15, 10))\n",
        "plt.show()"
      ],
      "metadata": {
        "trusted": true,
        "id": "dGIMTMSVDK0C",
        "colab": {
          "base_uri": "https://localhost:8080/",
          "height": 851
        },
        "outputId": "98d0daed-1913-43ee-e1d3-314d92c026a9"
      },
      "execution_count": 18,
      "outputs": [
        {
          "output_type": "display_data",
          "data": {
            "text/plain": [
              "<Figure size 1500x1000 with 4 Axes>"
            ],
            "image/png": "[encoded data removed]"
          },
          "metadata": {}
        }
      ]
    },
    {
      "cell_type": "markdown",
      "source": [
        "Let's look at the numbers A and B."
      ],
      "metadata": {
        "id": "zWhSa2gMDK0D"
      }
    },
    {
      "cell_type": "code",
      "source": [
        "AB[\"Group\"].value_counts()"
      ],
      "metadata": {
        "trusted": true,
        "id": "kqButFScDK0D",
        "colab": {
          "base_uri": "https://localhost:8080/"
        },
        "outputId": "d460f510-ff42-4bc3-ee2b-9fdb4dfb15ce"
      },
      "execution_count": 19,
      "outputs": [
        {
          "output_type": "execute_result",
          "data": {
            "text/plain": [
              "Group\n",
              "A (MaximumBidding)    30\n",
              "B (AverageBidding)    30\n",
              "Name: count, dtype: int64"
            ]
          },
          "metadata": {},
          "execution_count": 19
        }
      ]
    },
    {
      "cell_type": "markdown",
      "source": [
        "### 4.1. Website Click Through Rate (CTR)\n",
        "Review :\n",
        "- It is a rate that shows how often the users who saw the ad CLICK the ad.\n",
        "- Number of Ad Clicks / Number of Ad Displays\n",
        "- Example: 5 clicks, CTR at 100 impressions = 5%\n",
        "\n",
        "- ##### Use visualizations to compare test and control group metrics, such as Website Click Through Rate, Cost per Action, and Conversion Rates in addition to Purchase numbers."
      ],
      "metadata": {
        "id": "LcQoKNZfDK0D"
      }
    },
    {
      "cell_type": "code",
      "source": [
        "cols = [\"Website Click Through Rate\",\"Cost per Action\",\"Conversion Rate\",\"# of Purchase\"]\n",
        "show_boxplot(2,2,[0,1],cols,(18,9))"
      ],
      "metadata": {
        "trusted": true,
        "id": "sWYF0FWdDK0D"
      },
      "execution_count": null,
      "outputs": []
    },
    {
      "cell_type": "code",
      "source": [
        "#TODO : create your dataframe for AB test and print the first 3 rows of it.\n",
        "df_AB = AB.copy()\n",
        "print(df_AB.head(3))"
      ],
      "metadata": {
        "trusted": true,
        "id": "J2o5A1f1DK0D",
        "colab": {
          "base_uri": "https://localhost:8080/"
        },
        "outputId": "32979cf8-b092-4665-f78d-4c1eb8b1c355"
      },
      "execution_count": 20,
      "outputs": [
        {
          "output_type": "stream",
          "name": "stdout",
          "text": [
            "   # of Purchase  Website Click Through Rate  Cost per Action  \\\n",
            "0            618                    8.483471         0.023602   \n",
            "1            511                    6.700264         0.013039   \n",
            "2            372                    4.941121         0.016383   \n",
            "\n",
            "   Conversion Rate               Group  \n",
            "0      1376.909920  A (MaximumBidding)  \n",
            "1      1661.578298  A (MaximumBidding)  \n",
            "2      2197.464659  A (MaximumBidding)  \n"
          ]
        }
      ]
    },
    {
      "cell_type": "code",
      "source": [
        "df_AB.columns"
      ],
      "metadata": {
        "colab": {
          "base_uri": "https://localhost:8080/"
        },
        "id": "RmZ6zTOrPMHy",
        "outputId": "e74053b1-48a3-47b3-d684-e10f205b2499"
      },
      "execution_count": 21,
      "outputs": [
        {
          "output_type": "execute_result",
          "data": {
            "text/plain": [
              "Index(['# of Purchase', 'Website Click Through Rate', 'Cost per Action',\n",
              "       'Conversion Rate', 'Group'],\n",
              "      dtype='object')"
            ]
          },
          "metadata": {},
          "execution_count": 21
        }
      ]
    },
    {
      "cell_type": "markdown",
      "source": [
        "## 5. Two Independent Sample T-Test\n",
        "### 5.1. Assumption Check\n",
        "#### 5.1.1. Normality Assumption (shapiro test)\n",
        "\n",
        " * **H0**: Normal distribution assumption is provided.\n",
        " * **H1**: ... not provided."
      ],
      "metadata": {
        "id": "yoYPauAlDK0E"
      }
    },
    {
      "cell_type": "code",
      "source": [
        "#TODO : Aply the normality assumption of the dataframe for A\n",
        "group_A = df_AB[df_AB[\"Group\"] == \"A (MaximumBidding)\"]"
      ],
      "metadata": {
        "trusted": true,
        "id": "4xMzj7PtDK0E"
      },
      "execution_count": 22,
      "outputs": []
    },
    {
      "cell_type": "code",
      "source": [
        "#TODO : compute p_value for normality on group A from the df_AB dataframe and round it to three decimal places.\n",
        "stat, p_value_A = shapiro(group_A[\"# of Purchase\"])\n",
        "p_value_A = round(p_value_A, 3)\n",
        "print(f\"P-value for normality on group A: {p_value_A}\")\n",
        "#TODO : pass it to a function checkReject to determine if the null hypothesis of normality should be rejected.\n",
        "checkReject(p_value_A)"
      ],
      "metadata": {
        "trusted": true,
        "id": "xGiKQEHrDK0E",
        "colab": {
          "base_uri": "https://localhost:8080/"
        },
        "outputId": "5c165326-9b43-42b9-fb5d-e4e503dd0a3a"
      },
      "execution_count": 23,
      "outputs": [
        {
          "output_type": "stream",
          "name": "stdout",
          "text": [
            "P-value for normality on group A: 0.108\n",
            "0.108 > alpha(0.05) so >>> H0 CAN'T BE REJECTED\n"
          ]
        }
      ]
    },
    {
      "cell_type": "markdown",
      "source": [
        "Does the HO hypothesis get rejected ? why ?"
      ],
      "metadata": {
        "id": "87fl16JsiHQE"
      }
    },
    {
      "cell_type": "markdown",
      "source": [
        "No, the H0 hypothesis does not get rejected.\n",
        "Because the p-value (0.108) is greater than the significance level (0.05), indicating that there is not enough evidence to conclude that the data for group A is not normally distributed. Hence, we assume that the data for group A is normally distributed."
      ],
      "metadata": {
        "id": "o3iSJtZNW4r8"
      }
    },
    {
      "cell_type": "code",
      "source": [
        "#TODO : Aply the normality assumption of the dataframe for B\n",
        "group_B = df_AB[df_AB[\"Group\"] == \"B (AverageBidding)\"]"
      ],
      "metadata": {
        "trusted": true,
        "id": "JTIwYUqvDK0E"
      },
      "execution_count": 24,
      "outputs": []
    },
    {
      "cell_type": "code",
      "source": [
        "#TODO : compute p_value for normality on group B from the df_AB dataframe and round it to three decimal places.\n",
        "stat, p_value_B = shapiro(group_B[\"# of Purchase\"])\n",
        "p_value_B = round(p_value_B, 3)\n",
        "print(f\"P-value for normality on group B: {p_value_B}\")\n",
        "#TODO : pass it to a function checkReject to determine if the null hypothesis of normality should be rejected.\n",
        "checkReject(p_value_B)"
      ],
      "metadata": {
        "trusted": true,
        "id": "ZA0hl-TSDK0F",
        "colab": {
          "base_uri": "https://localhost:8080/"
        },
        "outputId": "cf210d2d-0334-4c57-f27e-2e310384d635"
      },
      "execution_count": 25,
      "outputs": [
        {
          "output_type": "stream",
          "name": "stdout",
          "text": [
            "P-value for normality on group B: 0.024\n",
            "0.024 < alpha(0.05) so >>> H0 REJECTED\n"
          ]
        }
      ]
    },
    {
      "cell_type": "markdown",
      "source": [
        "Does the HO hypothesis get rejected ? why ?"
      ],
      "metadata": {
        "id": "vsUYfCduDK0F"
      }
    },
    {
      "cell_type": "markdown",
      "source": [
        "Yes, the H0 hypothesis gets rejected.\n",
        "Because the p-value (0.024) is less than the significance level (0.05), indicating that there is enough evidence to conclude that the data for group B is not normally distributed."
      ],
      "metadata": {
        "id": "py4FCIQUXO9l"
      }
    },
    {
      "cell_type": "markdown",
      "source": [
        "### 5.1.2. Variance Homogeneity Assumption\n",
        " * **H0** : Variances are homogeneous.\n",
        " * **H1** : Variances are not homogeneous.\n",
        "\n",
        "We want to assess if A and B have equal variances, which is a common assumption for various statistical tests :"
      ],
      "metadata": {
        "id": "oCfcl_20DK0F"
      }
    },
    {
      "cell_type": "code",
      "source": [
        "#TODO : Performs the Levene test for equality of variances on two groups, A and B, from the df_AB dataframe\n",
        "stat, p_value_levene = levene(group_A[\"# of Purchase\"], group_B[\"# of Purchase\"])"
      ],
      "metadata": {
        "trusted": true,
        "id": "s6bpC7E_DK0F"
      },
      "execution_count": 33,
      "outputs": []
    },
    {
      "cell_type": "code",
      "source": [
        "#TODO : compute the p_value of the df_AB dataframe and round it to three decimal places.\n",
        "p_value_levene = round(p_value_levene, 3)\n",
        "print(f\"P-value for Levene test: {p_value_levene}\")\n",
        "#TODO : pass it to a function checkReject to determine if the null hypothesis of normality should be rejected.\n",
        "checkReject(p_value_levene)"
      ],
      "metadata": {
        "trusted": true,
        "id": "Ev9jAkruDK0F",
        "colab": {
          "base_uri": "https://localhost:8080/"
        },
        "outputId": "17c331bb-c692-4bbc-c8eb-1353fab2296b"
      },
      "execution_count": 34,
      "outputs": [
        {
          "output_type": "stream",
          "name": "stdout",
          "text": [
            "P-value for Levene test: 0.199\n",
            "0.199 > alpha(0.05) so >>> H0 CAN'T BE REJECTED\n"
          ]
        }
      ]
    },
    {
      "cell_type": "markdown",
      "source": [
        "\n",
        "Conclude about the variances, are they homogeneous ?"
      ],
      "metadata": {
        "id": "jvKow9iTDK0F"
      }
    },
    {
      "cell_type": "markdown",
      "source": [
        "Yes, the variances are homogeneous.\n",
        "Because the p-value (0.199) is greater than the significance level (0.05), indicating that there is not enough evidence to reject the null hypothesis of equal variances. Therefore, we assume that the variances of the two groups are equal."
      ],
      "metadata": {
        "id": "ePHZQs0IXZuU"
      }
    },
    {
      "cell_type": "markdown",
      "source": [
        "### 5.1.3. Nonparametric Independent Two-Sample T-Test\n",
        "\n",
        "- Since the normality of the distribution of the data set in which Average Bidding (Test Group) was measured was rejected, the NonParametric Independent Two-Sample T Test was applied for the Hypothesis Test.\n",
        "\n",
        "**Hypothesis:**\n",
        "\n",
        " * **H0** : When it comes to Maximum Bidding and Average Bidding, there is no statistically significant difference between the purchasing amounts of the two groups. ($\\mu_1 = \\mu_2$)\n",
        "\n",
        " * **H1** : ... there is a difference ($\\mu_1 \\neq \\mu_2$)"
      ],
      "metadata": {
        "id": "fs4VQn0sDK0G"
      }
    },
    {
      "cell_type": "code",
      "source": [
        "from scipy.stats import mannwhitneyu\n",
        "# Average Biddingin (Test Group)\n",
        "# stats.mannwhitneyu(df_AB[\"A\"], df_AB[\"B\"])\n",
        "def average_bidding(df):\n",
        "    group_B = df[df[\"Group\"] == \"B (AverageBidding)\"]\n",
        "    average_bidding = group_B[\"Cost per Action\"].mean()  # Assuming \"Cost per Action\" represents bidding\n",
        "    return average_bidding\n",
        "\n",
        "average_bidding_value = average_bidding(df_AB)\n",
        "print(\"Average Bidding in Test Group (Group B):\", average_bidding_value)"
      ],
      "metadata": {
        "trusted": true,
        "id": "b0SwcIuwDK0G",
        "colab": {
          "base_uri": "https://localhost:8080/"
        },
        "outputId": "1cc25ba4-315a-4b4d-87d4-d628c24739cd"
      },
      "execution_count": 27,
      "outputs": [
        {
          "output_type": "stream",
          "name": "stdout",
          "text": [
            "Average Bidding in Test Group (Group B): 0.03447582003309548\n"
          ]
        }
      ]
    },
    {
      "cell_type": "code",
      "source": [
        "#TODO : compute the p_value of the df_AB dataframe and round it to three decimal places.\n",
        "p_value_A = round(p_value_A, 3)\n",
        "print(f\"P-value for normality on group A: {p_value_A}\")\n",
        "#TODO : pass it to a function checkReject to determine if the null hypothesis of normality should be rejected.\n",
        "checkReject(p_value_A)"
      ],
      "metadata": {
        "trusted": true,
        "id": "t_QXVREQDK0G",
        "colab": {
          "base_uri": "https://localhost:8080/"
        },
        "outputId": "41bbe155-2e8d-497a-aada-a8d1eb074c2b"
      },
      "execution_count": 28,
      "outputs": [
        {
          "output_type": "stream",
          "name": "stdout",
          "text": [
            "P-value for normality on group A: 0.108\n",
            "0.108 > alpha(0.05) so >>> H0 CAN'T BE REJECTED\n"
          ]
        }
      ]
    },
    {
      "cell_type": "markdown",
      "source": [
        "Should the H0 hypothesis be rejected ? Why ? What can you conclude ?"
      ],
      "metadata": {
        "id": "FlZXI66ODK0G"
      }
    },
    {
      "cell_type": "markdown",
      "source": [
        "No, the H0 hypothesis should not be rejected.\n",
        "Because the p-value (0.108) is greater than the significance level (0.05), indicating that there is not enough evidence to reject the null hypothesis that the data for group A is normally distributed.\n",
        "We conclude that the data for group A (Maximum Bidding) follows a normal distribution. Therefore, we can assume normality for further analysis involving group A."
      ],
      "metadata": {
        "id": "bWx_yw2tXnkS"
      }
    },
    {
      "cell_type": "markdown",
      "source": [
        "## 6. Conclusion and Evaluation\n",
        "\n",
        "\n",
        "##### You should answer the following questions :\n",
        "\n",
        "\n",
        "**1. How would you define the hypothesis of this A/B test ?**\n",
        "\n",
        "To define the hypothesis of this A/B test, let's consider the primary objective of the test, which is to determine whether the new bidding type, \"average bidding\" (test group B), brings more conversions than the existing \"maximum bidding\" (control group A).\n",
        "There is no statistically significant difference in the conversion rates (or purchasing amounts) between the two groups, i.e., the average conversions (or purchases) are the same for both the \"average bidding\" and \"maximum bidding\" strategies.\n",
        "The mean conversion rates (or purchasing amounts) are different between the \"maximum bidding\" and \"average bidding\" groups. (There is an effect)\n",
        "   \n",
        "**2. Can we conclude statistically significant results?**\n",
        "\n",
        "  No, we cannot conclude statistically significant results. This is because the p-value for normality on group B was less than the significance level (alpha = 0.05), indicating that the data in group B did not follow a normal distribution. Therefore, the subsequent nonparametric independent two-sample t-test may not provide reliable results.\n",
        "\n",
        "\n",
        "**3. Which statistical test did you use, and why?**\n",
        "   The statistical test used in this case is the nonparametric independent two-sample t-test. This test was chosen because the assumption of normality was violated for the data in the Average Bidding (Test Group), so a nonparametric test is more appropriate when the data does not meet the normality assumptio\n",
        "    \n",
        "**4. Based on your answer to Question 2, what would be your recommendation to client?**\n",
        "Based on the inability to reject the null hypothesis and the lack of statistically significant results, my recommendation to the client would be to conduct further analysis or potentially collect more data to better understand any potential differences between the two bidding strategies.\n",
        "   "
      ],
      "metadata": {
        "id": "G5x0g1X1DK0G"
      }
    }
  ]
}