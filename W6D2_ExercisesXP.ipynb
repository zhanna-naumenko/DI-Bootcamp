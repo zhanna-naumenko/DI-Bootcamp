{
  "cells": [
    {
      "cell_type": "markdown",
      "metadata": {
        "id": "view-in-github",
        "colab_type": "text"
      },
      "source": [
        "<a href=\"https://colab.research.google.com/github/zhanna-naumenko/DI-Bootcamp/blob/main/W6D2_ExercisesXP.ipynb\" target=\"_parent\"><img src=\"https://colab.research.google.com/assets/colab-badge.svg\" alt=\"Open In Colab\"/></a>"
      ]
    },
    {
      "cell_type": "code",
      "execution_count": 1,
      "metadata": {
        "colab": {
          "base_uri": "https://localhost:8080/"
        },
        "id": "rRTzvnW5Z6XH",
        "outputId": "c342ee03-4a70-479e-f38b-963f604d898c"
      },
      "outputs": [
        {
          "output_type": "stream",
          "name": "stdout",
          "text": [
            "The matrix is: \n",
            "[[46 54 40]\n",
            " [45 42 39]\n",
            " [28 37 34]]\n",
            "Determinant: -4781.999999999998\n",
            "Inverse Matrix is: \n",
            "[[ 0.00313676  0.07444584 -0.08908407]\n",
            " [ 0.09159348 -0.09284818 -0.00125471]\n",
            " [-0.10225847  0.03973233  0.10414053]]\n",
            "Original Matrix is: \n",
            "[[46. 54. 40.]\n",
            " [45. 42. 39.]\n",
            " [28. 37. 34.]]\n"
          ]
        }
      ],
      "source": [
        "# Exercise 1\n",
        "import numpy as np\n",
        "import pandas as pd\n",
        "import random\n",
        "\n",
        "matrix = np.array(np.random.randint(25, 60, 9)).reshape(3, 3)\n",
        "print(f\"The matrix is: \\n{matrix}\")\n",
        "\n",
        "print(f\"Determinant: {np.linalg.det(matrix)}\")\n",
        "\n",
        "Inv = np.linalg.inv(matrix)\n",
        "\n",
        "original_matrix = np.linalg.inv(Inv)\n",
        "print(f\"Inverse Matrix is: \\n{Inv}\")\n",
        "print(f\"Original Matrix is: \\n{original_matrix}\")"
      ]
    },
    {
      "cell_type": "code",
      "source": [
        "# Exercise 2\n",
        "\n",
        "user_array = np.array(np.random.randint(2, 250, 50))\n",
        "print(user_array)\n",
        "\n",
        "avg_array = np.mean(user_array)\n",
        "print(f\"Mean: {avg_array}\")\n",
        "\n",
        "median_array = np.median(user_array)\n",
        "print(f\"Median: {median_array}\")\n",
        "\n",
        "std_user = np.std(user_array)\n",
        "print(f\"Standard Deviation: {std_user}\")"
      ],
      "metadata": {
        "colab": {
          "base_uri": "https://localhost:8080/"
        },
        "id": "ZwVpH6WzwMGc",
        "outputId": "9baae8b3-39c6-4e90-9773-92946bf0015f"
      },
      "execution_count": 7,
      "outputs": [
        {
          "output_type": "stream",
          "name": "stdout",
          "text": [
            "[134 159  28  64 100 193 209 133 129 130  26  12  25 233  67 104  52 163\n",
            " 170  68  27 204 147 173  88  96 234 215  59 230 225  95  88 139  52  54\n",
            " 118   5  36  87  33  62 167 128 211 107   4 135  97 110]\n",
            "Mean: 112.5\n",
            "Median: 105.5\n",
            "Standard Deviation: 66.26922362605434\n"
          ]
        }
      ]
    },
    {
      "cell_type": "code",
      "source": [
        "# Exercise 3\n",
        "import numpy as np\n",
        "import datetime\n",
        "\n",
        "\n",
        "t = np.datetime64('2017-10-26')\n",
        "t = t.astype(datetime.datetime)\n",
        "timestring = t.strftime('%Y.%m.%d')\n",
        "\n",
        "dates = np.arange('2023-01', '2023-02', dtype='datetime64[D]')\n",
        "print(dates)\n",
        "dates = [date.astype(datetime.datetime) for date in dates]\n",
        "new_date_string = [date.strftime('%Y/%m/%d') for date in dates]\n",
        "print(new_date_string)"
      ],
      "metadata": {
        "colab": {
          "base_uri": "https://localhost:8080/"
        },
        "id": "75VAEjJCb7Y9",
        "outputId": "8e34b469-8c6c-47fd-8675-cf5e591339fd"
      },
      "execution_count": 16,
      "outputs": [
        {
          "output_type": "stream",
          "name": "stdout",
          "text": [
            "['2023-01-01' '2023-01-02' '2023-01-03' '2023-01-04' '2023-01-05'\n",
            " '2023-01-06' '2023-01-07' '2023-01-08' '2023-01-09' '2023-01-10'\n",
            " '2023-01-11' '2023-01-12' '2023-01-13' '2023-01-14' '2023-01-15'\n",
            " '2023-01-16' '2023-01-17' '2023-01-18' '2023-01-19' '2023-01-20'\n",
            " '2023-01-21' '2023-01-22' '2023-01-23' '2023-01-24' '2023-01-25'\n",
            " '2023-01-26' '2023-01-27' '2023-01-28' '2023-01-29' '2023-01-30'\n",
            " '2023-01-31']\n",
            "['2023/01/01', '2023/01/02', '2023/01/03', '2023/01/04', '2023/01/05', '2023/01/06', '2023/01/07', '2023/01/08', '2023/01/09', '2023/01/10', '2023/01/11', '2023/01/12', '2023/01/13', '2023/01/14', '2023/01/15', '2023/01/16', '2023/01/17', '2023/01/18', '2023/01/19', '2023/01/20', '2023/01/21', '2023/01/22', '2023/01/23', '2023/01/24', '2023/01/25', '2023/01/26', '2023/01/27', '2023/01/28', '2023/01/29', '2023/01/30', '2023/01/31']\n"
          ]
        }
      ]
    },
    {
      "cell_type": "code",
      "source": [
        "# Exercise 4\n",
        "user_array2 = np.array(np.random.randint(-20, 250, 25))\n",
        "print(f\"Original Array: \\n{user_array2}\")\n",
        "\n",
        "positives = user_array2[user_array2 > 0]\n",
        "print(f\"Array with posotove numbers: \\n{positives}\")\n",
        "\n",
        "sum_array = np.sum(user_array2)\n",
        "print(f\"Sum: {sum_array}\")\n",
        "\n",
        "avg_array2 = np.mean(user_array2)\n",
        "print(f\"Average: {avg_array2}\")"
      ],
      "metadata": {
        "colab": {
          "base_uri": "https://localhost:8080/"
        },
        "id": "jJwjl3TheY_5",
        "outputId": "8d457546-ce38-4eaf-bb4e-0c9ccfb187b8"
      },
      "execution_count": 22,
      "outputs": [
        {
          "output_type": "stream",
          "name": "stdout",
          "text": [
            "Original Array: \n",
            "[-18 119 208 118 240  32 135 173 242  90 212 202 161 208 218 149 161 163\n",
            "   5  -4 186  58 190 223 238]\n",
            "Array with posotove numbers: \n",
            "[119 208 118 240  32 135 173 242  90 212 202 161 208 218 149 161 163   5\n",
            " 186  58 190 223 238]\n",
            "Sum: 3709\n",
            "Average: 148.36\n"
          ]
        }
      ]
    },
    {
      "cell_type": "code",
      "source": [
        "# Exercise 5\n",
        "# Images are represented in NumPy arrays as multi-dimensional arrays,\n",
        "# typically with three dimensions for color images (height, width, channels)\n",
        "# and two dimensions for grayscale images (height, width).\n",
        "# For a grayscale image, each element of the NumPy array represents the intensity of a single pixel.\n",
        "# The intensity values range from 0 to 255, where 0 represents black and 255 represents white.\n",
        "\n",
        "import numpy as np\n",
        "import matplotlib.pyplot as plt\n",
        "\n",
        "image = np.array([\n",
        "    [0, 64, 128, 192, 0],\n",
        "    [64, 0, 160, 0, 127],\n",
        "    [32, 128, 0, 255, 64],\n",
        "    [96, 0, 224, 0, 127],\n",
        "    [0, 192, 255, 127, 0]\n",
        "])\n",
        "\n",
        "plt.imshow(image, cmap='gray')\n",
        "plt.axis('off')\n",
        "plt.show()"
      ],
      "metadata": {
        "colab": {
          "base_uri": "https://localhost:8080/",
          "height": 406
        },
        "id": "XhoDvvfhf5kI",
        "outputId": "d8f6a275-a4ba-4ff3-88a5-1b363531de0c"
      },
      "execution_count": 31,
      "outputs": [
        {
          "output_type": "display_data",
          "data": {
            "text/plain": [
              "<Figure size 640x480 with 1 Axes>"
            ],
            "image/png": "[encoded data removed]"
          },
          "metadata": {}
        }
      ]
    },
    {
      "cell_type": "code",
      "source": [
        "# Exercise 6\n",
        "\n",
        "import numpy as np\n",
        "from scipy.stats import ttest_rel\n",
        "\n",
        "\n",
        "productivity_before = np.random.normal(loc=50, scale=10, size=30)\n",
        "productivity_after = productivity_before + np.random.normal(loc=5, scale=3, size=30)\n",
        "\n",
        "t_statistic, p_value = ttest_rel(productivity_after, productivity_before)\n",
        "alpha = 0.05\n",
        "\n",
        "\n",
        "print(\"Paired t-test results:\")\n",
        "print(\"t-statistic:\", t_statistic)\n",
        "print(\"p-value:\", p_value)\n",
        "\n",
        "if p_value < alpha:\n",
        "    print(\"Reject the null hypothesis. The training program has a significant effect on employee productivity.\")\n",
        "else:\n",
        "    print(\"Fail to reject the null hypothesis. There is no significant effect of the training program on employee productivity.\")"
      ],
      "metadata": {
        "colab": {
          "base_uri": "https://localhost:8080/"
        },
        "id": "mzmrqEfwh_cS",
        "outputId": "155f93dc-becb-4ad4-df2c-7131d7488cf5"
      },
      "execution_count": 33,
      "outputs": [
        {
          "output_type": "stream",
          "name": "stdout",
          "text": [
            "Paired t-test results:\n",
            "t-statistic: 8.32217082971488\n",
            "p-value: 3.5699029454424718e-09\n",
            "Reject the null hypothesis. The training program has a significant effect on employee productivity.\n"
          ]
        }
      ]
    },
    {
      "cell_type": "code",
      "source": [
        "# Exercise 7\n",
        "array1 = np.array([1, 3, 5, 7, 9])\n",
        "array2 = np.array([2, 4, 3, 8, 6])\n",
        "\n",
        "greater_than = array1 > array2\n",
        "print(f\"Boolean array showing elements greater in the first array: {greater_than}\")"
      ],
      "metadata": {
        "colab": {
          "base_uri": "https://localhost:8080/"
        },
        "id": "1kM5Yp-HjZv8",
        "outputId": "39c126e8-6e10-4897-afc8-d219d9a091cd"
      },
      "execution_count": 35,
      "outputs": [
        {
          "output_type": "stream",
          "name": "stdout",
          "text": [
            "Boolean array showing elements greater in the first array: [False False  True False  True]\n"
          ]
        }
      ]
    },
    {
      "cell_type": "code",
      "source": [
        "# Exercise 8\n",
        "\n",
        "start_date = '2023-01-01'\n",
        "end_date = '2023-12-31'\n",
        "dates = pd.date_range(start=start_date, end=end_date, freq='D')\n",
        "time_series_data = pd.Series(np.random.randn(len(dates)), index=dates)\n",
        "\n",
        "jan_to_mar = time_series_data['2023-01':'2023-03']\n",
        "apr_to_jun = time_series_data['2023-04':'2023-06']\n",
        "jul_to_sep = time_series_data['2023-07':'2023-09']\n",
        "oct_to_dec = time_series_data['2023-10':'2023-12']\n",
        "\n",
        "\n",
        "print(\"January to March:\")\n",
        "print(jan_to_mar)\n",
        "print(\"\\nApril to June:\")\n",
        "print(apr_to_jun)\n",
        "print(\"\\nJuly to September:\")\n",
        "print(jul_to_sep)\n",
        "print(\"\\nOctober to December:\")\n",
        "print(oct_to_dec)"
      ],
      "metadata": {
        "colab": {
          "base_uri": "https://localhost:8080/"
        },
        "id": "nsQSf5wInkw3",
        "outputId": "69f15b32-8cc3-482c-ff6f-cce44e7ac41e"
      },
      "execution_count": 36,
      "outputs": [
        {
          "output_type": "stream",
          "name": "stdout",
          "text": [
            "January to March:\n",
            "2023-01-01    0.837738\n",
            "2023-01-02   -0.138528\n",
            "2023-01-03    0.897056\n",
            "2023-01-04   -1.639992\n",
            "2023-01-05    1.808221\n",
            "                ...   \n",
            "2023-03-27    0.302145\n",
            "2023-03-28    0.478668\n",
            "2023-03-29   -0.844063\n",
            "2023-03-30   -0.099528\n",
            "2023-03-31    0.900863\n",
            "Freq: D, Length: 90, dtype: float64\n",
            "\n",
            "April to June:\n",
            "2023-04-01    0.648084\n",
            "2023-04-02   -0.301471\n",
            "2023-04-03   -2.078977\n",
            "2023-04-04   -0.120393\n",
            "2023-04-05    0.315138\n",
            "                ...   \n",
            "2023-06-26   -1.134951\n",
            "2023-06-27   -1.234371\n",
            "2023-06-28   -0.655681\n",
            "2023-06-29    0.264551\n",
            "2023-06-30   -2.065773\n",
            "Freq: D, Length: 91, dtype: float64\n",
            "\n",
            "July to September:\n",
            "2023-07-01   -0.885693\n",
            "2023-07-02   -1.390755\n",
            "2023-07-03   -0.692279\n",
            "2023-07-04   -0.001683\n",
            "2023-07-05   -0.322905\n",
            "                ...   \n",
            "2023-09-26    0.815874\n",
            "2023-09-27    0.829762\n",
            "2023-09-28    0.479582\n",
            "2023-09-29    0.884940\n",
            "2023-09-30    1.179525\n",
            "Freq: D, Length: 92, dtype: float64\n",
            "\n",
            "October to December:\n",
            "2023-10-01    0.581655\n",
            "2023-10-02    0.585640\n",
            "2023-10-03    0.291963\n",
            "2023-10-04   -1.154990\n",
            "2023-10-05   -0.768227\n",
            "                ...   \n",
            "2023-12-27   -0.125335\n",
            "2023-12-28   -1.908624\n",
            "2023-12-29    1.178960\n",
            "2023-12-30    0.543530\n",
            "2023-12-31   -2.692970\n",
            "Freq: D, Length: 92, dtype: float64\n"
          ]
        }
      ]
    },
    {
      "cell_type": "code",
      "source": [
        "# Exercise 9\n",
        "second_array = np.array([[1, 2, 3], [4, 5, 6], [7, 8, 9]])\n",
        "print(f\"Original Array: \\n{second_array}\")\n",
        "\n",
        "user_data = pd.DataFrame(data=second_array, columns=['Column A', 'Column B', 'Column C'])\n",
        "print(f\"Pandas DataFrame: \\n{user_data}\")\n",
        "\n",
        "numpy_array = user_data.to_numpy()\n",
        "print(f\"\\nAgaine to Array: \\n{numpy_array}\")"
      ],
      "metadata": {
        "colab": {
          "base_uri": "https://localhost:8080/"
        },
        "id": "CSeuChqVoT5W",
        "outputId": "ba25bf2a-9866-4b78-ea86-72b2240a0497"
      },
      "execution_count": 40,
      "outputs": [
        {
          "output_type": "stream",
          "name": "stdout",
          "text": [
            "Original Array: \n",
            "[[1 2 3]\n",
            " [4 5 6]\n",
            " [7 8 9]]\n",
            "Pandas DataFrame: \n",
            "   Column A  Column B  Column C\n",
            "0         1         2         3\n",
            "1         4         5         6\n",
            "2         7         8         9\n",
            "\n",
            "Againe to Array: \n",
            "[[1 2 3]\n",
            " [4 5 6]\n",
            " [7 8 9]]\n"
          ]
        }
      ]
    },
    {
      "cell_type": "code",
      "source": [
        "# Exercise 10\n",
        "import matplotlib.pyplot as plt\n",
        "\n",
        "x = np.linspace(0, 10, 100)\n",
        "y = np.random.rand(100)\n",
        "\n",
        "plt.plot(x, y)\n",
        "plt.title('Random Data')\n",
        "plt.xlabel('X')\n",
        "plt.ylabel('Y')\n",
        "plt.show()"
      ],
      "metadata": {
        "colab": {
          "base_uri": "https://localhost:8080/",
          "height": 472
        },
        "id": "MA6YpkOXo_t5",
        "outputId": "1305de54-dcf5-4623-992e-f7ab57fe5a6c"
      },
      "execution_count": 41,
      "outputs": [
        {
          "output_type": "display_data",
          "data": {
            "text/plain": [
              "<Figure size 640x480 with 1 Axes>"
            ],
            "image/png": "[encoded data removed]"
          },
          "metadata": {}
        }
      ]
    }
  ],
  "metadata": {
    "colab": {
      "provenance": [],
      "authorship_tag": "ABX9TyMMZyh8WbL2D48VVLZPgoXH",
      "include_colab_link": true
    },
    "kernelspec": {
      "display_name": "Python 3",
      "name": "python3"
    },
    "language_info": {
      "name": "python"
    }
  },
  "nbformat": 4,
  "nbformat_minor": 0
}