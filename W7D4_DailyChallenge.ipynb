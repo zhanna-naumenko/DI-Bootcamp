{
  "nbformat": 4,
  "nbformat_minor": 0,
  "metadata": {
    "colab": {
      "provenance": [],
      "authorship_tag": "ABX9TyPkXnJkg1dCOPK++svj0uJc",
      "include_colab_link": true
    },
    "kernelspec": {
      "name": "python3",
      "display_name": "Python 3"
    },
    "language_info": {
      "name": "python"
    }
  },
  "cells": [
    {
      "cell_type": "markdown",
      "metadata": {
        "id": "view-in-github",
        "colab_type": "text"
      },
      "source": [
        "<a href=\"https://colab.research.google.com/github/zhanna-naumenko/DI-Bootcamp/blob/main/W7D4_DailyChallenge.ipynb\" target=\"_parent\"><img src=\"https://colab.research.google.com/assets/colab-badge.svg\" alt=\"Open In Colab\"/></a>"
      ]
    },
    {
      "cell_type": "markdown",
      "source": [
        "Machine learning is kind of AI that focuses on enabling machines to learn from data without explicit programming. It use the algorithms and models that allow computers to recognize patterns, make predictions, and make decisions based on\n",
        "provided data. Machine learning playes crucial role for the data analysts, because it offers powerful tools to extract valuable insights from large datasets, automate repetitive tasks, and make data-driven decisions.\n",
        "\n",
        "Machine learning can be used in areas such industries as healthcare, finance and media. Let's see closer to each of one.\n",
        "\n",
        "Concerning healthcare, machine learning are used for disease diagnosis and prognosis, personalized treatment recommendation, and drug discovery.\n",
        "\n",
        "In finance it's very often used for fraud detection, credit risk assessment, algorithmic trading, and customer segmentation.\n",
        "\n",
        "In media machine learning is used for network optimization, customer churn prediction, fraud detection, and personalized services.\n",
        "\n",
        "Supervised learning involves training a model on labeled data, where the algorithm learns to map input data to output labels. For example, we want to separate the emails as spam or non-spam, we can use supervised learning to teach to classify the emails for such parameters as sender, subject and content.\n",
        "\n",
        "Unsupervised learning involves training a model on unlabeled data, where the algorithm discovers patterns and structures in the data without explicit guidance. For example, we can use the unsupervised learning to clustering similar customer profiles based on purchasing behavior for targeted marketing campaigns.\n",
        "\n",
        "Reinforcement learning involves training to interact with an environment to maximize cumulative rewards through trial and error. For example, training a robot to hold an equilibrium and go to the target through various obstacles.\n",
        "\n",
        "Feature Selection. To make a feature selection we need to identify relevant variables that are most predictive of the target outcome. We can made it through exploratory data analysis, domain knowledge, and feature engineering to create new features. For example, we should have credit history, age, loan amount, etc., as features for a credit risk prediction model.\n",
        "\n",
        "Model Selection. We can choose an appropriate model for machine learning based on the problem type and data characteristics. At the same time we need take into account model complexity, interpretability, and performance metrics.\n",
        "\n",
        "Model Evaluation. We can evaluate the model using different validation techniques, such as accuracy, precision, recall, F1-score, or area under the ROC curve."
      ],
      "metadata": {
        "id": "UVT8uHFeVspu"
      }
    }
  ]
}