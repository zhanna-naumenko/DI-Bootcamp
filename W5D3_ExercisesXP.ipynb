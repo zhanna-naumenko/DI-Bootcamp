{
  "nbformat": 4,
  "nbformat_minor": 0,
  "metadata": {
    "colab": {
      "provenance": [],
      "authorship_tag": "ABX9TyOcfN5Jec9cIo2ZfrDvPtjQ",
      "include_colab_link": true
    },
    "kernelspec": {
      "name": "python3",
      "display_name": "Python 3"
    },
    "language_info": {
      "name": "python"
    }
  },
  "cells": [
    {
      "cell_type": "markdown",
      "metadata": {
        "id": "view-in-github",
        "colab_type": "text"
      },
      "source": [
        "<a href=\"https://colab.research.google.com/github/zhanna-naumenko/DI-Bootcamp/blob/main/W5D3_ExercisesXP.ipynb\" target=\"_parent\"><img src=\"https://colab.research.google.com/assets/colab-badge.svg\" alt=\"Open In Colab\"/></a>"
      ]
    },
    {
      "cell_type": "code",
      "execution_count": 1,
      "metadata": {
        "colab": {
          "base_uri": "https://localhost:8080/"
        },
        "id": "fuFst_9uL5e5",
        "outputId": "c9604ff1-b158-4f99-ef44-e4d9fe203bd4"
      },
      "outputs": [
        {
          "output_type": "stream",
          "name": "stdout",
          "text": [
            "Requirement already satisfied: SQLAlchemy in /usr/local/lib/python3.10/dist-packages (2.0.29)\n",
            "Requirement already satisfied: typing-extensions>=4.6.0 in /usr/local/lib/python3.10/dist-packages (from SQLAlchemy) (4.11.0)\n",
            "Requirement already satisfied: greenlet!=0.4.17 in /usr/local/lib/python3.10/dist-packages (from SQLAlchemy) (3.0.3)\n"
          ]
        }
      ],
      "source": [
        "!pip install SQLAlchemy\n",
        "\n"
      ]
    },
    {
      "cell_type": "code",
      "source": [
        "!pip install flask_sqlalchemy"
      ],
      "metadata": {
        "colab": {
          "base_uri": "https://localhost:8080/"
        },
        "id": "fCE-adWnE4VW",
        "outputId": "c5de92a6-cd07-4ebd-fe87-e56f792554a1"
      },
      "execution_count": 2,
      "outputs": [
        {
          "output_type": "stream",
          "name": "stdout",
          "text": [
            "Collecting flask_sqlalchemy\n",
            "  Downloading flask_sqlalchemy-3.1.1-py3-none-any.whl (25 kB)\n",
            "Requirement already satisfied: flask>=2.2.5 in /usr/local/lib/python3.10/dist-packages (from flask_sqlalchemy) (2.2.5)\n",
            "Requirement already satisfied: sqlalchemy>=2.0.16 in /usr/local/lib/python3.10/dist-packages (from flask_sqlalchemy) (2.0.29)\n",
            "Requirement already satisfied: Werkzeug>=2.2.2 in /usr/local/lib/python3.10/dist-packages (from flask>=2.2.5->flask_sqlalchemy) (3.0.2)\n",
            "Requirement already satisfied: Jinja2>=3.0 in /usr/local/lib/python3.10/dist-packages (from flask>=2.2.5->flask_sqlalchemy) (3.1.3)\n",
            "Requirement already satisfied: itsdangerous>=2.0 in /usr/local/lib/python3.10/dist-packages (from flask>=2.2.5->flask_sqlalchemy) (2.2.0)\n",
            "Requirement already satisfied: click>=8.0 in /usr/local/lib/python3.10/dist-packages (from flask>=2.2.5->flask_sqlalchemy) (8.1.7)\n",
            "Requirement already satisfied: typing-extensions>=4.6.0 in /usr/local/lib/python3.10/dist-packages (from sqlalchemy>=2.0.16->flask_sqlalchemy) (4.11.0)\n",
            "Requirement already satisfied: greenlet!=0.4.17 in /usr/local/lib/python3.10/dist-packages (from sqlalchemy>=2.0.16->flask_sqlalchemy) (3.0.3)\n",
            "Requirement already satisfied: MarkupSafe>=2.0 in /usr/local/lib/python3.10/dist-packages (from Jinja2>=3.0->flask>=2.2.5->flask_sqlalchemy) (2.1.5)\n",
            "Installing collected packages: flask_sqlalchemy\n",
            "Successfully installed flask_sqlalchemy-3.1.1\n"
          ]
        }
      ]
    },
    {
      "cell_type": "code",
      "source": [
        "# 1. Write a Python program to create a SQLAlchemy model 'Student' with fields: 'id', 'studentname', and 'email'.\n",
        "import sqlalchemy as db\n",
        "from sqlalchemy import create_engine, engine\n",
        "\n",
        "engine = db.create_engine('sqlite:///data.sqlite')\n",
        "conn = engine.connect()\n",
        "metadata = db.MetaData()\n",
        "\n",
        "Student = db.Table('Student', metadata,\n",
        "              db.Column('Id', db.Integer(), nullable=False),\n",
        "              db.Column('StudentName', db.String(255), nullable=False),\n",
        "              db.Column('Email', db.String(255))\n",
        "              )\n",
        "print(Student.columns.keys())"
      ],
      "metadata": {
        "id": "dsfAHP74MIcA",
        "colab": {
          "base_uri": "https://localhost:8080/"
        },
        "outputId": "93a53283-26dd-40c0-9038-30477b9ce383"
      },
      "execution_count": 3,
      "outputs": [
        {
          "output_type": "stream",
          "name": "stdout",
          "text": [
            "['Id', 'StudentName', 'Email']\n"
          ]
        }
      ]
    },
    {
      "cell_type": "code",
      "source": [
        "query = Student.select() #SELECT * FROM Student\n",
        "print(query)\n",
        "metadata.create_all(engine)"
      ],
      "metadata": {
        "colab": {
          "base_uri": "https://localhost:8080/"
        },
        "id": "-8O0qFuNO-0g",
        "outputId": "5b3d84a0-cf84-4147-eb75-b944b00620df"
      },
      "execution_count": 4,
      "outputs": [
        {
          "output_type": "stream",
          "name": "stdout",
          "text": [
            "SELECT \"Student\".\"Id\", \"Student\".\"StudentName\", \"Student\".\"Email\" \n",
            "FROM \"Student\"\n"
          ]
        }
      ]
    },
    {
      "cell_type": "code",
      "source": [
        "# 2.Write a Python program that adds a new student to the 'students' table with a given id, studentname and email.\n",
        "\n",
        "student_insert = Student.insert().values([\n",
        "    {'Id': 1, 'StudentName': 'Alice', 'Email': 'alice_coul@gmail.com'},\n",
        "    {'Id': 2, 'StudentName': 'Bob', 'Email': 'bob_sylli@gmail.com'},\n",
        "    {'Id': 3, 'StudentName': 'Charlie', 'Email': 'charlie_main@gmail.com'},\n",
        "    {'Id': 4, 'StudentName': 'Mike', 'Email': 'mike_lous@gmail.com'}\n",
        "])\n",
        "conn.execute(student_insert)\n",
        "conn.commit()"
      ],
      "metadata": {
        "id": "Z_ovUbtUQSOb"
      },
      "execution_count": 5,
      "outputs": []
    },
    {
      "cell_type": "code",
      "source": [
        "exe = conn.execute(query) #executing the query\n",
        "result = exe.fetchall() #extracting top 5 results\n",
        "print(result)"
      ],
      "metadata": {
        "colab": {
          "base_uri": "https://localhost:8080/"
        },
        "id": "_5awS0wfRRgi",
        "outputId": "88fcc868-ce7e-44eb-f1da-f3f50fd050ee"
      },
      "execution_count": 6,
      "outputs": [
        {
          "output_type": "stream",
          "name": "stdout",
          "text": [
            "[(1, 'Alice', 'alice_coul@gmail.com'), (2, 'Bob', 'bob_sylli@gmail.com'), (3, 'Charlie', 'charlie_main@gmail.com'), (4, 'Mike', 'mike_lous@gmail.com')]\n"
          ]
        }
      ]
    },
    {
      "cell_type": "code",
      "source": [
        "# 3.Write a Python program that retrieves a student's information from the 'students' table using their id..\n",
        "from sqlalchemy import text\n",
        "conn = engine.connect()\n",
        "student_id = 2\n",
        "output = conn.execute(text(f\"SELECT * FROM Student WHERE Id = {student_id}\"))\n",
        "print(output.fetchall())\n"
      ],
      "metadata": {
        "colab": {
          "base_uri": "https://localhost:8080/"
        },
        "id": "LupB5VSfR_nR",
        "outputId": "f0778296-bf54-40d6-c151-5ba3acb750d3"
      },
      "execution_count": 7,
      "outputs": [
        {
          "output_type": "stream",
          "name": "stdout",
          "text": [
            "[(2, 'Bob', 'bob_sylli@gmail.com')]\n"
          ]
        }
      ]
    },
    {
      "cell_type": "code",
      "source": [
        "# 4.Write a Python program that updates a student's email in the 'students' table based on their id\n",
        "from sqlalchemy import text\n",
        "conn = engine.connect()\n",
        "student_id = 3\n",
        "output_new_email = conn.execute(text(f\"UPDATE Student SET Email = 'free_range@gmail.com' WHERE Id = {student_id}\"))\n",
        "output = conn.execute(text(f\"SELECT * FROM Student WHERE Id = {student_id}\"))\n",
        "print(output.fetchall())\n"
      ],
      "metadata": {
        "colab": {
          "base_uri": "https://localhost:8080/"
        },
        "id": "96NGHd0LScr_",
        "outputId": "ae65daa0-531d-4c8e-fa6e-532890ac33a8"
      },
      "execution_count": 8,
      "outputs": [
        {
          "output_type": "stream",
          "name": "stdout",
          "text": [
            "[(3, 'Charlie', 'free_range@gmail.com')]\n"
          ]
        }
      ]
    },
    {
      "cell_type": "code",
      "source": [
        "# 5.Write a Python program that deletes a student from the 'students' table by their id\n",
        "from sqlalchemy import Column, Integer, String\n",
        "from sqlalchemy.ext.declarative import declarative_base\n",
        "from sqlalchemy.orm import sessionmaker\n",
        "from sqlalchemy import create_engine\n",
        "\n",
        "engine = create_engine('sqlite:///testdatabase')\n",
        "Base = declarative_base()\n",
        "\n",
        "class Student(Base):\n",
        "    __tablename__ = 'students'\n",
        "\n",
        "    id = Column(Integer, primary_key=True)\n",
        "    studentname = Column(String)\n",
        "    email = Column(String)\n",
        "\n",
        "Base.metadata.create_all(engine)\n",
        "\n",
        "Session = sessionmaker(bind=engine)\n",
        "session = Session()\n",
        "\n",
        "new_student_1 = Student(id=1, studentname='John Doe', email='john@example.com')\n",
        "session.add(new_student_1)\n",
        "\n",
        "new_student_2 = Student(id=2, studentname='Anna Monte', email='anne@example.com')\n",
        "session.add(new_student_2)\n",
        "\n",
        "new_student_3 = Student(id=3, studentname='Jack Kolab', email='jack@example.com')\n",
        "session.add(new_student_3)\n",
        "session.commit()\n",
        "\n",
        "\n",
        "student_id = 1\n",
        "\n",
        "student = session.query(Student).filter(Student.id == student_id).first()\n",
        "\n",
        "if student:\n",
        "    session.delete(student)\n",
        "    session.commit()\n",
        "    print(\"Student deleted successfully.\")\n",
        "else:\n",
        "    print(\"No student found with ID:\", student_id)\n",
        "\n",
        "result = session.query(Student).all()\n",
        "for Student in result:\n",
        "    print(Student.id, Student.studentname, Student.email)\n",
        "\n",
        "session.close()"
      ],
      "metadata": {
        "colab": {
          "base_uri": "https://localhost:8080/"
        },
        "id": "GIwkwlpvY3ue",
        "outputId": "a732acb3-18b4-433c-b67f-02640da056d5"
      },
      "execution_count": 20,
      "outputs": [
        {
          "output_type": "stream",
          "name": "stdout",
          "text": [
            "Student deleted successfully.\n",
            "2 Anna Monte anne@example.com\n",
            "3 Jack Kolab jack@example.com\n"
          ]
        },
        {
          "output_type": "stream",
          "name": "stderr",
          "text": [
            "<ipython-input-20-0d32d97c53f3>:8: MovedIn20Warning: The ``declarative_base()`` function is now available as sqlalchemy.orm.declarative_base(). (deprecated since: 2.0) (Background on SQLAlchemy 2.0 at: https://sqlalche.me/e/b8d9)\n",
            "  Base = declarative_base()\n"
          ]
        }
      ]
    },
    {
      "cell_type": "code",
      "source": [
        "# 6.'i) 'item_id' as a primary key of 'items' table. ii) 'user_id' as a primary key of 'users' table.\n",
        "# iii) 'order_id' as a primary key of 'orders' table and 'item_id' and 'user_id' as two foreigh keys.\n",
        "# Insert some records in the 'items', 'users' and 'orders' tables'.\n",
        "from flask import Flask\n",
        "from sqlalchemy import create_engine, Column, Integer, String, ForeignKey\n",
        "from sqlalchemy.ext.declarative import declarative_base\n",
        "from sqlalchemy.orm import relationship, sessionmaker\n",
        "from flask_sqlalchemy import SQLAlchemy\n",
        "\n",
        "db = SQLAlchemy()\n",
        "engine = create_engine('sqlite:///shop.db', echo=True)\n",
        "Base = declarative_base()\n",
        "\n",
        "class Item(Base):\n",
        "    __tablename__ = \"items\"\n",
        "\n",
        "    item_id = db.Column(db.Integer, primary_key=True)\n",
        "    item_name = db.Column(db.String(80), unique=True, nullable=False)\n",
        "    item_price = db.Column(db.Float(precision=2), unique=False, nullable=False)\n",
        "    item_quantity = db.Column(db.Integer, unique=False, nullable=False)\n",
        "\n",
        "\n",
        "class Order(Base):\n",
        "    __tablename__ = \"orders\"\n",
        "\n",
        "    order_id = db.Column(db.Integer, primary_key=True)\n",
        "    order_quantity = db.Column(db.Integer, unique=False, nullable=False)\n",
        "    user_id = db.Column(db.Integer, db.ForeignKey(\"users.user_id\"))\n",
        "    item_id = db.Column(db.Integer, db.ForeignKey(\"items.item_id\"))\n",
        "\n",
        "\n",
        "class User(Base):\n",
        "    __tablename__ = \"users\"\n",
        "\n",
        "    user_id = db.Column(db.Integer, primary_key=True)\n",
        "    user_name = db.Column(db.String(80), unique=True, nullable=False)\n",
        "    user_email = db.Column(db.String(50), unique=True, nullable=False)\n",
        "\n",
        "Base.metadata.create_all(engine)\n",
        "\n",
        "Session = sessionmaker(bind=engine)\n",
        "session = Session()\n",
        "\n",
        "# some records into the items table\n",
        "item1 = Item(item_name='Mango', item_price=10, item_quantity=100)\n",
        "item2 = Item(item_name='Lime', item_price=20, item_quantity=150)\n",
        "\n",
        "session.add_all([item1, item2])\n",
        "session.commit()\n",
        "\n",
        "# some records into the users table\n",
        "user1 = User(user_name='John Doe', user_email='john_doe@gmail.com')\n",
        "user2 = User(user_name='Jane Smith', user_email='jane_sm@hmail.com')\n",
        "\n",
        "session.add_all([user1, user2])\n",
        "session.commit()\n",
        "\n",
        "# some records into the orders table\n",
        "order1 = Order(user_id=1, item_id=1, order_quantity=5)\n",
        "order2 = Order(user_id=2, item_id=2, order_quantity=10)\n",
        "\n",
        "session.add_all([order1, order2])\n",
        "session.commit()\n",
        "session.close()"
      ],
      "metadata": {
        "colab": {
          "base_uri": "https://localhost:8080/"
        },
        "id": "8cni60Fpc6e5",
        "outputId": "e97de249-eb98-47b8-9a5b-467a833e7c75"
      },
      "execution_count": 22,
      "outputs": [
        {
          "output_type": "stream",
          "name": "stdout",
          "text": [
            "2024-04-29 08:05:19,377 INFO sqlalchemy.engine.Engine BEGIN (implicit)\n"
          ]
        },
        {
          "output_type": "stream",
          "name": "stderr",
          "text": [
            "<ipython-input-22-e4cf33e7aef8>:11: MovedIn20Warning: The ``declarative_base()`` function is now available as sqlalchemy.orm.declarative_base(). (deprecated since: 2.0) (Background on SQLAlchemy 2.0 at: https://sqlalche.me/e/b8d9)\n",
            "  Base = declarative_base()\n",
            "INFO:sqlalchemy.engine.Engine:BEGIN (implicit)\n"
          ]
        },
        {
          "output_type": "stream",
          "name": "stdout",
          "text": [
            "2024-04-29 08:05:19,383 INFO sqlalchemy.engine.Engine PRAGMA main.table_info(\"items\")\n"
          ]
        },
        {
          "output_type": "stream",
          "name": "stderr",
          "text": [
            "INFO:sqlalchemy.engine.Engine:PRAGMA main.table_info(\"items\")\n"
          ]
        },
        {
          "output_type": "stream",
          "name": "stdout",
          "text": [
            "2024-04-29 08:05:19,387 INFO sqlalchemy.engine.Engine [raw sql] ()\n"
          ]
        },
        {
          "output_type": "stream",
          "name": "stderr",
          "text": [
            "INFO:sqlalchemy.engine.Engine:[raw sql] ()\n"
          ]
        },
        {
          "output_type": "stream",
          "name": "stdout",
          "text": [
            "2024-04-29 08:05:19,393 INFO sqlalchemy.engine.Engine PRAGMA temp.table_info(\"items\")\n"
          ]
        },
        {
          "output_type": "stream",
          "name": "stderr",
          "text": [
            "INFO:sqlalchemy.engine.Engine:PRAGMA temp.table_info(\"items\")\n"
          ]
        },
        {
          "output_type": "stream",
          "name": "stdout",
          "text": [
            "2024-04-29 08:05:19,395 INFO sqlalchemy.engine.Engine [raw sql] ()\n"
          ]
        },
        {
          "output_type": "stream",
          "name": "stderr",
          "text": [
            "INFO:sqlalchemy.engine.Engine:[raw sql] ()\n"
          ]
        },
        {
          "output_type": "stream",
          "name": "stdout",
          "text": [
            "2024-04-29 08:05:19,398 INFO sqlalchemy.engine.Engine PRAGMA main.table_info(\"orders\")\n"
          ]
        },
        {
          "output_type": "stream",
          "name": "stderr",
          "text": [
            "INFO:sqlalchemy.engine.Engine:PRAGMA main.table_info(\"orders\")\n"
          ]
        },
        {
          "output_type": "stream",
          "name": "stdout",
          "text": [
            "2024-04-29 08:05:19,401 INFO sqlalchemy.engine.Engine [raw sql] ()\n"
          ]
        },
        {
          "output_type": "stream",
          "name": "stderr",
          "text": [
            "INFO:sqlalchemy.engine.Engine:[raw sql] ()\n"
          ]
        },
        {
          "output_type": "stream",
          "name": "stdout",
          "text": [
            "2024-04-29 08:05:19,403 INFO sqlalchemy.engine.Engine PRAGMA temp.table_info(\"orders\")\n"
          ]
        },
        {
          "output_type": "stream",
          "name": "stderr",
          "text": [
            "INFO:sqlalchemy.engine.Engine:PRAGMA temp.table_info(\"orders\")\n"
          ]
        },
        {
          "output_type": "stream",
          "name": "stdout",
          "text": [
            "2024-04-29 08:05:19,405 INFO sqlalchemy.engine.Engine [raw sql] ()\n"
          ]
        },
        {
          "output_type": "stream",
          "name": "stderr",
          "text": [
            "INFO:sqlalchemy.engine.Engine:[raw sql] ()\n"
          ]
        },
        {
          "output_type": "stream",
          "name": "stdout",
          "text": [
            "2024-04-29 08:05:19,408 INFO sqlalchemy.engine.Engine PRAGMA main.table_info(\"users\")\n"
          ]
        },
        {
          "output_type": "stream",
          "name": "stderr",
          "text": [
            "INFO:sqlalchemy.engine.Engine:PRAGMA main.table_info(\"users\")\n"
          ]
        },
        {
          "output_type": "stream",
          "name": "stdout",
          "text": [
            "2024-04-29 08:05:19,410 INFO sqlalchemy.engine.Engine [raw sql] ()\n"
          ]
        },
        {
          "output_type": "stream",
          "name": "stderr",
          "text": [
            "INFO:sqlalchemy.engine.Engine:[raw sql] ()\n"
          ]
        },
        {
          "output_type": "stream",
          "name": "stdout",
          "text": [
            "2024-04-29 08:05:19,413 INFO sqlalchemy.engine.Engine PRAGMA temp.table_info(\"users\")\n"
          ]
        },
        {
          "output_type": "stream",
          "name": "stderr",
          "text": [
            "INFO:sqlalchemy.engine.Engine:PRAGMA temp.table_info(\"users\")\n"
          ]
        },
        {
          "output_type": "stream",
          "name": "stdout",
          "text": [
            "2024-04-29 08:05:19,415 INFO sqlalchemy.engine.Engine [raw sql] ()\n"
          ]
        },
        {
          "output_type": "stream",
          "name": "stderr",
          "text": [
            "INFO:sqlalchemy.engine.Engine:[raw sql] ()\n"
          ]
        },
        {
          "output_type": "stream",
          "name": "stdout",
          "text": [
            "2024-04-29 08:05:19,418 INFO sqlalchemy.engine.Engine \n",
            "CREATE TABLE items (\n",
            "\titem_id INTEGER NOT NULL, \n",
            "\titem_name VARCHAR(80) NOT NULL, \n",
            "\titem_price FLOAT NOT NULL, \n",
            "\titem_quantity INTEGER NOT NULL, \n",
            "\tPRIMARY KEY (item_id), \n",
            "\tUNIQUE (item_name)\n",
            ")\n",
            "\n",
            "\n"
          ]
        },
        {
          "output_type": "stream",
          "name": "stderr",
          "text": [
            "INFO:sqlalchemy.engine.Engine:\n",
            "CREATE TABLE items (\n",
            "\titem_id INTEGER NOT NULL, \n",
            "\titem_name VARCHAR(80) NOT NULL, \n",
            "\titem_price FLOAT NOT NULL, \n",
            "\titem_quantity INTEGER NOT NULL, \n",
            "\tPRIMARY KEY (item_id), \n",
            "\tUNIQUE (item_name)\n",
            ")\n",
            "\n",
            "\n"
          ]
        },
        {
          "output_type": "stream",
          "name": "stdout",
          "text": [
            "2024-04-29 08:05:19,420 INFO sqlalchemy.engine.Engine [no key 0.00224s] ()\n"
          ]
        },
        {
          "output_type": "stream",
          "name": "stderr",
          "text": [
            "INFO:sqlalchemy.engine.Engine:[no key 0.00224s] ()\n"
          ]
        },
        {
          "output_type": "stream",
          "name": "stdout",
          "text": [
            "2024-04-29 08:05:19,439 INFO sqlalchemy.engine.Engine \n",
            "CREATE TABLE users (\n",
            "\tuser_id INTEGER NOT NULL, \n",
            "\tuser_name VARCHAR(80) NOT NULL, \n",
            "\tuser_email VARCHAR(50) NOT NULL, \n",
            "\tPRIMARY KEY (user_id), \n",
            "\tUNIQUE (user_name), \n",
            "\tUNIQUE (user_email)\n",
            ")\n",
            "\n",
            "\n"
          ]
        },
        {
          "output_type": "stream",
          "name": "stderr",
          "text": [
            "INFO:sqlalchemy.engine.Engine:\n",
            "CREATE TABLE users (\n",
            "\tuser_id INTEGER NOT NULL, \n",
            "\tuser_name VARCHAR(80) NOT NULL, \n",
            "\tuser_email VARCHAR(50) NOT NULL, \n",
            "\tPRIMARY KEY (user_id), \n",
            "\tUNIQUE (user_name), \n",
            "\tUNIQUE (user_email)\n",
            ")\n",
            "\n",
            "\n"
          ]
        },
        {
          "output_type": "stream",
          "name": "stdout",
          "text": [
            "2024-04-29 08:05:19,441 INFO sqlalchemy.engine.Engine [no key 0.00224s] ()\n"
          ]
        },
        {
          "output_type": "stream",
          "name": "stderr",
          "text": [
            "INFO:sqlalchemy.engine.Engine:[no key 0.00224s] ()\n"
          ]
        },
        {
          "output_type": "stream",
          "name": "stdout",
          "text": [
            "2024-04-29 08:05:19,454 INFO sqlalchemy.engine.Engine \n",
            "CREATE TABLE orders (\n",
            "\torder_id INTEGER NOT NULL, \n",
            "\torder_quantity INTEGER NOT NULL, \n",
            "\tuser_id INTEGER, \n",
            "\titem_id INTEGER, \n",
            "\tPRIMARY KEY (order_id), \n",
            "\tFOREIGN KEY(user_id) REFERENCES users (user_id), \n",
            "\tFOREIGN KEY(item_id) REFERENCES items (item_id)\n",
            ")\n",
            "\n",
            "\n"
          ]
        },
        {
          "output_type": "stream",
          "name": "stderr",
          "text": [
            "INFO:sqlalchemy.engine.Engine:\n",
            "CREATE TABLE orders (\n",
            "\torder_id INTEGER NOT NULL, \n",
            "\torder_quantity INTEGER NOT NULL, \n",
            "\tuser_id INTEGER, \n",
            "\titem_id INTEGER, \n",
            "\tPRIMARY KEY (order_id), \n",
            "\tFOREIGN KEY(user_id) REFERENCES users (user_id), \n",
            "\tFOREIGN KEY(item_id) REFERENCES items (item_id)\n",
            ")\n",
            "\n",
            "\n"
          ]
        },
        {
          "output_type": "stream",
          "name": "stdout",
          "text": [
            "2024-04-29 08:05:19,457 INFO sqlalchemy.engine.Engine [no key 0.00231s] ()\n"
          ]
        },
        {
          "output_type": "stream",
          "name": "stderr",
          "text": [
            "INFO:sqlalchemy.engine.Engine:[no key 0.00231s] ()\n"
          ]
        },
        {
          "output_type": "stream",
          "name": "stdout",
          "text": [
            "2024-04-29 08:05:19,467 INFO sqlalchemy.engine.Engine COMMIT\n"
          ]
        },
        {
          "output_type": "stream",
          "name": "stderr",
          "text": [
            "INFO:sqlalchemy.engine.Engine:COMMIT\n"
          ]
        },
        {
          "output_type": "stream",
          "name": "stdout",
          "text": [
            "2024-04-29 08:05:19,474 INFO sqlalchemy.engine.Engine BEGIN (implicit)\n"
          ]
        },
        {
          "output_type": "stream",
          "name": "stderr",
          "text": [
            "INFO:sqlalchemy.engine.Engine:BEGIN (implicit)\n"
          ]
        },
        {
          "output_type": "stream",
          "name": "stdout",
          "text": [
            "2024-04-29 08:05:19,478 INFO sqlalchemy.engine.Engine INSERT INTO items (item_name, item_price, item_quantity) VALUES (?, ?, ?) RETURNING item_id\n"
          ]
        },
        {
          "output_type": "stream",
          "name": "stderr",
          "text": [
            "INFO:sqlalchemy.engine.Engine:INSERT INTO items (item_name, item_price, item_quantity) VALUES (?, ?, ?) RETURNING item_id\n"
          ]
        },
        {
          "output_type": "stream",
          "name": "stdout",
          "text": [
            "2024-04-29 08:05:19,481 INFO sqlalchemy.engine.Engine [generated in 0.00020s (insertmanyvalues) 1/2 (ordered; batch not supported)] ('Mango', 10.0, 100)\n"
          ]
        },
        {
          "output_type": "stream",
          "name": "stderr",
          "text": [
            "INFO:sqlalchemy.engine.Engine:[generated in 0.00020s (insertmanyvalues) 1/2 (ordered; batch not supported)] ('Mango', 10.0, 100)\n"
          ]
        },
        {
          "output_type": "stream",
          "name": "stdout",
          "text": [
            "2024-04-29 08:05:19,483 INFO sqlalchemy.engine.Engine INSERT INTO items (item_name, item_price, item_quantity) VALUES (?, ?, ?) RETURNING item_id\n"
          ]
        },
        {
          "output_type": "stream",
          "name": "stderr",
          "text": [
            "INFO:sqlalchemy.engine.Engine:INSERT INTO items (item_name, item_price, item_quantity) VALUES (?, ?, ?) RETURNING item_id\n"
          ]
        },
        {
          "output_type": "stream",
          "name": "stdout",
          "text": [
            "2024-04-29 08:05:19,486 INFO sqlalchemy.engine.Engine [insertmanyvalues 2/2 (ordered; batch not supported)] ('Lime', 20.0, 150)\n"
          ]
        },
        {
          "output_type": "stream",
          "name": "stderr",
          "text": [
            "INFO:sqlalchemy.engine.Engine:[insertmanyvalues 2/2 (ordered; batch not supported)] ('Lime', 20.0, 150)\n"
          ]
        },
        {
          "output_type": "stream",
          "name": "stdout",
          "text": [
            "2024-04-29 08:05:19,489 INFO sqlalchemy.engine.Engine COMMIT\n"
          ]
        },
        {
          "output_type": "stream",
          "name": "stderr",
          "text": [
            "INFO:sqlalchemy.engine.Engine:COMMIT\n"
          ]
        },
        {
          "output_type": "stream",
          "name": "stdout",
          "text": [
            "2024-04-29 08:05:19,503 INFO sqlalchemy.engine.Engine BEGIN (implicit)\n"
          ]
        },
        {
          "output_type": "stream",
          "name": "stderr",
          "text": [
            "INFO:sqlalchemy.engine.Engine:BEGIN (implicit)\n"
          ]
        },
        {
          "output_type": "stream",
          "name": "stdout",
          "text": [
            "2024-04-29 08:05:19,507 INFO sqlalchemy.engine.Engine INSERT INTO users (user_name, user_email) VALUES (?, ?) RETURNING user_id\n"
          ]
        },
        {
          "output_type": "stream",
          "name": "stderr",
          "text": [
            "INFO:sqlalchemy.engine.Engine:INSERT INTO users (user_name, user_email) VALUES (?, ?) RETURNING user_id\n"
          ]
        },
        {
          "output_type": "stream",
          "name": "stdout",
          "text": [
            "2024-04-29 08:05:19,509 INFO sqlalchemy.engine.Engine [generated in 0.00017s (insertmanyvalues) 1/2 (ordered; batch not supported)] ('John Doe', 'john_doe@gmail.com')\n"
          ]
        },
        {
          "output_type": "stream",
          "name": "stderr",
          "text": [
            "INFO:sqlalchemy.engine.Engine:[generated in 0.00017s (insertmanyvalues) 1/2 (ordered; batch not supported)] ('John Doe', 'john_doe@gmail.com')\n"
          ]
        },
        {
          "output_type": "stream",
          "name": "stdout",
          "text": [
            "2024-04-29 08:05:19,512 INFO sqlalchemy.engine.Engine INSERT INTO users (user_name, user_email) VALUES (?, ?) RETURNING user_id\n"
          ]
        },
        {
          "output_type": "stream",
          "name": "stderr",
          "text": [
            "INFO:sqlalchemy.engine.Engine:INSERT INTO users (user_name, user_email) VALUES (?, ?) RETURNING user_id\n"
          ]
        },
        {
          "output_type": "stream",
          "name": "stdout",
          "text": [
            "2024-04-29 08:05:19,514 INFO sqlalchemy.engine.Engine [insertmanyvalues 2/2 (ordered; batch not supported)] ('Jane Smith', 'jane_sm@hmail.com')\n"
          ]
        },
        {
          "output_type": "stream",
          "name": "stderr",
          "text": [
            "INFO:sqlalchemy.engine.Engine:[insertmanyvalues 2/2 (ordered; batch not supported)] ('Jane Smith', 'jane_sm@hmail.com')\n"
          ]
        },
        {
          "output_type": "stream",
          "name": "stdout",
          "text": [
            "2024-04-29 08:05:19,517 INFO sqlalchemy.engine.Engine COMMIT\n"
          ]
        },
        {
          "output_type": "stream",
          "name": "stderr",
          "text": [
            "INFO:sqlalchemy.engine.Engine:COMMIT\n"
          ]
        },
        {
          "output_type": "stream",
          "name": "stdout",
          "text": [
            "2024-04-29 08:05:19,527 INFO sqlalchemy.engine.Engine BEGIN (implicit)\n"
          ]
        },
        {
          "output_type": "stream",
          "name": "stderr",
          "text": [
            "INFO:sqlalchemy.engine.Engine:BEGIN (implicit)\n"
          ]
        },
        {
          "output_type": "stream",
          "name": "stdout",
          "text": [
            "2024-04-29 08:05:19,531 INFO sqlalchemy.engine.Engine INSERT INTO orders (order_quantity, user_id, item_id) VALUES (?, ?, ?) RETURNING order_id\n"
          ]
        },
        {
          "output_type": "stream",
          "name": "stderr",
          "text": [
            "INFO:sqlalchemy.engine.Engine:INSERT INTO orders (order_quantity, user_id, item_id) VALUES (?, ?, ?) RETURNING order_id\n"
          ]
        },
        {
          "output_type": "stream",
          "name": "stdout",
          "text": [
            "2024-04-29 08:05:19,534 INFO sqlalchemy.engine.Engine [generated in 0.00019s (insertmanyvalues) 1/2 (ordered; batch not supported)] (5, 1, 1)\n"
          ]
        },
        {
          "output_type": "stream",
          "name": "stderr",
          "text": [
            "INFO:sqlalchemy.engine.Engine:[generated in 0.00019s (insertmanyvalues) 1/2 (ordered; batch not supported)] (5, 1, 1)\n"
          ]
        },
        {
          "output_type": "stream",
          "name": "stdout",
          "text": [
            "2024-04-29 08:05:19,536 INFO sqlalchemy.engine.Engine INSERT INTO orders (order_quantity, user_id, item_id) VALUES (?, ?, ?) RETURNING order_id\n"
          ]
        },
        {
          "output_type": "stream",
          "name": "stderr",
          "text": [
            "INFO:sqlalchemy.engine.Engine:INSERT INTO orders (order_quantity, user_id, item_id) VALUES (?, ?, ?) RETURNING order_id\n"
          ]
        },
        {
          "output_type": "stream",
          "name": "stdout",
          "text": [
            "2024-04-29 08:05:19,538 INFO sqlalchemy.engine.Engine [insertmanyvalues 2/2 (ordered; batch not supported)] (10, 2, 2)\n"
          ]
        },
        {
          "output_type": "stream",
          "name": "stderr",
          "text": [
            "INFO:sqlalchemy.engine.Engine:[insertmanyvalues 2/2 (ordered; batch not supported)] (10, 2, 2)\n"
          ]
        },
        {
          "output_type": "stream",
          "name": "stdout",
          "text": [
            "2024-04-29 08:05:19,541 INFO sqlalchemy.engine.Engine COMMIT\n"
          ]
        },
        {
          "output_type": "stream",
          "name": "stderr",
          "text": [
            "INFO:sqlalchemy.engine.Engine:COMMIT\n"
          ]
        }
      ]
    },
    {
      "cell_type": "code",
      "source": [
        "# 7.Write a  Python program to retrieve items with a price greater than a certain value from the 'items' table using the SQLAlchemy model.\n",
        "from sqlalchemy import create_engine, Column, Integer, String, Float\n",
        "from sqlalchemy.ext.declarative import declarative_base\n",
        "from sqlalchemy.orm import sessionmaker\n",
        "\n",
        "engine = create_engine('sqlite:///new_shop.db', echo=True)\n",
        "Base = declarative_base()\n",
        "\n",
        "class Item(Base):\n",
        "    __tablename__ = \"item\"\n",
        "\n",
        "    item_id = Column(Integer, primary_key=True)\n",
        "    item_name = Column(String(80), unique=True, nullable=False)\n",
        "    item_price = Column(Float(precision=2), nullable=False)\n",
        "    item_quantity = Column(Integer, nullable=False)\n",
        "\n",
        "Base.metadata.create_all(engine)\n",
        "\n",
        "Session = sessionmaker(bind=engine)\n",
        "session = Session()\n",
        "\n",
        "\n",
        "item1 = Item(item_name='Mango', item_price=10, item_quantity=100)\n",
        "item2 = Item(item_name='Lime', item_price=20, item_quantity=150)\n",
        "item3 = Item(item_name='Banana', item_price=15, item_quantity=160)\n",
        "item4 = Item(item_name='Cofee', item_price=50, item_quantity=10)\n",
        "item5 = Item(item_name='tea', item_price=70, item_quantity=15)\n",
        "\n",
        "session.add_all([item1, item2, item3, item4, item5])\n",
        "session.commit()\n",
        "\n",
        "\n",
        "certain_price = 20\n",
        "items_more_certain = session.query(Item).filter(Item.item_price > certain_price).all()\n",
        "print(\"Items with a price greater than\", certain_price)\n",
        "for item in items_more_certain:\n",
        "    print(\"Item ID:\", item.item_id)\n",
        "    print(\"Item Name:\", item.item_name)\n",
        "    print(\"Item Price:\", item.item_price)\n",
        "    print(\"Item Quantity:\", item.item_quantity)\n",
        "    print(\"------------------------------------\")\n",
        "\n",
        "session.close()\n"
      ],
      "metadata": {
        "colab": {
          "base_uri": "https://localhost:8080/"
        },
        "id": "afCPi8HjJgLg",
        "outputId": "11fe87c6-2fc2-414e-d43d-ead284c217ee"
      },
      "execution_count": 27,
      "outputs": [
        {
          "output_type": "stream",
          "name": "stdout",
          "text": [
            "2024-04-29 08:21:33,780 INFO sqlalchemy.engine.Engine BEGIN (implicit)\n"
          ]
        },
        {
          "output_type": "stream",
          "name": "stderr",
          "text": [
            "<ipython-input-27-3e90b4a013fa>:7: MovedIn20Warning: The ``declarative_base()`` function is now available as sqlalchemy.orm.declarative_base(). (deprecated since: 2.0) (Background on SQLAlchemy 2.0 at: https://sqlalche.me/e/b8d9)\n",
            "  Base = declarative_base()\n",
            "INFO:sqlalchemy.engine.Engine:BEGIN (implicit)\n"
          ]
        },
        {
          "output_type": "stream",
          "name": "stdout",
          "text": [
            "2024-04-29 08:21:33,791 INFO sqlalchemy.engine.Engine PRAGMA main.table_info(\"item\")\n"
          ]
        },
        {
          "output_type": "stream",
          "name": "stderr",
          "text": [
            "INFO:sqlalchemy.engine.Engine:PRAGMA main.table_info(\"item\")\n"
          ]
        },
        {
          "output_type": "stream",
          "name": "stdout",
          "text": [
            "2024-04-29 08:21:33,797 INFO sqlalchemy.engine.Engine [raw sql] ()\n"
          ]
        },
        {
          "output_type": "stream",
          "name": "stderr",
          "text": [
            "INFO:sqlalchemy.engine.Engine:[raw sql] ()\n"
          ]
        },
        {
          "output_type": "stream",
          "name": "stdout",
          "text": [
            "2024-04-29 08:21:33,800 INFO sqlalchemy.engine.Engine PRAGMA temp.table_info(\"item\")\n"
          ]
        },
        {
          "output_type": "stream",
          "name": "stderr",
          "text": [
            "INFO:sqlalchemy.engine.Engine:PRAGMA temp.table_info(\"item\")\n"
          ]
        },
        {
          "output_type": "stream",
          "name": "stdout",
          "text": [
            "2024-04-29 08:21:33,804 INFO sqlalchemy.engine.Engine [raw sql] ()\n"
          ]
        },
        {
          "output_type": "stream",
          "name": "stderr",
          "text": [
            "INFO:sqlalchemy.engine.Engine:[raw sql] ()\n"
          ]
        },
        {
          "output_type": "stream",
          "name": "stdout",
          "text": [
            "2024-04-29 08:21:33,808 INFO sqlalchemy.engine.Engine \n",
            "CREATE TABLE item (\n",
            "\titem_id INTEGER NOT NULL, \n",
            "\titem_name VARCHAR(80) NOT NULL, \n",
            "\titem_price FLOAT NOT NULL, \n",
            "\titem_quantity INTEGER NOT NULL, \n",
            "\tPRIMARY KEY (item_id), \n",
            "\tUNIQUE (item_name)\n",
            ")\n",
            "\n",
            "\n"
          ]
        },
        {
          "output_type": "stream",
          "name": "stderr",
          "text": [
            "INFO:sqlalchemy.engine.Engine:\n",
            "CREATE TABLE item (\n",
            "\titem_id INTEGER NOT NULL, \n",
            "\titem_name VARCHAR(80) NOT NULL, \n",
            "\titem_price FLOAT NOT NULL, \n",
            "\titem_quantity INTEGER NOT NULL, \n",
            "\tPRIMARY KEY (item_id), \n",
            "\tUNIQUE (item_name)\n",
            ")\n",
            "\n",
            "\n"
          ]
        },
        {
          "output_type": "stream",
          "name": "stdout",
          "text": [
            "2024-04-29 08:21:33,810 INFO sqlalchemy.engine.Engine [no key 0.00218s] ()\n"
          ]
        },
        {
          "output_type": "stream",
          "name": "stderr",
          "text": [
            "INFO:sqlalchemy.engine.Engine:[no key 0.00218s] ()\n"
          ]
        },
        {
          "output_type": "stream",
          "name": "stdout",
          "text": [
            "2024-04-29 08:21:33,821 INFO sqlalchemy.engine.Engine COMMIT\n"
          ]
        },
        {
          "output_type": "stream",
          "name": "stderr",
          "text": [
            "INFO:sqlalchemy.engine.Engine:COMMIT\n"
          ]
        },
        {
          "output_type": "stream",
          "name": "stdout",
          "text": [
            "2024-04-29 08:21:33,826 INFO sqlalchemy.engine.Engine BEGIN (implicit)\n"
          ]
        },
        {
          "output_type": "stream",
          "name": "stderr",
          "text": [
            "INFO:sqlalchemy.engine.Engine:BEGIN (implicit)\n"
          ]
        },
        {
          "output_type": "stream",
          "name": "stdout",
          "text": [
            "2024-04-29 08:21:33,831 INFO sqlalchemy.engine.Engine INSERT INTO item (item_name, item_price, item_quantity) VALUES (?, ?, ?) RETURNING item_id\n"
          ]
        },
        {
          "output_type": "stream",
          "name": "stderr",
          "text": [
            "INFO:sqlalchemy.engine.Engine:INSERT INTO item (item_name, item_price, item_quantity) VALUES (?, ?, ?) RETURNING item_id\n"
          ]
        },
        {
          "output_type": "stream",
          "name": "stdout",
          "text": [
            "2024-04-29 08:21:33,833 INFO sqlalchemy.engine.Engine [generated in 0.00022s (insertmanyvalues) 1/5 (ordered; batch not supported)] ('Mango', 10.0, 100)\n"
          ]
        },
        {
          "output_type": "stream",
          "name": "stderr",
          "text": [
            "INFO:sqlalchemy.engine.Engine:[generated in 0.00022s (insertmanyvalues) 1/5 (ordered; batch not supported)] ('Mango', 10.0, 100)\n"
          ]
        },
        {
          "output_type": "stream",
          "name": "stdout",
          "text": [
            "2024-04-29 08:21:33,835 INFO sqlalchemy.engine.Engine INSERT INTO item (item_name, item_price, item_quantity) VALUES (?, ?, ?) RETURNING item_id\n"
          ]
        },
        {
          "output_type": "stream",
          "name": "stderr",
          "text": [
            "INFO:sqlalchemy.engine.Engine:INSERT INTO item (item_name, item_price, item_quantity) VALUES (?, ?, ?) RETURNING item_id\n"
          ]
        },
        {
          "output_type": "stream",
          "name": "stdout",
          "text": [
            "2024-04-29 08:21:33,838 INFO sqlalchemy.engine.Engine [insertmanyvalues 2/5 (ordered; batch not supported)] ('Lime', 20.0, 150)\n"
          ]
        },
        {
          "output_type": "stream",
          "name": "stderr",
          "text": [
            "INFO:sqlalchemy.engine.Engine:[insertmanyvalues 2/5 (ordered; batch not supported)] ('Lime', 20.0, 150)\n"
          ]
        },
        {
          "output_type": "stream",
          "name": "stdout",
          "text": [
            "2024-04-29 08:21:33,840 INFO sqlalchemy.engine.Engine INSERT INTO item (item_name, item_price, item_quantity) VALUES (?, ?, ?) RETURNING item_id\n"
          ]
        },
        {
          "output_type": "stream",
          "name": "stderr",
          "text": [
            "INFO:sqlalchemy.engine.Engine:INSERT INTO item (item_name, item_price, item_quantity) VALUES (?, ?, ?) RETURNING item_id\n"
          ]
        },
        {
          "output_type": "stream",
          "name": "stdout",
          "text": [
            "2024-04-29 08:21:33,843 INFO sqlalchemy.engine.Engine [insertmanyvalues 3/5 (ordered; batch not supported)] ('Banana', 15.0, 160)\n"
          ]
        },
        {
          "output_type": "stream",
          "name": "stderr",
          "text": [
            "INFO:sqlalchemy.engine.Engine:[insertmanyvalues 3/5 (ordered; batch not supported)] ('Banana', 15.0, 160)\n"
          ]
        },
        {
          "output_type": "stream",
          "name": "stdout",
          "text": [
            "2024-04-29 08:21:33,846 INFO sqlalchemy.engine.Engine INSERT INTO item (item_name, item_price, item_quantity) VALUES (?, ?, ?) RETURNING item_id\n"
          ]
        },
        {
          "output_type": "stream",
          "name": "stderr",
          "text": [
            "INFO:sqlalchemy.engine.Engine:INSERT INTO item (item_name, item_price, item_quantity) VALUES (?, ?, ?) RETURNING item_id\n"
          ]
        },
        {
          "output_type": "stream",
          "name": "stdout",
          "text": [
            "2024-04-29 08:21:33,847 INFO sqlalchemy.engine.Engine [insertmanyvalues 4/5 (ordered; batch not supported)] ('Cofee', 50.0, 10)\n"
          ]
        },
        {
          "output_type": "stream",
          "name": "stderr",
          "text": [
            "INFO:sqlalchemy.engine.Engine:[insertmanyvalues 4/5 (ordered; batch not supported)] ('Cofee', 50.0, 10)\n"
          ]
        },
        {
          "output_type": "stream",
          "name": "stdout",
          "text": [
            "2024-04-29 08:21:33,850 INFO sqlalchemy.engine.Engine INSERT INTO item (item_name, item_price, item_quantity) VALUES (?, ?, ?) RETURNING item_id\n"
          ]
        },
        {
          "output_type": "stream",
          "name": "stderr",
          "text": [
            "INFO:sqlalchemy.engine.Engine:INSERT INTO item (item_name, item_price, item_quantity) VALUES (?, ?, ?) RETURNING item_id\n"
          ]
        },
        {
          "output_type": "stream",
          "name": "stdout",
          "text": [
            "2024-04-29 08:21:33,852 INFO sqlalchemy.engine.Engine [insertmanyvalues 5/5 (ordered; batch not supported)] ('tea', 70.0, 15)\n"
          ]
        },
        {
          "output_type": "stream",
          "name": "stderr",
          "text": [
            "INFO:sqlalchemy.engine.Engine:[insertmanyvalues 5/5 (ordered; batch not supported)] ('tea', 70.0, 15)\n"
          ]
        },
        {
          "output_type": "stream",
          "name": "stdout",
          "text": [
            "2024-04-29 08:21:33,855 INFO sqlalchemy.engine.Engine COMMIT\n"
          ]
        },
        {
          "output_type": "stream",
          "name": "stderr",
          "text": [
            "INFO:sqlalchemy.engine.Engine:COMMIT\n"
          ]
        },
        {
          "output_type": "stream",
          "name": "stdout",
          "text": [
            "2024-04-29 08:21:33,866 INFO sqlalchemy.engine.Engine BEGIN (implicit)\n"
          ]
        },
        {
          "output_type": "stream",
          "name": "stderr",
          "text": [
            "INFO:sqlalchemy.engine.Engine:BEGIN (implicit)\n"
          ]
        },
        {
          "output_type": "stream",
          "name": "stdout",
          "text": [
            "2024-04-29 08:21:33,870 INFO sqlalchemy.engine.Engine SELECT item.item_id AS item_item_id, item.item_name AS item_item_name, item.item_price AS item_item_price, item.item_quantity AS item_item_quantity \n",
            "FROM item \n",
            "WHERE item.item_price > ?\n"
          ]
        },
        {
          "output_type": "stream",
          "name": "stderr",
          "text": [
            "INFO:sqlalchemy.engine.Engine:SELECT item.item_id AS item_item_id, item.item_name AS item_item_name, item.item_price AS item_item_price, item.item_quantity AS item_item_quantity \n",
            "FROM item \n",
            "WHERE item.item_price > ?\n"
          ]
        },
        {
          "output_type": "stream",
          "name": "stdout",
          "text": [
            "2024-04-29 08:21:33,872 INFO sqlalchemy.engine.Engine [generated in 0.00236s] (20,)\n"
          ]
        },
        {
          "output_type": "stream",
          "name": "stderr",
          "text": [
            "INFO:sqlalchemy.engine.Engine:[generated in 0.00236s] (20,)\n"
          ]
        },
        {
          "output_type": "stream",
          "name": "stdout",
          "text": [
            "Items with a price greater than 20\n",
            "Item ID: 4\n",
            "Item Name: Cofee\n",
            "Item Price: 50.0\n",
            "Item Quantity: 10\n",
            "------------------------------------\n",
            "Item ID: 5\n",
            "Item Name: tea\n",
            "Item Price: 70.0\n",
            "Item Quantity: 15\n",
            "------------------------------------\n",
            "2024-04-29 08:21:33,876 INFO sqlalchemy.engine.Engine ROLLBACK\n"
          ]
        },
        {
          "output_type": "stream",
          "name": "stderr",
          "text": [
            "INFO:sqlalchemy.engine.Engine:ROLLBACK\n"
          ]
        }
      ]
    },
    {
      "cell_type": "code",
      "source": [
        "# 8.Write a  Python program to update the quantity of an item in the 'Items' table based on its name using the SQLAlchemy model.\n",
        "from sqlalchemy import create_engine, Column, Integer, String, Float\n",
        "from sqlalchemy.ext.declarative import declarative_base\n",
        "from sqlalchemy.orm import sessionmaker\n",
        "\n",
        "engine = create_engine('sqlite:///new_shop1.db', echo=True)\n",
        "Base = declarative_base()\n",
        "\n",
        "class Item(Base):\n",
        "    __tablename__ = \"item\"\n",
        "\n",
        "    item_id = Column(Integer, primary_key=True)\n",
        "    item_name = Column(String(80), unique=True, nullable=False)\n",
        "    item_price = Column(Float(precision=2), nullable=False)\n",
        "    item_quantity = Column(Integer, nullable=False)\n",
        "\n",
        "Base.metadata.create_all(engine)\n",
        "\n",
        "Session = sessionmaker(bind=engine)\n",
        "session = Session()\n",
        "\n",
        "\n",
        "item1 = Item(item_name='Mango', item_price=10, item_quantity=100)\n",
        "item2 = Item(item_name='Lime', item_price=20, item_quantity=150)\n",
        "item3 = Item(item_name='Banana', item_price=15, item_quantity=160)\n",
        "item4 = Item(item_name='Cofee', item_price=50, item_quantity=10)\n",
        "item5 = Item(item_name='tea', item_price=70, item_quantity=15)\n",
        "\n",
        "session.add_all([item1, item2, item3, item4, item5])\n",
        "session.commit()\n",
        "\n",
        "\n",
        "item_name_update = 'Lime'\n",
        "new_quantity = 30\n",
        "update_item = session.query(Item).filter(Item.item_name == item_name_update).first()\n",
        "\n",
        "if update_item:\n",
        "    update_item.item_quantity = new_quantity\n",
        "    session.commit()\n",
        "    print(\"Updated successfully.\")\n",
        "else:\n",
        "    print(\"No item found with name:\", item_name_update)\n",
        "\n",
        "\n",
        "result = session.query(Item).all()\n",
        "for item in result:\n",
        "    print(item.item_id, item.item_name, item.item_price, item.item_quantity)\n",
        "\n",
        "session.close()\n"
      ],
      "metadata": {
        "id": "eQ4y_lQ3L7jD",
        "colab": {
          "base_uri": "https://localhost:8080/"
        },
        "outputId": "165d81ec-25b8-4786-b927-0c7599a00408"
      },
      "execution_count": 29,
      "outputs": [
        {
          "output_type": "stream",
          "name": "stdout",
          "text": [
            "2024-04-29 08:41:24,126 INFO sqlalchemy.engine.Engine BEGIN (implicit)\n"
          ]
        },
        {
          "output_type": "stream",
          "name": "stderr",
          "text": [
            "<ipython-input-29-c8a9c9f9e23e>:7: MovedIn20Warning: The ``declarative_base()`` function is now available as sqlalchemy.orm.declarative_base(). (deprecated since: 2.0) (Background on SQLAlchemy 2.0 at: https://sqlalche.me/e/b8d9)\n",
            "  Base = declarative_base()\n",
            "INFO:sqlalchemy.engine.Engine:BEGIN (implicit)\n"
          ]
        },
        {
          "output_type": "stream",
          "name": "stdout",
          "text": [
            "2024-04-29 08:41:24,131 INFO sqlalchemy.engine.Engine PRAGMA main.table_info(\"item\")\n"
          ]
        },
        {
          "output_type": "stream",
          "name": "stderr",
          "text": [
            "INFO:sqlalchemy.engine.Engine:PRAGMA main.table_info(\"item\")\n"
          ]
        },
        {
          "output_type": "stream",
          "name": "stdout",
          "text": [
            "2024-04-29 08:41:24,136 INFO sqlalchemy.engine.Engine [raw sql] ()\n"
          ]
        },
        {
          "output_type": "stream",
          "name": "stderr",
          "text": [
            "INFO:sqlalchemy.engine.Engine:[raw sql] ()\n"
          ]
        },
        {
          "output_type": "stream",
          "name": "stdout",
          "text": [
            "2024-04-29 08:41:24,141 INFO sqlalchemy.engine.Engine PRAGMA temp.table_info(\"item\")\n"
          ]
        },
        {
          "output_type": "stream",
          "name": "stderr",
          "text": [
            "INFO:sqlalchemy.engine.Engine:PRAGMA temp.table_info(\"item\")\n"
          ]
        },
        {
          "output_type": "stream",
          "name": "stdout",
          "text": [
            "2024-04-29 08:41:24,144 INFO sqlalchemy.engine.Engine [raw sql] ()\n"
          ]
        },
        {
          "output_type": "stream",
          "name": "stderr",
          "text": [
            "INFO:sqlalchemy.engine.Engine:[raw sql] ()\n"
          ]
        },
        {
          "output_type": "stream",
          "name": "stdout",
          "text": [
            "2024-04-29 08:41:24,148 INFO sqlalchemy.engine.Engine \n",
            "CREATE TABLE item (\n",
            "\titem_id INTEGER NOT NULL, \n",
            "\titem_name VARCHAR(80) NOT NULL, \n",
            "\titem_price FLOAT NOT NULL, \n",
            "\titem_quantity INTEGER NOT NULL, \n",
            "\tPRIMARY KEY (item_id), \n",
            "\tUNIQUE (item_name)\n",
            ")\n",
            "\n",
            "\n"
          ]
        },
        {
          "output_type": "stream",
          "name": "stderr",
          "text": [
            "INFO:sqlalchemy.engine.Engine:\n",
            "CREATE TABLE item (\n",
            "\titem_id INTEGER NOT NULL, \n",
            "\titem_name VARCHAR(80) NOT NULL, \n",
            "\titem_price FLOAT NOT NULL, \n",
            "\titem_quantity INTEGER NOT NULL, \n",
            "\tPRIMARY KEY (item_id), \n",
            "\tUNIQUE (item_name)\n",
            ")\n",
            "\n",
            "\n"
          ]
        },
        {
          "output_type": "stream",
          "name": "stdout",
          "text": [
            "2024-04-29 08:41:24,151 INFO sqlalchemy.engine.Engine [no key 0.00317s] ()\n"
          ]
        },
        {
          "output_type": "stream",
          "name": "stderr",
          "text": [
            "INFO:sqlalchemy.engine.Engine:[no key 0.00317s] ()\n"
          ]
        },
        {
          "output_type": "stream",
          "name": "stdout",
          "text": [
            "2024-04-29 08:41:24,165 INFO sqlalchemy.engine.Engine COMMIT\n"
          ]
        },
        {
          "output_type": "stream",
          "name": "stderr",
          "text": [
            "INFO:sqlalchemy.engine.Engine:COMMIT\n"
          ]
        },
        {
          "output_type": "stream",
          "name": "stdout",
          "text": [
            "2024-04-29 08:41:24,171 INFO sqlalchemy.engine.Engine BEGIN (implicit)\n"
          ]
        },
        {
          "output_type": "stream",
          "name": "stderr",
          "text": [
            "INFO:sqlalchemy.engine.Engine:BEGIN (implicit)\n"
          ]
        },
        {
          "output_type": "stream",
          "name": "stdout",
          "text": [
            "2024-04-29 08:41:24,175 INFO sqlalchemy.engine.Engine INSERT INTO item (item_name, item_price, item_quantity) VALUES (?, ?, ?) RETURNING item_id\n"
          ]
        },
        {
          "output_type": "stream",
          "name": "stderr",
          "text": [
            "INFO:sqlalchemy.engine.Engine:INSERT INTO item (item_name, item_price, item_quantity) VALUES (?, ?, ?) RETURNING item_id\n"
          ]
        },
        {
          "output_type": "stream",
          "name": "stdout",
          "text": [
            "2024-04-29 08:41:24,178 INFO sqlalchemy.engine.Engine [generated in 0.00026s (insertmanyvalues) 1/5 (ordered; batch not supported)] ('Mango', 10.0, 100)\n"
          ]
        },
        {
          "output_type": "stream",
          "name": "stderr",
          "text": [
            "INFO:sqlalchemy.engine.Engine:[generated in 0.00026s (insertmanyvalues) 1/5 (ordered; batch not supported)] ('Mango', 10.0, 100)\n"
          ]
        },
        {
          "output_type": "stream",
          "name": "stdout",
          "text": [
            "2024-04-29 08:41:24,181 INFO sqlalchemy.engine.Engine INSERT INTO item (item_name, item_price, item_quantity) VALUES (?, ?, ?) RETURNING item_id\n"
          ]
        },
        {
          "output_type": "stream",
          "name": "stderr",
          "text": [
            "INFO:sqlalchemy.engine.Engine:INSERT INTO item (item_name, item_price, item_quantity) VALUES (?, ?, ?) RETURNING item_id\n"
          ]
        },
        {
          "output_type": "stream",
          "name": "stdout",
          "text": [
            "2024-04-29 08:41:24,183 INFO sqlalchemy.engine.Engine [insertmanyvalues 2/5 (ordered; batch not supported)] ('Lime', 20.0, 150)\n"
          ]
        },
        {
          "output_type": "stream",
          "name": "stderr",
          "text": [
            "INFO:sqlalchemy.engine.Engine:[insertmanyvalues 2/5 (ordered; batch not supported)] ('Lime', 20.0, 150)\n"
          ]
        },
        {
          "output_type": "stream",
          "name": "stdout",
          "text": [
            "2024-04-29 08:41:24,185 INFO sqlalchemy.engine.Engine INSERT INTO item (item_name, item_price, item_quantity) VALUES (?, ?, ?) RETURNING item_id\n"
          ]
        },
        {
          "output_type": "stream",
          "name": "stderr",
          "text": [
            "INFO:sqlalchemy.engine.Engine:INSERT INTO item (item_name, item_price, item_quantity) VALUES (?, ?, ?) RETURNING item_id\n"
          ]
        },
        {
          "output_type": "stream",
          "name": "stdout",
          "text": [
            "2024-04-29 08:41:24,187 INFO sqlalchemy.engine.Engine [insertmanyvalues 3/5 (ordered; batch not supported)] ('Banana', 15.0, 160)\n"
          ]
        },
        {
          "output_type": "stream",
          "name": "stderr",
          "text": [
            "INFO:sqlalchemy.engine.Engine:[insertmanyvalues 3/5 (ordered; batch not supported)] ('Banana', 15.0, 160)\n"
          ]
        },
        {
          "output_type": "stream",
          "name": "stdout",
          "text": [
            "2024-04-29 08:41:24,190 INFO sqlalchemy.engine.Engine INSERT INTO item (item_name, item_price, item_quantity) VALUES (?, ?, ?) RETURNING item_id\n"
          ]
        },
        {
          "output_type": "stream",
          "name": "stderr",
          "text": [
            "INFO:sqlalchemy.engine.Engine:INSERT INTO item (item_name, item_price, item_quantity) VALUES (?, ?, ?) RETURNING item_id\n"
          ]
        },
        {
          "output_type": "stream",
          "name": "stdout",
          "text": [
            "2024-04-29 08:41:24,192 INFO sqlalchemy.engine.Engine [insertmanyvalues 4/5 (ordered; batch not supported)] ('Cofee', 50.0, 10)\n"
          ]
        },
        {
          "output_type": "stream",
          "name": "stderr",
          "text": [
            "INFO:sqlalchemy.engine.Engine:[insertmanyvalues 4/5 (ordered; batch not supported)] ('Cofee', 50.0, 10)\n"
          ]
        },
        {
          "output_type": "stream",
          "name": "stdout",
          "text": [
            "2024-04-29 08:41:24,194 INFO sqlalchemy.engine.Engine INSERT INTO item (item_name, item_price, item_quantity) VALUES (?, ?, ?) RETURNING item_id\n"
          ]
        },
        {
          "output_type": "stream",
          "name": "stderr",
          "text": [
            "INFO:sqlalchemy.engine.Engine:INSERT INTO item (item_name, item_price, item_quantity) VALUES (?, ?, ?) RETURNING item_id\n"
          ]
        },
        {
          "output_type": "stream",
          "name": "stdout",
          "text": [
            "2024-04-29 08:41:24,196 INFO sqlalchemy.engine.Engine [insertmanyvalues 5/5 (ordered; batch not supported)] ('tea', 70.0, 15)\n"
          ]
        },
        {
          "output_type": "stream",
          "name": "stderr",
          "text": [
            "INFO:sqlalchemy.engine.Engine:[insertmanyvalues 5/5 (ordered; batch not supported)] ('tea', 70.0, 15)\n"
          ]
        },
        {
          "output_type": "stream",
          "name": "stdout",
          "text": [
            "2024-04-29 08:41:24,199 INFO sqlalchemy.engine.Engine COMMIT\n"
          ]
        },
        {
          "output_type": "stream",
          "name": "stderr",
          "text": [
            "INFO:sqlalchemy.engine.Engine:COMMIT\n"
          ]
        },
        {
          "output_type": "stream",
          "name": "stdout",
          "text": [
            "2024-04-29 08:41:24,210 INFO sqlalchemy.engine.Engine BEGIN (implicit)\n"
          ]
        },
        {
          "output_type": "stream",
          "name": "stderr",
          "text": [
            "INFO:sqlalchemy.engine.Engine:BEGIN (implicit)\n"
          ]
        },
        {
          "output_type": "stream",
          "name": "stdout",
          "text": [
            "2024-04-29 08:41:24,214 INFO sqlalchemy.engine.Engine SELECT item.item_id AS item_item_id, item.item_name AS item_item_name, item.item_price AS item_item_price, item.item_quantity AS item_item_quantity \n",
            "FROM item \n",
            "WHERE item.item_name = ?\n",
            " LIMIT ? OFFSET ?\n"
          ]
        },
        {
          "output_type": "stream",
          "name": "stderr",
          "text": [
            "INFO:sqlalchemy.engine.Engine:SELECT item.item_id AS item_item_id, item.item_name AS item_item_name, item.item_price AS item_item_price, item.item_quantity AS item_item_quantity \n",
            "FROM item \n",
            "WHERE item.item_name = ?\n",
            " LIMIT ? OFFSET ?\n"
          ]
        },
        {
          "output_type": "stream",
          "name": "stdout",
          "text": [
            "2024-04-29 08:41:24,218 INFO sqlalchemy.engine.Engine [generated in 0.00352s] ('Lime', 1, 0)\n"
          ]
        },
        {
          "output_type": "stream",
          "name": "stderr",
          "text": [
            "INFO:sqlalchemy.engine.Engine:[generated in 0.00352s] ('Lime', 1, 0)\n"
          ]
        },
        {
          "output_type": "stream",
          "name": "stdout",
          "text": [
            "2024-04-29 08:41:24,223 INFO sqlalchemy.engine.Engine UPDATE item SET item_quantity=? WHERE item.item_id = ?\n"
          ]
        },
        {
          "output_type": "stream",
          "name": "stderr",
          "text": [
            "INFO:sqlalchemy.engine.Engine:UPDATE item SET item_quantity=? WHERE item.item_id = ?\n"
          ]
        },
        {
          "output_type": "stream",
          "name": "stdout",
          "text": [
            "2024-04-29 08:41:24,226 INFO sqlalchemy.engine.Engine [generated in 0.00339s] (30, 2)\n"
          ]
        },
        {
          "output_type": "stream",
          "name": "stderr",
          "text": [
            "INFO:sqlalchemy.engine.Engine:[generated in 0.00339s] (30, 2)\n"
          ]
        },
        {
          "output_type": "stream",
          "name": "stdout",
          "text": [
            "2024-04-29 08:41:24,229 INFO sqlalchemy.engine.Engine COMMIT\n"
          ]
        },
        {
          "output_type": "stream",
          "name": "stderr",
          "text": [
            "INFO:sqlalchemy.engine.Engine:COMMIT\n"
          ]
        },
        {
          "output_type": "stream",
          "name": "stdout",
          "text": [
            "Updated successfully.\n",
            "2024-04-29 08:41:24,244 INFO sqlalchemy.engine.Engine BEGIN (implicit)\n"
          ]
        },
        {
          "output_type": "stream",
          "name": "stderr",
          "text": [
            "INFO:sqlalchemy.engine.Engine:BEGIN (implicit)\n"
          ]
        },
        {
          "output_type": "stream",
          "name": "stdout",
          "text": [
            "2024-04-29 08:41:24,247 INFO sqlalchemy.engine.Engine SELECT item.item_id AS item_item_id, item.item_name AS item_item_name, item.item_price AS item_item_price, item.item_quantity AS item_item_quantity \n",
            "FROM item\n"
          ]
        },
        {
          "output_type": "stream",
          "name": "stderr",
          "text": [
            "INFO:sqlalchemy.engine.Engine:SELECT item.item_id AS item_item_id, item.item_name AS item_item_name, item.item_price AS item_item_price, item.item_quantity AS item_item_quantity \n",
            "FROM item\n"
          ]
        },
        {
          "output_type": "stream",
          "name": "stdout",
          "text": [
            "2024-04-29 08:41:24,250 INFO sqlalchemy.engine.Engine [generated in 0.00372s] ()\n"
          ]
        },
        {
          "output_type": "stream",
          "name": "stderr",
          "text": [
            "INFO:sqlalchemy.engine.Engine:[generated in 0.00372s] ()\n"
          ]
        },
        {
          "output_type": "stream",
          "name": "stdout",
          "text": [
            "1 Mango 10.0 100\n",
            "2 Lime 20.0 30\n",
            "3 Banana 15.0 160\n",
            "4 Cofee 50.0 10\n",
            "5 tea 70.0 15\n",
            "2024-04-29 08:41:24,254 INFO sqlalchemy.engine.Engine ROLLBACK\n"
          ]
        },
        {
          "output_type": "stream",
          "name": "stderr",
          "text": [
            "INFO:sqlalchemy.engine.Engine:ROLLBACK\n"
          ]
        }
      ]
    },
    {
      "cell_type": "code",
      "source": [
        "# 9. Write a Python program to create a new order in the 'Order' table for a user and an item with a specified quantity using the SQLAlchemy model.\n",
        "from sqlalchemy import create_engine, Column, Integer, String, Float\n",
        "from sqlalchemy.ext.declarative import declarative_base\n",
        "from sqlalchemy.orm import sessionmaker\n",
        "\n",
        "engine = create_engine('sqlite:///new_shop2.db', echo=True)\n",
        "Base = declarative_base()\n",
        "\n",
        "class Order(Base):\n",
        "    __tablename__ = \"orders\"\n",
        "\n",
        "    order_id = Column(Integer, primary_key=True)\n",
        "    order_quantity = Column(Integer, unique=False, nullable=False)\n",
        "    user_id = Column(Integer, nullable=False)\n",
        "    item_id = Column(Integer, nullable=False)\n",
        "\n",
        "Base.metadata.create_all(engine)\n",
        "\n",
        "Session = sessionmaker(bind=engine)\n",
        "session = Session()\n",
        "\n",
        "\n",
        "order1 = Order(order_quantity=20, user_id=10, item_id=100)\n",
        "order2 = Order(order_quantity=5, user_id=11, item_id=1)\n",
        "order3 = Order(order_quantity=30, user_id=12, item_id=120)\n",
        "order4 = Order(order_quantity=15, user_id=19, item_id=15)\n",
        "order5 = Order(order_quantity=56, user_id=16, item_id=36)\n",
        "\n",
        "session.add_all([order1, order2, order3, order4, order5])\n",
        "session.commit()\n",
        "\n",
        "\n",
        "user_id = 20\n",
        "item_id = 30\n",
        "order_quantity = 36\n",
        "new_order = Order(user_id=user_id, item_id=item_id, order_quantity=order_quantity)\n",
        "session.add(new_order)\n",
        "session.commit()\n",
        "\n",
        "\n",
        "result = session.query(Order).all()\n",
        "for order in result:\n",
        "    print(order.order_id, order.order_quantity,order.user_id,order.item_id)\n",
        "\n",
        "session.close()\n"
      ],
      "metadata": {
        "id": "hjE-w9jLEwky",
        "colab": {
          "base_uri": "https://localhost:8080/"
        },
        "outputId": "734cea59-8fa8-40fa-94b0-4cb3fe3395dc"
      },
      "execution_count": 4,
      "outputs": [
        {
          "output_type": "stream",
          "name": "stdout",
          "text": [
            "2024-04-29 13:41:14,343 INFO sqlalchemy.engine.Engine BEGIN (implicit)\n"
          ]
        },
        {
          "output_type": "stream",
          "name": "stderr",
          "text": [
            "<ipython-input-4-11a62343cf41>:7: MovedIn20Warning: The ``declarative_base()`` function is now available as sqlalchemy.orm.declarative_base(). (deprecated since: 2.0) (Background on SQLAlchemy 2.0 at: https://sqlalche.me/e/b8d9)\n",
            "  Base = declarative_base()\n",
            "INFO:sqlalchemy.engine.Engine:BEGIN (implicit)\n"
          ]
        },
        {
          "output_type": "stream",
          "name": "stdout",
          "text": [
            "2024-04-29 13:41:14,348 INFO sqlalchemy.engine.Engine PRAGMA main.table_info(\"orders\")\n"
          ]
        },
        {
          "output_type": "stream",
          "name": "stderr",
          "text": [
            "INFO:sqlalchemy.engine.Engine:PRAGMA main.table_info(\"orders\")\n"
          ]
        },
        {
          "output_type": "stream",
          "name": "stdout",
          "text": [
            "2024-04-29 13:41:14,355 INFO sqlalchemy.engine.Engine [raw sql] ()\n"
          ]
        },
        {
          "output_type": "stream",
          "name": "stderr",
          "text": [
            "INFO:sqlalchemy.engine.Engine:[raw sql] ()\n"
          ]
        },
        {
          "output_type": "stream",
          "name": "stdout",
          "text": [
            "2024-04-29 13:41:14,361 INFO sqlalchemy.engine.Engine PRAGMA temp.table_info(\"orders\")\n"
          ]
        },
        {
          "output_type": "stream",
          "name": "stderr",
          "text": [
            "INFO:sqlalchemy.engine.Engine:PRAGMA temp.table_info(\"orders\")\n"
          ]
        },
        {
          "output_type": "stream",
          "name": "stdout",
          "text": [
            "2024-04-29 13:41:14,365 INFO sqlalchemy.engine.Engine [raw sql] ()\n"
          ]
        },
        {
          "output_type": "stream",
          "name": "stderr",
          "text": [
            "INFO:sqlalchemy.engine.Engine:[raw sql] ()\n"
          ]
        },
        {
          "output_type": "stream",
          "name": "stdout",
          "text": [
            "2024-04-29 13:41:14,368 INFO sqlalchemy.engine.Engine \n",
            "CREATE TABLE orders (\n",
            "\torder_id INTEGER NOT NULL, \n",
            "\torder_quantity INTEGER NOT NULL, \n",
            "\tuser_id INTEGER NOT NULL, \n",
            "\titem_id INTEGER NOT NULL, \n",
            "\tPRIMARY KEY (order_id)\n",
            ")\n",
            "\n",
            "\n"
          ]
        },
        {
          "output_type": "stream",
          "name": "stderr",
          "text": [
            "INFO:sqlalchemy.engine.Engine:\n",
            "CREATE TABLE orders (\n",
            "\torder_id INTEGER NOT NULL, \n",
            "\torder_quantity INTEGER NOT NULL, \n",
            "\tuser_id INTEGER NOT NULL, \n",
            "\titem_id INTEGER NOT NULL, \n",
            "\tPRIMARY KEY (order_id)\n",
            ")\n",
            "\n",
            "\n"
          ]
        },
        {
          "output_type": "stream",
          "name": "stdout",
          "text": [
            "2024-04-29 13:41:14,371 INFO sqlalchemy.engine.Engine [no key 0.00256s] ()\n"
          ]
        },
        {
          "output_type": "stream",
          "name": "stderr",
          "text": [
            "INFO:sqlalchemy.engine.Engine:[no key 0.00256s] ()\n"
          ]
        },
        {
          "output_type": "stream",
          "name": "stdout",
          "text": [
            "2024-04-29 13:41:14,384 INFO sqlalchemy.engine.Engine COMMIT\n"
          ]
        },
        {
          "output_type": "stream",
          "name": "stderr",
          "text": [
            "INFO:sqlalchemy.engine.Engine:COMMIT\n"
          ]
        },
        {
          "output_type": "stream",
          "name": "stdout",
          "text": [
            "2024-04-29 13:41:14,391 INFO sqlalchemy.engine.Engine BEGIN (implicit)\n"
          ]
        },
        {
          "output_type": "stream",
          "name": "stderr",
          "text": [
            "INFO:sqlalchemy.engine.Engine:BEGIN (implicit)\n"
          ]
        },
        {
          "output_type": "stream",
          "name": "stdout",
          "text": [
            "2024-04-29 13:41:14,397 INFO sqlalchemy.engine.Engine INSERT INTO orders (order_quantity, user_id, item_id) VALUES (?, ?, ?) RETURNING order_id\n"
          ]
        },
        {
          "output_type": "stream",
          "name": "stderr",
          "text": [
            "INFO:sqlalchemy.engine.Engine:INSERT INTO orders (order_quantity, user_id, item_id) VALUES (?, ?, ?) RETURNING order_id\n"
          ]
        },
        {
          "output_type": "stream",
          "name": "stdout",
          "text": [
            "2024-04-29 13:41:14,400 INFO sqlalchemy.engine.Engine [generated in 0.00024s (insertmanyvalues) 1/5 (ordered; batch not supported)] (20, 10, 100)\n"
          ]
        },
        {
          "output_type": "stream",
          "name": "stderr",
          "text": [
            "INFO:sqlalchemy.engine.Engine:[generated in 0.00024s (insertmanyvalues) 1/5 (ordered; batch not supported)] (20, 10, 100)\n"
          ]
        },
        {
          "output_type": "stream",
          "name": "stdout",
          "text": [
            "2024-04-29 13:41:14,403 INFO sqlalchemy.engine.Engine INSERT INTO orders (order_quantity, user_id, item_id) VALUES (?, ?, ?) RETURNING order_id\n"
          ]
        },
        {
          "output_type": "stream",
          "name": "stderr",
          "text": [
            "INFO:sqlalchemy.engine.Engine:INSERT INTO orders (order_quantity, user_id, item_id) VALUES (?, ?, ?) RETURNING order_id\n"
          ]
        },
        {
          "output_type": "stream",
          "name": "stdout",
          "text": [
            "2024-04-29 13:41:14,405 INFO sqlalchemy.engine.Engine [insertmanyvalues 2/5 (ordered; batch not supported)] (5, 11, 1)\n"
          ]
        },
        {
          "output_type": "stream",
          "name": "stderr",
          "text": [
            "INFO:sqlalchemy.engine.Engine:[insertmanyvalues 2/5 (ordered; batch not supported)] (5, 11, 1)\n"
          ]
        },
        {
          "output_type": "stream",
          "name": "stdout",
          "text": [
            "2024-04-29 13:41:14,408 INFO sqlalchemy.engine.Engine INSERT INTO orders (order_quantity, user_id, item_id) VALUES (?, ?, ?) RETURNING order_id\n"
          ]
        },
        {
          "output_type": "stream",
          "name": "stderr",
          "text": [
            "INFO:sqlalchemy.engine.Engine:INSERT INTO orders (order_quantity, user_id, item_id) VALUES (?, ?, ?) RETURNING order_id\n"
          ]
        },
        {
          "output_type": "stream",
          "name": "stdout",
          "text": [
            "2024-04-29 13:41:14,410 INFO sqlalchemy.engine.Engine [insertmanyvalues 3/5 (ordered; batch not supported)] (30, 12, 120)\n"
          ]
        },
        {
          "output_type": "stream",
          "name": "stderr",
          "text": [
            "INFO:sqlalchemy.engine.Engine:[insertmanyvalues 3/5 (ordered; batch not supported)] (30, 12, 120)\n"
          ]
        },
        {
          "output_type": "stream",
          "name": "stdout",
          "text": [
            "2024-04-29 13:41:14,412 INFO sqlalchemy.engine.Engine INSERT INTO orders (order_quantity, user_id, item_id) VALUES (?, ?, ?) RETURNING order_id\n"
          ]
        },
        {
          "output_type": "stream",
          "name": "stderr",
          "text": [
            "INFO:sqlalchemy.engine.Engine:INSERT INTO orders (order_quantity, user_id, item_id) VALUES (?, ?, ?) RETURNING order_id\n"
          ]
        },
        {
          "output_type": "stream",
          "name": "stdout",
          "text": [
            "2024-04-29 13:41:14,414 INFO sqlalchemy.engine.Engine [insertmanyvalues 4/5 (ordered; batch not supported)] (15, 19, 15)\n"
          ]
        },
        {
          "output_type": "stream",
          "name": "stderr",
          "text": [
            "INFO:sqlalchemy.engine.Engine:[insertmanyvalues 4/5 (ordered; batch not supported)] (15, 19, 15)\n"
          ]
        },
        {
          "output_type": "stream",
          "name": "stdout",
          "text": [
            "2024-04-29 13:41:14,417 INFO sqlalchemy.engine.Engine INSERT INTO orders (order_quantity, user_id, item_id) VALUES (?, ?, ?) RETURNING order_id\n"
          ]
        },
        {
          "output_type": "stream",
          "name": "stderr",
          "text": [
            "INFO:sqlalchemy.engine.Engine:INSERT INTO orders (order_quantity, user_id, item_id) VALUES (?, ?, ?) RETURNING order_id\n"
          ]
        },
        {
          "output_type": "stream",
          "name": "stdout",
          "text": [
            "2024-04-29 13:41:14,419 INFO sqlalchemy.engine.Engine [insertmanyvalues 5/5 (ordered; batch not supported)] (56, 16, 36)\n"
          ]
        },
        {
          "output_type": "stream",
          "name": "stderr",
          "text": [
            "INFO:sqlalchemy.engine.Engine:[insertmanyvalues 5/5 (ordered; batch not supported)] (56, 16, 36)\n"
          ]
        },
        {
          "output_type": "stream",
          "name": "stdout",
          "text": [
            "2024-04-29 13:41:14,422 INFO sqlalchemy.engine.Engine COMMIT\n"
          ]
        },
        {
          "output_type": "stream",
          "name": "stderr",
          "text": [
            "INFO:sqlalchemy.engine.Engine:COMMIT\n"
          ]
        },
        {
          "output_type": "stream",
          "name": "stdout",
          "text": [
            "2024-04-29 13:41:14,432 INFO sqlalchemy.engine.Engine BEGIN (implicit)\n"
          ]
        },
        {
          "output_type": "stream",
          "name": "stderr",
          "text": [
            "INFO:sqlalchemy.engine.Engine:BEGIN (implicit)\n"
          ]
        },
        {
          "output_type": "stream",
          "name": "stdout",
          "text": [
            "2024-04-29 13:41:14,436 INFO sqlalchemy.engine.Engine INSERT INTO orders (order_quantity, user_id, item_id) VALUES (?, ?, ?)\n"
          ]
        },
        {
          "output_type": "stream",
          "name": "stderr",
          "text": [
            "INFO:sqlalchemy.engine.Engine:INSERT INTO orders (order_quantity, user_id, item_id) VALUES (?, ?, ?)\n"
          ]
        },
        {
          "output_type": "stream",
          "name": "stdout",
          "text": [
            "2024-04-29 13:41:14,438 INFO sqlalchemy.engine.Engine [generated in 0.00242s] (36, 20, 30)\n"
          ]
        },
        {
          "output_type": "stream",
          "name": "stderr",
          "text": [
            "INFO:sqlalchemy.engine.Engine:[generated in 0.00242s] (36, 20, 30)\n"
          ]
        },
        {
          "output_type": "stream",
          "name": "stdout",
          "text": [
            "2024-04-29 13:41:14,441 INFO sqlalchemy.engine.Engine COMMIT\n"
          ]
        },
        {
          "output_type": "stream",
          "name": "stderr",
          "text": [
            "INFO:sqlalchemy.engine.Engine:COMMIT\n"
          ]
        },
        {
          "output_type": "stream",
          "name": "stdout",
          "text": [
            "2024-04-29 13:41:14,451 INFO sqlalchemy.engine.Engine BEGIN (implicit)\n"
          ]
        },
        {
          "output_type": "stream",
          "name": "stderr",
          "text": [
            "INFO:sqlalchemy.engine.Engine:BEGIN (implicit)\n"
          ]
        },
        {
          "output_type": "stream",
          "name": "stdout",
          "text": [
            "2024-04-29 13:41:14,461 INFO sqlalchemy.engine.Engine SELECT orders.order_id AS orders_order_id, orders.order_quantity AS orders_order_quantity, orders.user_id AS orders_user_id, orders.item_id AS orders_item_id \n",
            "FROM orders\n"
          ]
        },
        {
          "output_type": "stream",
          "name": "stderr",
          "text": [
            "INFO:sqlalchemy.engine.Engine:SELECT orders.order_id AS orders_order_id, orders.order_quantity AS orders_order_quantity, orders.user_id AS orders_user_id, orders.item_id AS orders_item_id \n",
            "FROM orders\n"
          ]
        },
        {
          "output_type": "stream",
          "name": "stdout",
          "text": [
            "2024-04-29 13:41:14,484 INFO sqlalchemy.engine.Engine [generated in 0.02289s] ()\n"
          ]
        },
        {
          "output_type": "stream",
          "name": "stderr",
          "text": [
            "INFO:sqlalchemy.engine.Engine:[generated in 0.02289s] ()\n"
          ]
        },
        {
          "output_type": "stream",
          "name": "stdout",
          "text": [
            "1 20 10 100\n",
            "2 5 11 1\n",
            "3 30 12 120\n",
            "4 15 19 15\n",
            "5 56 16 36\n",
            "6 36 20 30\n",
            "2024-04-29 13:41:14,493 INFO sqlalchemy.engine.Engine ROLLBACK\n"
          ]
        },
        {
          "output_type": "stream",
          "name": "stderr",
          "text": [
            "INFO:sqlalchemy.engine.Engine:ROLLBACK\n"
          ]
        }
      ]
    },
    {
      "cell_type": "code",
      "source": [
        "# 10 Write a Python program to retrieve all orders for a specific user from the 'Order' table user using the SQLAlchemy model.\n",
        "\n",
        "from sqlalchemy import create_engine, Column, Integer, String, Float\n",
        "from sqlalchemy.ext.declarative import declarative_base\n",
        "from sqlalchemy.orm import sessionmaker\n",
        "\n",
        "engine = create_engine('sqlite:///new_shop3.db', echo=True)\n",
        "Base = declarative_base()\n",
        "\n",
        "class Order(Base):\n",
        "    __tablename__ = \"orders\"\n",
        "\n",
        "    order_id = Column(Integer, primary_key=True)\n",
        "    user_id = Column(Integer, nullable=False)\n",
        "    item_id = Column(Integer, nullable=False)\n",
        "    order_quantity = Column(Integer, unique=False, nullable=False)\n",
        "\n",
        "Base.metadata.create_all(engine)\n",
        "\n",
        "Session = sessionmaker(bind=engine)\n",
        "session = Session()\n",
        "\n",
        "\n",
        "order1 = Order(user_id=10, item_id=10, order_quantity=20)\n",
        "order2 = Order(user_id=12, item_id=1, order_quantity=5)\n",
        "order3 = Order(user_id=12, item_id=120, order_quantity=30)\n",
        "order4 = Order(user_id=19, item_id=15, order_quantity=15)\n",
        "order5 = Order(user_id=16, item_id=36, order_quantity=56)\n",
        "\n",
        "session.add_all([order1, order2, order3, order4, order5])\n",
        "session.commit()\n",
        "\n",
        "user_id = 12\n",
        "all_orders = session.query(Order).filter(Order.user_id == user_id).all()\n",
        "\n",
        "for order in all_orders:\n",
        "  print(order.order_id, order.user_id,order.item_id, order.order_quantity)\n",
        "\n",
        "session.close()"
      ],
      "metadata": {
        "colab": {
          "base_uri": "https://localhost:8080/"
        },
        "id": "cQB-1dRJFskp",
        "outputId": "597d7fbc-1d00-4a2d-f046-72ff4bab34db"
      },
      "execution_count": 6,
      "outputs": [
        {
          "output_type": "stream",
          "name": "stdout",
          "text": [
            "2024-04-29 13:54:20,387 INFO sqlalchemy.engine.Engine BEGIN (implicit)\n"
          ]
        },
        {
          "output_type": "stream",
          "name": "stderr",
          "text": [
            "<ipython-input-6-600f1177874b>:8: MovedIn20Warning: The ``declarative_base()`` function is now available as sqlalchemy.orm.declarative_base(). (deprecated since: 2.0) (Background on SQLAlchemy 2.0 at: https://sqlalche.me/e/b8d9)\n",
            "  Base = declarative_base()\n",
            "INFO:sqlalchemy.engine.Engine:BEGIN (implicit)\n"
          ]
        },
        {
          "output_type": "stream",
          "name": "stdout",
          "text": [
            "2024-04-29 13:54:20,391 INFO sqlalchemy.engine.Engine PRAGMA main.table_info(\"orders\")\n"
          ]
        },
        {
          "output_type": "stream",
          "name": "stderr",
          "text": [
            "INFO:sqlalchemy.engine.Engine:PRAGMA main.table_info(\"orders\")\n"
          ]
        },
        {
          "output_type": "stream",
          "name": "stdout",
          "text": [
            "2024-04-29 13:54:20,396 INFO sqlalchemy.engine.Engine [raw sql] ()\n"
          ]
        },
        {
          "output_type": "stream",
          "name": "stderr",
          "text": [
            "INFO:sqlalchemy.engine.Engine:[raw sql] ()\n"
          ]
        },
        {
          "output_type": "stream",
          "name": "stdout",
          "text": [
            "2024-04-29 13:54:20,401 INFO sqlalchemy.engine.Engine PRAGMA temp.table_info(\"orders\")\n"
          ]
        },
        {
          "output_type": "stream",
          "name": "stderr",
          "text": [
            "INFO:sqlalchemy.engine.Engine:PRAGMA temp.table_info(\"orders\")\n"
          ]
        },
        {
          "output_type": "stream",
          "name": "stdout",
          "text": [
            "2024-04-29 13:54:20,403 INFO sqlalchemy.engine.Engine [raw sql] ()\n"
          ]
        },
        {
          "output_type": "stream",
          "name": "stderr",
          "text": [
            "INFO:sqlalchemy.engine.Engine:[raw sql] ()\n"
          ]
        },
        {
          "output_type": "stream",
          "name": "stdout",
          "text": [
            "2024-04-29 13:54:20,406 INFO sqlalchemy.engine.Engine \n",
            "CREATE TABLE orders (\n",
            "\torder_id INTEGER NOT NULL, \n",
            "\tuser_id INTEGER NOT NULL, \n",
            "\titem_id INTEGER NOT NULL, \n",
            "\torder_quantity INTEGER NOT NULL, \n",
            "\tPRIMARY KEY (order_id)\n",
            ")\n",
            "\n",
            "\n"
          ]
        },
        {
          "output_type": "stream",
          "name": "stderr",
          "text": [
            "INFO:sqlalchemy.engine.Engine:\n",
            "CREATE TABLE orders (\n",
            "\torder_id INTEGER NOT NULL, \n",
            "\tuser_id INTEGER NOT NULL, \n",
            "\titem_id INTEGER NOT NULL, \n",
            "\torder_quantity INTEGER NOT NULL, \n",
            "\tPRIMARY KEY (order_id)\n",
            ")\n",
            "\n",
            "\n"
          ]
        },
        {
          "output_type": "stream",
          "name": "stdout",
          "text": [
            "2024-04-29 13:54:20,408 INFO sqlalchemy.engine.Engine [no key 0.00209s] ()\n"
          ]
        },
        {
          "output_type": "stream",
          "name": "stderr",
          "text": [
            "INFO:sqlalchemy.engine.Engine:[no key 0.00209s] ()\n"
          ]
        },
        {
          "output_type": "stream",
          "name": "stdout",
          "text": [
            "2024-04-29 13:54:20,422 INFO sqlalchemy.engine.Engine COMMIT\n"
          ]
        },
        {
          "output_type": "stream",
          "name": "stderr",
          "text": [
            "INFO:sqlalchemy.engine.Engine:COMMIT\n"
          ]
        },
        {
          "output_type": "stream",
          "name": "stdout",
          "text": [
            "2024-04-29 13:54:20,431 INFO sqlalchemy.engine.Engine BEGIN (implicit)\n"
          ]
        },
        {
          "output_type": "stream",
          "name": "stderr",
          "text": [
            "INFO:sqlalchemy.engine.Engine:BEGIN (implicit)\n"
          ]
        },
        {
          "output_type": "stream",
          "name": "stdout",
          "text": [
            "2024-04-29 13:54:20,436 INFO sqlalchemy.engine.Engine INSERT INTO orders (user_id, item_id, order_quantity) VALUES (?, ?, ?) RETURNING order_id\n"
          ]
        },
        {
          "output_type": "stream",
          "name": "stderr",
          "text": [
            "INFO:sqlalchemy.engine.Engine:INSERT INTO orders (user_id, item_id, order_quantity) VALUES (?, ?, ?) RETURNING order_id\n"
          ]
        },
        {
          "output_type": "stream",
          "name": "stdout",
          "text": [
            "2024-04-29 13:54:20,438 INFO sqlalchemy.engine.Engine [generated in 0.00027s (insertmanyvalues) 1/5 (ordered; batch not supported)] (10, 10, 20)\n"
          ]
        },
        {
          "output_type": "stream",
          "name": "stderr",
          "text": [
            "INFO:sqlalchemy.engine.Engine:[generated in 0.00027s (insertmanyvalues) 1/5 (ordered; batch not supported)] (10, 10, 20)\n"
          ]
        },
        {
          "output_type": "stream",
          "name": "stdout",
          "text": [
            "2024-04-29 13:54:20,441 INFO sqlalchemy.engine.Engine INSERT INTO orders (user_id, item_id, order_quantity) VALUES (?, ?, ?) RETURNING order_id\n"
          ]
        },
        {
          "output_type": "stream",
          "name": "stderr",
          "text": [
            "INFO:sqlalchemy.engine.Engine:INSERT INTO orders (user_id, item_id, order_quantity) VALUES (?, ?, ?) RETURNING order_id\n"
          ]
        },
        {
          "output_type": "stream",
          "name": "stdout",
          "text": [
            "2024-04-29 13:54:20,443 INFO sqlalchemy.engine.Engine [insertmanyvalues 2/5 (ordered; batch not supported)] (12, 1, 5)\n"
          ]
        },
        {
          "output_type": "stream",
          "name": "stderr",
          "text": [
            "INFO:sqlalchemy.engine.Engine:[insertmanyvalues 2/5 (ordered; batch not supported)] (12, 1, 5)\n"
          ]
        },
        {
          "output_type": "stream",
          "name": "stdout",
          "text": [
            "2024-04-29 13:54:20,445 INFO sqlalchemy.engine.Engine INSERT INTO orders (user_id, item_id, order_quantity) VALUES (?, ?, ?) RETURNING order_id\n"
          ]
        },
        {
          "output_type": "stream",
          "name": "stderr",
          "text": [
            "INFO:sqlalchemy.engine.Engine:INSERT INTO orders (user_id, item_id, order_quantity) VALUES (?, ?, ?) RETURNING order_id\n"
          ]
        },
        {
          "output_type": "stream",
          "name": "stdout",
          "text": [
            "2024-04-29 13:54:20,449 INFO sqlalchemy.engine.Engine [insertmanyvalues 3/5 (ordered; batch not supported)] (12, 120, 30)\n"
          ]
        },
        {
          "output_type": "stream",
          "name": "stderr",
          "text": [
            "INFO:sqlalchemy.engine.Engine:[insertmanyvalues 3/5 (ordered; batch not supported)] (12, 120, 30)\n"
          ]
        },
        {
          "output_type": "stream",
          "name": "stdout",
          "text": [
            "2024-04-29 13:54:20,451 INFO sqlalchemy.engine.Engine INSERT INTO orders (user_id, item_id, order_quantity) VALUES (?, ?, ?) RETURNING order_id\n"
          ]
        },
        {
          "output_type": "stream",
          "name": "stderr",
          "text": [
            "INFO:sqlalchemy.engine.Engine:INSERT INTO orders (user_id, item_id, order_quantity) VALUES (?, ?, ?) RETURNING order_id\n"
          ]
        },
        {
          "output_type": "stream",
          "name": "stdout",
          "text": [
            "2024-04-29 13:54:20,453 INFO sqlalchemy.engine.Engine [insertmanyvalues 4/5 (ordered; batch not supported)] (19, 15, 15)\n"
          ]
        },
        {
          "output_type": "stream",
          "name": "stderr",
          "text": [
            "INFO:sqlalchemy.engine.Engine:[insertmanyvalues 4/5 (ordered; batch not supported)] (19, 15, 15)\n"
          ]
        },
        {
          "output_type": "stream",
          "name": "stdout",
          "text": [
            "2024-04-29 13:54:20,455 INFO sqlalchemy.engine.Engine INSERT INTO orders (user_id, item_id, order_quantity) VALUES (?, ?, ?) RETURNING order_id\n"
          ]
        },
        {
          "output_type": "stream",
          "name": "stderr",
          "text": [
            "INFO:sqlalchemy.engine.Engine:INSERT INTO orders (user_id, item_id, order_quantity) VALUES (?, ?, ?) RETURNING order_id\n"
          ]
        },
        {
          "output_type": "stream",
          "name": "stdout",
          "text": [
            "2024-04-29 13:54:20,458 INFO sqlalchemy.engine.Engine [insertmanyvalues 5/5 (ordered; batch not supported)] (16, 36, 56)\n"
          ]
        },
        {
          "output_type": "stream",
          "name": "stderr",
          "text": [
            "INFO:sqlalchemy.engine.Engine:[insertmanyvalues 5/5 (ordered; batch not supported)] (16, 36, 56)\n"
          ]
        },
        {
          "output_type": "stream",
          "name": "stdout",
          "text": [
            "2024-04-29 13:54:20,461 INFO sqlalchemy.engine.Engine COMMIT\n"
          ]
        },
        {
          "output_type": "stream",
          "name": "stderr",
          "text": [
            "INFO:sqlalchemy.engine.Engine:COMMIT\n"
          ]
        },
        {
          "output_type": "stream",
          "name": "stdout",
          "text": [
            "2024-04-29 13:54:20,474 INFO sqlalchemy.engine.Engine BEGIN (implicit)\n"
          ]
        },
        {
          "output_type": "stream",
          "name": "stderr",
          "text": [
            "INFO:sqlalchemy.engine.Engine:BEGIN (implicit)\n"
          ]
        },
        {
          "output_type": "stream",
          "name": "stdout",
          "text": [
            "2024-04-29 13:54:20,480 INFO sqlalchemy.engine.Engine SELECT orders.order_id AS orders_order_id, orders.user_id AS orders_user_id, orders.item_id AS orders_item_id, orders.order_quantity AS orders_order_quantity \n",
            "FROM orders \n",
            "WHERE orders.user_id = ?\n"
          ]
        },
        {
          "output_type": "stream",
          "name": "stderr",
          "text": [
            "INFO:sqlalchemy.engine.Engine:SELECT orders.order_id AS orders_order_id, orders.user_id AS orders_user_id, orders.item_id AS orders_item_id, orders.order_quantity AS orders_order_quantity \n",
            "FROM orders \n",
            "WHERE orders.user_id = ?\n"
          ]
        },
        {
          "output_type": "stream",
          "name": "stdout",
          "text": [
            "2024-04-29 13:54:20,482 INFO sqlalchemy.engine.Engine [generated in 0.00238s] (12,)\n"
          ]
        },
        {
          "output_type": "stream",
          "name": "stderr",
          "text": [
            "INFO:sqlalchemy.engine.Engine:[generated in 0.00238s] (12,)\n"
          ]
        },
        {
          "output_type": "stream",
          "name": "stdout",
          "text": [
            "2 12 1 5\n",
            "3 12 120 30\n",
            "2024-04-29 13:54:20,486 INFO sqlalchemy.engine.Engine ROLLBACK\n"
          ]
        },
        {
          "output_type": "stream",
          "name": "stderr",
          "text": [
            "INFO:sqlalchemy.engine.Engine:ROLLBACK\n"
          ]
        }
      ]
    },
    {
      "cell_type": "code",
      "source": [
        "# 11 Write a  Python program to calculate and display the total cost of all orders for a given user using the SQLAlchemy model.\n",
        "from sqlalchemy import create_engine, Column, Integer, String, Float\n",
        "from sqlalchemy.ext.declarative import declarative_base\n",
        "from sqlalchemy.orm import sessionmaker\n",
        "\n",
        "engine = create_engine('sqlite:///new_shop4.db', echo=True)\n",
        "Base = declarative_base()\n",
        "\n",
        "class Order(Base):\n",
        "    __tablename__ = \"orders\"\n",
        "\n",
        "    order_id = Column(Integer, primary_key=True)\n",
        "    user_id = Column(Integer, nullable=False)\n",
        "    item_id = Column(Integer, nullable=False)\n",
        "    order_quantity = Column(Integer, unique=False, nullable=False)\n",
        "    price = Column(Integer, unique=False, nullable=False)\n",
        "    total_cost = Column(Integer, unique=False, nullable=False)\n",
        "\n",
        "    def __init__(self, user_id, item_id, order_quantity, price):\n",
        "        self.user_id = user_id\n",
        "        self.item_id = item_id\n",
        "        self.order_quantity = order_quantity\n",
        "        self.price = price\n",
        "        self.total_cost = self.calculate_total_cost()\n",
        "\n",
        "    def calculate_total_cost(self):\n",
        "        return self.order_quantity * self.price\n",
        "\n",
        "Base.metadata.create_all(engine)\n",
        "\n",
        "Session = sessionmaker(bind=engine)\n",
        "session = Session()\n",
        "\n",
        "order1 = Order(user_id=10, item_id=10, order_quantity=20, price=5)\n",
        "order2 = Order(user_id=12, item_id=1, order_quantity=5, price=20)\n",
        "order3 = Order(user_id=12, item_id=120, order_quantity=30, price=32)\n",
        "order4 = Order(user_id=19, item_id=15, order_quantity=15, price=25)\n",
        "order5 = Order(user_id=16, item_id=36, order_quantity=56, price=2)\n",
        "\n",
        "session.add_all([order1, order2, order3, order4, order5])\n",
        "session.commit()\n",
        "\n",
        "\n",
        "user_id=12\n",
        "orders = session.query(Order).filter(Order.user_id == user_id).all()\n",
        "total_cost = sum(order.total_cost for order in orders)\n",
        "\n",
        "print(f\"The total cost of all orders for user {user_id}: {total_cost}\")\n",
        "\n",
        "session.close()"
      ],
      "metadata": {
        "colab": {
          "base_uri": "https://localhost:8080/"
        },
        "id": "ftbXp7jCIvXW",
        "outputId": "0a6eeae1-ecc1-4e34-c1c5-777c74f5004e"
      },
      "execution_count": 7,
      "outputs": [
        {
          "output_type": "stream",
          "name": "stdout",
          "text": [
            "2024-04-29 14:23:14,704 INFO sqlalchemy.engine.Engine BEGIN (implicit)\n"
          ]
        },
        {
          "output_type": "stream",
          "name": "stderr",
          "text": [
            "<ipython-input-7-85aa2b6c3f8c>:7: MovedIn20Warning: The ``declarative_base()`` function is now available as sqlalchemy.orm.declarative_base(). (deprecated since: 2.0) (Background on SQLAlchemy 2.0 at: https://sqlalche.me/e/b8d9)\n",
            "  Base = declarative_base()\n",
            "INFO:sqlalchemy.engine.Engine:BEGIN (implicit)\n"
          ]
        },
        {
          "output_type": "stream",
          "name": "stdout",
          "text": [
            "2024-04-29 14:23:14,707 INFO sqlalchemy.engine.Engine PRAGMA main.table_info(\"orders\")\n"
          ]
        },
        {
          "output_type": "stream",
          "name": "stderr",
          "text": [
            "INFO:sqlalchemy.engine.Engine:PRAGMA main.table_info(\"orders\")\n"
          ]
        },
        {
          "output_type": "stream",
          "name": "stdout",
          "text": [
            "2024-04-29 14:23:14,712 INFO sqlalchemy.engine.Engine [raw sql] ()\n"
          ]
        },
        {
          "output_type": "stream",
          "name": "stderr",
          "text": [
            "INFO:sqlalchemy.engine.Engine:[raw sql] ()\n"
          ]
        },
        {
          "output_type": "stream",
          "name": "stdout",
          "text": [
            "2024-04-29 14:23:14,716 INFO sqlalchemy.engine.Engine PRAGMA temp.table_info(\"orders\")\n"
          ]
        },
        {
          "output_type": "stream",
          "name": "stderr",
          "text": [
            "INFO:sqlalchemy.engine.Engine:PRAGMA temp.table_info(\"orders\")\n"
          ]
        },
        {
          "output_type": "stream",
          "name": "stdout",
          "text": [
            "2024-04-29 14:23:14,718 INFO sqlalchemy.engine.Engine [raw sql] ()\n"
          ]
        },
        {
          "output_type": "stream",
          "name": "stderr",
          "text": [
            "INFO:sqlalchemy.engine.Engine:[raw sql] ()\n"
          ]
        },
        {
          "output_type": "stream",
          "name": "stdout",
          "text": [
            "2024-04-29 14:23:14,722 INFO sqlalchemy.engine.Engine \n",
            "CREATE TABLE orders (\n",
            "\torder_id INTEGER NOT NULL, \n",
            "\tuser_id INTEGER NOT NULL, \n",
            "\titem_id INTEGER NOT NULL, \n",
            "\torder_quantity INTEGER NOT NULL, \n",
            "\tprice INTEGER NOT NULL, \n",
            "\ttotal_cost INTEGER NOT NULL, \n",
            "\tPRIMARY KEY (order_id)\n",
            ")\n",
            "\n",
            "\n"
          ]
        },
        {
          "output_type": "stream",
          "name": "stderr",
          "text": [
            "INFO:sqlalchemy.engine.Engine:\n",
            "CREATE TABLE orders (\n",
            "\torder_id INTEGER NOT NULL, \n",
            "\tuser_id INTEGER NOT NULL, \n",
            "\titem_id INTEGER NOT NULL, \n",
            "\torder_quantity INTEGER NOT NULL, \n",
            "\tprice INTEGER NOT NULL, \n",
            "\ttotal_cost INTEGER NOT NULL, \n",
            "\tPRIMARY KEY (order_id)\n",
            ")\n",
            "\n",
            "\n"
          ]
        },
        {
          "output_type": "stream",
          "name": "stdout",
          "text": [
            "2024-04-29 14:23:14,724 INFO sqlalchemy.engine.Engine [no key 0.00207s] ()\n"
          ]
        },
        {
          "output_type": "stream",
          "name": "stderr",
          "text": [
            "INFO:sqlalchemy.engine.Engine:[no key 0.00207s] ()\n"
          ]
        },
        {
          "output_type": "stream",
          "name": "stdout",
          "text": [
            "2024-04-29 14:23:14,735 INFO sqlalchemy.engine.Engine COMMIT\n"
          ]
        },
        {
          "output_type": "stream",
          "name": "stderr",
          "text": [
            "INFO:sqlalchemy.engine.Engine:COMMIT\n"
          ]
        },
        {
          "output_type": "stream",
          "name": "stdout",
          "text": [
            "2024-04-29 14:23:14,856 INFO sqlalchemy.engine.Engine BEGIN (implicit)\n"
          ]
        },
        {
          "output_type": "stream",
          "name": "stderr",
          "text": [
            "INFO:sqlalchemy.engine.Engine:BEGIN (implicit)\n"
          ]
        },
        {
          "output_type": "stream",
          "name": "stdout",
          "text": [
            "2024-04-29 14:23:14,874 INFO sqlalchemy.engine.Engine INSERT INTO orders (user_id, item_id, order_quantity, price, total_cost) VALUES (?, ?, ?, ?, ?) RETURNING order_id\n"
          ]
        },
        {
          "output_type": "stream",
          "name": "stderr",
          "text": [
            "INFO:sqlalchemy.engine.Engine:INSERT INTO orders (user_id, item_id, order_quantity, price, total_cost) VALUES (?, ?, ?, ?, ?) RETURNING order_id\n"
          ]
        },
        {
          "output_type": "stream",
          "name": "stdout",
          "text": [
            "2024-04-29 14:23:14,881 INFO sqlalchemy.engine.Engine [generated in 0.00024s (insertmanyvalues) 1/5 (ordered; batch not supported)] (10, 10, 20, 5, 100)\n"
          ]
        },
        {
          "output_type": "stream",
          "name": "stderr",
          "text": [
            "INFO:sqlalchemy.engine.Engine:[generated in 0.00024s (insertmanyvalues) 1/5 (ordered; batch not supported)] (10, 10, 20, 5, 100)\n"
          ]
        },
        {
          "output_type": "stream",
          "name": "stdout",
          "text": [
            "2024-04-29 14:23:14,885 INFO sqlalchemy.engine.Engine INSERT INTO orders (user_id, item_id, order_quantity, price, total_cost) VALUES (?, ?, ?, ?, ?) RETURNING order_id\n"
          ]
        },
        {
          "output_type": "stream",
          "name": "stderr",
          "text": [
            "INFO:sqlalchemy.engine.Engine:INSERT INTO orders (user_id, item_id, order_quantity, price, total_cost) VALUES (?, ?, ?, ?, ?) RETURNING order_id\n"
          ]
        },
        {
          "output_type": "stream",
          "name": "stdout",
          "text": [
            "2024-04-29 14:23:14,888 INFO sqlalchemy.engine.Engine [insertmanyvalues 2/5 (ordered; batch not supported)] (12, 1, 5, 20, 100)\n"
          ]
        },
        {
          "output_type": "stream",
          "name": "stderr",
          "text": [
            "INFO:sqlalchemy.engine.Engine:[insertmanyvalues 2/5 (ordered; batch not supported)] (12, 1, 5, 20, 100)\n"
          ]
        },
        {
          "output_type": "stream",
          "name": "stdout",
          "text": [
            "2024-04-29 14:23:14,890 INFO sqlalchemy.engine.Engine INSERT INTO orders (user_id, item_id, order_quantity, price, total_cost) VALUES (?, ?, ?, ?, ?) RETURNING order_id\n"
          ]
        },
        {
          "output_type": "stream",
          "name": "stderr",
          "text": [
            "INFO:sqlalchemy.engine.Engine:INSERT INTO orders (user_id, item_id, order_quantity, price, total_cost) VALUES (?, ?, ?, ?, ?) RETURNING order_id\n"
          ]
        },
        {
          "output_type": "stream",
          "name": "stdout",
          "text": [
            "2024-04-29 14:23:14,892 INFO sqlalchemy.engine.Engine [insertmanyvalues 3/5 (ordered; batch not supported)] (12, 120, 30, 32, 960)\n"
          ]
        },
        {
          "output_type": "stream",
          "name": "stderr",
          "text": [
            "INFO:sqlalchemy.engine.Engine:[insertmanyvalues 3/5 (ordered; batch not supported)] (12, 120, 30, 32, 960)\n"
          ]
        },
        {
          "output_type": "stream",
          "name": "stdout",
          "text": [
            "2024-04-29 14:23:14,894 INFO sqlalchemy.engine.Engine INSERT INTO orders (user_id, item_id, order_quantity, price, total_cost) VALUES (?, ?, ?, ?, ?) RETURNING order_id\n"
          ]
        },
        {
          "output_type": "stream",
          "name": "stderr",
          "text": [
            "INFO:sqlalchemy.engine.Engine:INSERT INTO orders (user_id, item_id, order_quantity, price, total_cost) VALUES (?, ?, ?, ?, ?) RETURNING order_id\n"
          ]
        },
        {
          "output_type": "stream",
          "name": "stdout",
          "text": [
            "2024-04-29 14:23:14,896 INFO sqlalchemy.engine.Engine [insertmanyvalues 4/5 (ordered; batch not supported)] (19, 15, 15, 25, 375)\n"
          ]
        },
        {
          "output_type": "stream",
          "name": "stderr",
          "text": [
            "INFO:sqlalchemy.engine.Engine:[insertmanyvalues 4/5 (ordered; batch not supported)] (19, 15, 15, 25, 375)\n"
          ]
        },
        {
          "output_type": "stream",
          "name": "stdout",
          "text": [
            "2024-04-29 14:23:14,899 INFO sqlalchemy.engine.Engine INSERT INTO orders (user_id, item_id, order_quantity, price, total_cost) VALUES (?, ?, ?, ?, ?) RETURNING order_id\n"
          ]
        },
        {
          "output_type": "stream",
          "name": "stderr",
          "text": [
            "INFO:sqlalchemy.engine.Engine:INSERT INTO orders (user_id, item_id, order_quantity, price, total_cost) VALUES (?, ?, ?, ?, ?) RETURNING order_id\n"
          ]
        },
        {
          "output_type": "stream",
          "name": "stdout",
          "text": [
            "2024-04-29 14:23:14,901 INFO sqlalchemy.engine.Engine [insertmanyvalues 5/5 (ordered; batch not supported)] (16, 36, 56, 2, 112)\n"
          ]
        },
        {
          "output_type": "stream",
          "name": "stderr",
          "text": [
            "INFO:sqlalchemy.engine.Engine:[insertmanyvalues 5/5 (ordered; batch not supported)] (16, 36, 56, 2, 112)\n"
          ]
        },
        {
          "output_type": "stream",
          "name": "stdout",
          "text": [
            "2024-04-29 14:23:14,904 INFO sqlalchemy.engine.Engine COMMIT\n"
          ]
        },
        {
          "output_type": "stream",
          "name": "stderr",
          "text": [
            "INFO:sqlalchemy.engine.Engine:COMMIT\n"
          ]
        },
        {
          "output_type": "stream",
          "name": "stdout",
          "text": [
            "2024-04-29 14:23:14,916 INFO sqlalchemy.engine.Engine BEGIN (implicit)\n"
          ]
        },
        {
          "output_type": "stream",
          "name": "stderr",
          "text": [
            "INFO:sqlalchemy.engine.Engine:BEGIN (implicit)\n"
          ]
        },
        {
          "output_type": "stream",
          "name": "stdout",
          "text": [
            "2024-04-29 14:23:14,920 INFO sqlalchemy.engine.Engine SELECT orders.order_id AS orders_order_id, orders.user_id AS orders_user_id, orders.item_id AS orders_item_id, orders.order_quantity AS orders_order_quantity, orders.price AS orders_price, orders.total_cost AS orders_total_cost \n",
            "FROM orders \n",
            "WHERE orders.user_id = ?\n"
          ]
        },
        {
          "output_type": "stream",
          "name": "stderr",
          "text": [
            "INFO:sqlalchemy.engine.Engine:SELECT orders.order_id AS orders_order_id, orders.user_id AS orders_user_id, orders.item_id AS orders_item_id, orders.order_quantity AS orders_order_quantity, orders.price AS orders_price, orders.total_cost AS orders_total_cost \n",
            "FROM orders \n",
            "WHERE orders.user_id = ?\n"
          ]
        },
        {
          "output_type": "stream",
          "name": "stdout",
          "text": [
            "2024-04-29 14:23:14,923 INFO sqlalchemy.engine.Engine [generated in 0.00264s] (12,)\n"
          ]
        },
        {
          "output_type": "stream",
          "name": "stderr",
          "text": [
            "INFO:sqlalchemy.engine.Engine:[generated in 0.00264s] (12,)\n"
          ]
        },
        {
          "output_type": "stream",
          "name": "stdout",
          "text": [
            "The total cost of all orders for user 12: 1060\n",
            "2024-04-29 14:23:14,926 INFO sqlalchemy.engine.Engine ROLLBACK\n"
          ]
        },
        {
          "output_type": "stream",
          "name": "stderr",
          "text": [
            "INFO:sqlalchemy.engine.Engine:ROLLBACK\n"
          ]
        }
      ]
    },
    {
      "cell_type": "code",
      "source": [
        "# 12 Write a  Python program to list the top 2 products by sales quantity from the 'orders' table using the SQLAlchemy model.\n",
        "from sqlalchemy import create_engine, Column, Integer, String, Float\n",
        "from sqlalchemy.ext.declarative import declarative_base\n",
        "from sqlalchemy.orm import sessionmaker\n",
        "from sqlalchemy import func\n",
        "\n",
        "engine = create_engine('sqlite:///new_shop6.db', echo=True)\n",
        "Base = declarative_base()\n",
        "\n",
        "class Order(Base):\n",
        "    __tablename__ = \"orders\"\n",
        "\n",
        "    order_id = Column(Integer, primary_key=True)\n",
        "    user_id = Column(Integer, nullable=False)\n",
        "    item_id = Column(Integer, nullable=False)\n",
        "    order_quantity = Column(Integer, unique=False, nullable=False)\n",
        "    price = Column(Integer, unique=False, nullable=False)\n",
        "    total_cost = Column(Integer, unique=False, nullable=False)\n",
        "\n",
        "    def __init__(self, user_id, item_id, order_quantity, price):\n",
        "        self.user_id = user_id\n",
        "        self.item_id = item_id\n",
        "        self.order_quantity = order_quantity\n",
        "        self.price = price\n",
        "        self.total_cost = self.calculate_total_cost()\n",
        "\n",
        "    def calculate_total_cost(self):\n",
        "        return self.order_quantity * self.price\n",
        "\n",
        "Base.metadata.create_all(engine)\n",
        "\n",
        "Session = sessionmaker(bind=engine)\n",
        "session = Session()\n",
        "\n",
        "order1 = Order(user_id=10, item_id=10, order_quantity=20, price=5)\n",
        "order2 = Order(user_id=12, item_id=1, order_quantity=5, price=20)\n",
        "order3 = Order(user_id=12, item_id=120, order_quantity=30, price=32)\n",
        "order4 = Order(user_id=19, item_id=15, order_quantity=15, price=25)\n",
        "order5 = Order(user_id=16, item_id=36, order_quantity=56, price=2)\n",
        "\n",
        "session.add_all([order1, order2, order3, order4, order5])\n",
        "session.commit()\n",
        "\n",
        "\n",
        "top_orders = (session.query(Order.item_id, func.sum(Order.order_quantity).label('total_quantity')).group_by(Order.item_id) .order_by(func.sum(Order.order_quantity).desc()).limit(2))\n",
        "result = top_orders.all()\n",
        "\n",
        "print(\"Top 2 products by sales:\")\n",
        "\n",
        "for order in result:\n",
        "    print(order.item_id, order.total_quantity)\n",
        "\n",
        "session.close()"
      ],
      "metadata": {
        "colab": {
          "base_uri": "https://localhost:8080/"
        },
        "id": "lGPz8tLKPnNY",
        "outputId": "4c83d605-f6bb-42bd-e573-569133752b0f"
      },
      "execution_count": 10,
      "outputs": [
        {
          "output_type": "stream",
          "name": "stdout",
          "text": [
            "2024-04-29 14:49:59,414 INFO sqlalchemy.engine.Engine BEGIN (implicit)\n"
          ]
        },
        {
          "output_type": "stream",
          "name": "stderr",
          "text": [
            "<ipython-input-10-b010f30c628d>:8: MovedIn20Warning: The ``declarative_base()`` function is now available as sqlalchemy.orm.declarative_base(). (deprecated since: 2.0) (Background on SQLAlchemy 2.0 at: https://sqlalche.me/e/b8d9)\n",
            "  Base = declarative_base()\n",
            "INFO:sqlalchemy.engine.Engine:BEGIN (implicit)\n"
          ]
        },
        {
          "output_type": "stream",
          "name": "stdout",
          "text": [
            "2024-04-29 14:49:59,418 INFO sqlalchemy.engine.Engine PRAGMA main.table_info(\"orders\")\n"
          ]
        },
        {
          "output_type": "stream",
          "name": "stderr",
          "text": [
            "INFO:sqlalchemy.engine.Engine:PRAGMA main.table_info(\"orders\")\n"
          ]
        },
        {
          "output_type": "stream",
          "name": "stdout",
          "text": [
            "2024-04-29 14:49:59,422 INFO sqlalchemy.engine.Engine [raw sql] ()\n"
          ]
        },
        {
          "output_type": "stream",
          "name": "stderr",
          "text": [
            "INFO:sqlalchemy.engine.Engine:[raw sql] ()\n"
          ]
        },
        {
          "output_type": "stream",
          "name": "stdout",
          "text": [
            "2024-04-29 14:49:59,428 INFO sqlalchemy.engine.Engine COMMIT\n"
          ]
        },
        {
          "output_type": "stream",
          "name": "stderr",
          "text": [
            "INFO:sqlalchemy.engine.Engine:COMMIT\n"
          ]
        },
        {
          "output_type": "stream",
          "name": "stdout",
          "text": [
            "2024-04-29 14:49:59,436 INFO sqlalchemy.engine.Engine BEGIN (implicit)\n"
          ]
        },
        {
          "output_type": "stream",
          "name": "stderr",
          "text": [
            "INFO:sqlalchemy.engine.Engine:BEGIN (implicit)\n"
          ]
        },
        {
          "output_type": "stream",
          "name": "stdout",
          "text": [
            "2024-04-29 14:49:59,444 INFO sqlalchemy.engine.Engine INSERT INTO orders (user_id, item_id, order_quantity, price, total_cost) VALUES (?, ?, ?, ?, ?) RETURNING order_id\n"
          ]
        },
        {
          "output_type": "stream",
          "name": "stderr",
          "text": [
            "INFO:sqlalchemy.engine.Engine:INSERT INTO orders (user_id, item_id, order_quantity, price, total_cost) VALUES (?, ?, ?, ?, ?) RETURNING order_id\n"
          ]
        },
        {
          "output_type": "stream",
          "name": "stdout",
          "text": [
            "2024-04-29 14:49:59,449 INFO sqlalchemy.engine.Engine [generated in 0.00031s (insertmanyvalues) 1/5 (ordered; batch not supported)] (10, 10, 20, 5, 100)\n"
          ]
        },
        {
          "output_type": "stream",
          "name": "stderr",
          "text": [
            "INFO:sqlalchemy.engine.Engine:[generated in 0.00031s (insertmanyvalues) 1/5 (ordered; batch not supported)] (10, 10, 20, 5, 100)\n"
          ]
        },
        {
          "output_type": "stream",
          "name": "stdout",
          "text": [
            "2024-04-29 14:49:59,456 INFO sqlalchemy.engine.Engine INSERT INTO orders (user_id, item_id, order_quantity, price, total_cost) VALUES (?, ?, ?, ?, ?) RETURNING order_id\n"
          ]
        },
        {
          "output_type": "stream",
          "name": "stderr",
          "text": [
            "INFO:sqlalchemy.engine.Engine:INSERT INTO orders (user_id, item_id, order_quantity, price, total_cost) VALUES (?, ?, ?, ?, ?) RETURNING order_id\n"
          ]
        },
        {
          "output_type": "stream",
          "name": "stdout",
          "text": [
            "2024-04-29 14:49:59,459 INFO sqlalchemy.engine.Engine [insertmanyvalues 2/5 (ordered; batch not supported)] (12, 1, 5, 20, 100)\n"
          ]
        },
        {
          "output_type": "stream",
          "name": "stderr",
          "text": [
            "INFO:sqlalchemy.engine.Engine:[insertmanyvalues 2/5 (ordered; batch not supported)] (12, 1, 5, 20, 100)\n"
          ]
        },
        {
          "output_type": "stream",
          "name": "stdout",
          "text": [
            "2024-04-29 14:49:59,463 INFO sqlalchemy.engine.Engine INSERT INTO orders (user_id, item_id, order_quantity, price, total_cost) VALUES (?, ?, ?, ?, ?) RETURNING order_id\n"
          ]
        },
        {
          "output_type": "stream",
          "name": "stderr",
          "text": [
            "INFO:sqlalchemy.engine.Engine:INSERT INTO orders (user_id, item_id, order_quantity, price, total_cost) VALUES (?, ?, ?, ?, ?) RETURNING order_id\n"
          ]
        },
        {
          "output_type": "stream",
          "name": "stdout",
          "text": [
            "2024-04-29 14:49:59,466 INFO sqlalchemy.engine.Engine [insertmanyvalues 3/5 (ordered; batch not supported)] (12, 120, 30, 32, 960)\n"
          ]
        },
        {
          "output_type": "stream",
          "name": "stderr",
          "text": [
            "INFO:sqlalchemy.engine.Engine:[insertmanyvalues 3/5 (ordered; batch not supported)] (12, 120, 30, 32, 960)\n"
          ]
        },
        {
          "output_type": "stream",
          "name": "stdout",
          "text": [
            "2024-04-29 14:49:59,470 INFO sqlalchemy.engine.Engine INSERT INTO orders (user_id, item_id, order_quantity, price, total_cost) VALUES (?, ?, ?, ?, ?) RETURNING order_id\n"
          ]
        },
        {
          "output_type": "stream",
          "name": "stderr",
          "text": [
            "INFO:sqlalchemy.engine.Engine:INSERT INTO orders (user_id, item_id, order_quantity, price, total_cost) VALUES (?, ?, ?, ?, ?) RETURNING order_id\n"
          ]
        },
        {
          "output_type": "stream",
          "name": "stdout",
          "text": [
            "2024-04-29 14:49:59,475 INFO sqlalchemy.engine.Engine [insertmanyvalues 4/5 (ordered; batch not supported)] (19, 15, 15, 25, 375)\n"
          ]
        },
        {
          "output_type": "stream",
          "name": "stderr",
          "text": [
            "INFO:sqlalchemy.engine.Engine:[insertmanyvalues 4/5 (ordered; batch not supported)] (19, 15, 15, 25, 375)\n"
          ]
        },
        {
          "output_type": "stream",
          "name": "stdout",
          "text": [
            "2024-04-29 14:49:59,489 INFO sqlalchemy.engine.Engine INSERT INTO orders (user_id, item_id, order_quantity, price, total_cost) VALUES (?, ?, ?, ?, ?) RETURNING order_id\n"
          ]
        },
        {
          "output_type": "stream",
          "name": "stderr",
          "text": [
            "INFO:sqlalchemy.engine.Engine:INSERT INTO orders (user_id, item_id, order_quantity, price, total_cost) VALUES (?, ?, ?, ?, ?) RETURNING order_id\n"
          ]
        },
        {
          "output_type": "stream",
          "name": "stdout",
          "text": [
            "2024-04-29 14:49:59,494 INFO sqlalchemy.engine.Engine [insertmanyvalues 5/5 (ordered; batch not supported)] (16, 36, 56, 2, 112)\n"
          ]
        },
        {
          "output_type": "stream",
          "name": "stderr",
          "text": [
            "INFO:sqlalchemy.engine.Engine:[insertmanyvalues 5/5 (ordered; batch not supported)] (16, 36, 56, 2, 112)\n"
          ]
        },
        {
          "output_type": "stream",
          "name": "stdout",
          "text": [
            "2024-04-29 14:49:59,497 INFO sqlalchemy.engine.Engine COMMIT\n"
          ]
        },
        {
          "output_type": "stream",
          "name": "stderr",
          "text": [
            "INFO:sqlalchemy.engine.Engine:COMMIT\n"
          ]
        },
        {
          "output_type": "stream",
          "name": "stdout",
          "text": [
            "2024-04-29 14:49:59,510 INFO sqlalchemy.engine.Engine BEGIN (implicit)\n"
          ]
        },
        {
          "output_type": "stream",
          "name": "stderr",
          "text": [
            "INFO:sqlalchemy.engine.Engine:BEGIN (implicit)\n"
          ]
        },
        {
          "output_type": "stream",
          "name": "stdout",
          "text": [
            "2024-04-29 14:49:59,517 INFO sqlalchemy.engine.Engine SELECT orders.item_id AS orders_item_id, sum(orders.order_quantity) AS total_quantity \n",
            "FROM orders GROUP BY orders.item_id ORDER BY sum(orders.order_quantity) DESC\n",
            " LIMIT ? OFFSET ?\n"
          ]
        },
        {
          "output_type": "stream",
          "name": "stderr",
          "text": [
            "INFO:sqlalchemy.engine.Engine:SELECT orders.item_id AS orders_item_id, sum(orders.order_quantity) AS total_quantity \n",
            "FROM orders GROUP BY orders.item_id ORDER BY sum(orders.order_quantity) DESC\n",
            " LIMIT ? OFFSET ?\n"
          ]
        },
        {
          "output_type": "stream",
          "name": "stdout",
          "text": [
            "2024-04-29 14:49:59,520 INFO sqlalchemy.engine.Engine [generated in 0.00318s] (2, 0)\n"
          ]
        },
        {
          "output_type": "stream",
          "name": "stderr",
          "text": [
            "INFO:sqlalchemy.engine.Engine:[generated in 0.00318s] (2, 0)\n"
          ]
        },
        {
          "output_type": "stream",
          "name": "stdout",
          "text": [
            "Top 2 products by sales:\n",
            "36 168\n",
            "120 90\n",
            "2024-04-29 14:49:59,530 INFO sqlalchemy.engine.Engine ROLLBACK\n"
          ]
        },
        {
          "output_type": "stream",
          "name": "stderr",
          "text": [
            "INFO:sqlalchemy.engine.Engine:ROLLBACK\n"
          ]
        }
      ]
    },
    {
      "cell_type": "code",
      "source": [
        "# 13 Write a Python program to delete an order from the 'Order' table by its id. Use the SQLAlchemy model.\n",
        "from sqlalchemy import create_engine, Column, Integer, String, Float\n",
        "from sqlalchemy.ext.declarative import declarative_base\n",
        "from sqlalchemy.orm import sessionmaker\n",
        "\n",
        "engine = create_engine('sqlite:///new_shop7.db', echo=True)\n",
        "Base = declarative_base()\n",
        "\n",
        "class Order(Base):\n",
        "    __tablename__ = \"orders\"\n",
        "\n",
        "    order_id = Column(Integer, primary_key=True)\n",
        "    user_id = Column(Integer, nullable=False)\n",
        "    item_id = Column(Integer, nullable=False)\n",
        "    order_quantity = Column(Integer, unique=False, nullable=False)\n",
        "    price = Column(Integer, unique=False, nullable=False)\n",
        "    total_cost = Column(Integer, unique=False, nullable=False)\n",
        "\n",
        "    def __init__(self, user_id, item_id, order_quantity, price):\n",
        "        self.user_id = user_id\n",
        "        self.item_id = item_id\n",
        "        self.order_quantity = order_quantity\n",
        "        self.price = price\n",
        "        self.total_cost = self.calculate_total_cost()\n",
        "\n",
        "    def calculate_total_cost(self):\n",
        "        return self.order_quantity * self.price\n",
        "\n",
        "Base.metadata.create_all(engine)\n",
        "\n",
        "Session = sessionmaker(bind=engine)\n",
        "session = Session()\n",
        "\n",
        "order1 = Order(user_id=10, item_id=10, order_quantity=20, price=5)\n",
        "order2 = Order(user_id=12, item_id=1, order_quantity=5, price=20)\n",
        "order3 = Order(user_id=12, item_id=120, order_quantity=30, price=32)\n",
        "order4 = Order(user_id=19, item_id=15, order_quantity=15, price=25)\n",
        "order5 = Order(user_id=16, item_id=36, order_quantity=56, price=2)\n",
        "\n",
        "session.add_all([order1, order2, order3, order4, order5])\n",
        "session.commit()\n",
        "\n",
        "order_id = 2\n",
        "\n",
        "delete_order = session.query(Order).filter(Order.order_id == order_id).first()\n",
        "\n",
        "if delete_order:\n",
        "    session.delete(delete_order)\n",
        "    session.commit()\n",
        "    print(\"Order deleted successfully.\")\n",
        "else:\n",
        "    print(\"No order found with ID:\", order_id)\n",
        "\n",
        "result = session.query(Order).all()\n",
        "for order in result:\n",
        "    print(order.order_id, order.user_id,order.item_id, order.order_quantity, order.price, order.total_cost)\n",
        "\n",
        "session.close()"
      ],
      "metadata": {
        "colab": {
          "base_uri": "https://localhost:8080/"
        },
        "id": "CA9Vbz3XVd94",
        "outputId": "6d7f26c2-5a91-4d92-da1b-e54fd1c131e3"
      },
      "execution_count": 15,
      "outputs": [
        {
          "output_type": "stream",
          "name": "stdout",
          "text": [
            "2024-04-29 15:17:56,131 INFO sqlalchemy.engine.Engine BEGIN (implicit)\n"
          ]
        },
        {
          "output_type": "stream",
          "name": "stderr",
          "text": [
            "<ipython-input-15-033869fb23d5>:7: MovedIn20Warning: The ``declarative_base()`` function is now available as sqlalchemy.orm.declarative_base(). (deprecated since: 2.0) (Background on SQLAlchemy 2.0 at: https://sqlalche.me/e/b8d9)\n",
            "  Base = declarative_base()\n",
            "INFO:sqlalchemy.engine.Engine:BEGIN (implicit)\n"
          ]
        },
        {
          "output_type": "stream",
          "name": "stdout",
          "text": [
            "2024-04-29 15:17:56,136 INFO sqlalchemy.engine.Engine PRAGMA main.table_info(\"orders\")\n"
          ]
        },
        {
          "output_type": "stream",
          "name": "stderr",
          "text": [
            "INFO:sqlalchemy.engine.Engine:PRAGMA main.table_info(\"orders\")\n"
          ]
        },
        {
          "output_type": "stream",
          "name": "stdout",
          "text": [
            "2024-04-29 15:17:56,140 INFO sqlalchemy.engine.Engine [raw sql] ()\n"
          ]
        },
        {
          "output_type": "stream",
          "name": "stderr",
          "text": [
            "INFO:sqlalchemy.engine.Engine:[raw sql] ()\n"
          ]
        },
        {
          "output_type": "stream",
          "name": "stdout",
          "text": [
            "2024-04-29 15:17:56,146 INFO sqlalchemy.engine.Engine PRAGMA temp.table_info(\"orders\")\n"
          ]
        },
        {
          "output_type": "stream",
          "name": "stderr",
          "text": [
            "INFO:sqlalchemy.engine.Engine:PRAGMA temp.table_info(\"orders\")\n"
          ]
        },
        {
          "output_type": "stream",
          "name": "stdout",
          "text": [
            "2024-04-29 15:17:56,150 INFO sqlalchemy.engine.Engine [raw sql] ()\n"
          ]
        },
        {
          "output_type": "stream",
          "name": "stderr",
          "text": [
            "INFO:sqlalchemy.engine.Engine:[raw sql] ()\n"
          ]
        },
        {
          "output_type": "stream",
          "name": "stdout",
          "text": [
            "2024-04-29 15:17:56,153 INFO sqlalchemy.engine.Engine \n",
            "CREATE TABLE orders (\n",
            "\torder_id INTEGER NOT NULL, \n",
            "\tuser_id INTEGER NOT NULL, \n",
            "\titem_id INTEGER NOT NULL, \n",
            "\torder_quantity INTEGER NOT NULL, \n",
            "\tprice INTEGER NOT NULL, \n",
            "\ttotal_cost INTEGER NOT NULL, \n",
            "\tPRIMARY KEY (order_id)\n",
            ")\n",
            "\n",
            "\n"
          ]
        },
        {
          "output_type": "stream",
          "name": "stderr",
          "text": [
            "INFO:sqlalchemy.engine.Engine:\n",
            "CREATE TABLE orders (\n",
            "\torder_id INTEGER NOT NULL, \n",
            "\tuser_id INTEGER NOT NULL, \n",
            "\titem_id INTEGER NOT NULL, \n",
            "\torder_quantity INTEGER NOT NULL, \n",
            "\tprice INTEGER NOT NULL, \n",
            "\ttotal_cost INTEGER NOT NULL, \n",
            "\tPRIMARY KEY (order_id)\n",
            ")\n",
            "\n",
            "\n"
          ]
        },
        {
          "output_type": "stream",
          "name": "stdout",
          "text": [
            "2024-04-29 15:17:56,156 INFO sqlalchemy.engine.Engine [no key 0.00227s] ()\n"
          ]
        },
        {
          "output_type": "stream",
          "name": "stderr",
          "text": [
            "INFO:sqlalchemy.engine.Engine:[no key 0.00227s] ()\n"
          ]
        },
        {
          "output_type": "stream",
          "name": "stdout",
          "text": [
            "2024-04-29 15:17:56,167 INFO sqlalchemy.engine.Engine COMMIT\n"
          ]
        },
        {
          "output_type": "stream",
          "name": "stderr",
          "text": [
            "INFO:sqlalchemy.engine.Engine:COMMIT\n"
          ]
        },
        {
          "output_type": "stream",
          "name": "stdout",
          "text": [
            "2024-04-29 15:17:56,175 INFO sqlalchemy.engine.Engine BEGIN (implicit)\n"
          ]
        },
        {
          "output_type": "stream",
          "name": "stderr",
          "text": [
            "INFO:sqlalchemy.engine.Engine:BEGIN (implicit)\n"
          ]
        },
        {
          "output_type": "stream",
          "name": "stdout",
          "text": [
            "2024-04-29 15:17:56,185 INFO sqlalchemy.engine.Engine INSERT INTO orders (user_id, item_id, order_quantity, price, total_cost) VALUES (?, ?, ?, ?, ?) RETURNING order_id\n"
          ]
        },
        {
          "output_type": "stream",
          "name": "stderr",
          "text": [
            "INFO:sqlalchemy.engine.Engine:INSERT INTO orders (user_id, item_id, order_quantity, price, total_cost) VALUES (?, ?, ?, ?, ?) RETURNING order_id\n"
          ]
        },
        {
          "output_type": "stream",
          "name": "stdout",
          "text": [
            "2024-04-29 15:17:56,188 INFO sqlalchemy.engine.Engine [generated in 0.00022s (insertmanyvalues) 1/5 (ordered; batch not supported)] (10, 10, 20, 5, 100)\n"
          ]
        },
        {
          "output_type": "stream",
          "name": "stderr",
          "text": [
            "INFO:sqlalchemy.engine.Engine:[generated in 0.00022s (insertmanyvalues) 1/5 (ordered; batch not supported)] (10, 10, 20, 5, 100)\n"
          ]
        },
        {
          "output_type": "stream",
          "name": "stdout",
          "text": [
            "2024-04-29 15:17:56,193 INFO sqlalchemy.engine.Engine INSERT INTO orders (user_id, item_id, order_quantity, price, total_cost) VALUES (?, ?, ?, ?, ?) RETURNING order_id\n"
          ]
        },
        {
          "output_type": "stream",
          "name": "stderr",
          "text": [
            "INFO:sqlalchemy.engine.Engine:INSERT INTO orders (user_id, item_id, order_quantity, price, total_cost) VALUES (?, ?, ?, ?, ?) RETURNING order_id\n"
          ]
        },
        {
          "output_type": "stream",
          "name": "stdout",
          "text": [
            "2024-04-29 15:17:56,195 INFO sqlalchemy.engine.Engine [insertmanyvalues 2/5 (ordered; batch not supported)] (12, 1, 5, 20, 100)\n"
          ]
        },
        {
          "output_type": "stream",
          "name": "stderr",
          "text": [
            "INFO:sqlalchemy.engine.Engine:[insertmanyvalues 2/5 (ordered; batch not supported)] (12, 1, 5, 20, 100)\n"
          ]
        },
        {
          "output_type": "stream",
          "name": "stdout",
          "text": [
            "2024-04-29 15:17:56,197 INFO sqlalchemy.engine.Engine INSERT INTO orders (user_id, item_id, order_quantity, price, total_cost) VALUES (?, ?, ?, ?, ?) RETURNING order_id\n"
          ]
        },
        {
          "output_type": "stream",
          "name": "stderr",
          "text": [
            "INFO:sqlalchemy.engine.Engine:INSERT INTO orders (user_id, item_id, order_quantity, price, total_cost) VALUES (?, ?, ?, ?, ?) RETURNING order_id\n"
          ]
        },
        {
          "output_type": "stream",
          "name": "stdout",
          "text": [
            "2024-04-29 15:17:56,199 INFO sqlalchemy.engine.Engine [insertmanyvalues 3/5 (ordered; batch not supported)] (12, 120, 30, 32, 960)\n"
          ]
        },
        {
          "output_type": "stream",
          "name": "stderr",
          "text": [
            "INFO:sqlalchemy.engine.Engine:[insertmanyvalues 3/5 (ordered; batch not supported)] (12, 120, 30, 32, 960)\n"
          ]
        },
        {
          "output_type": "stream",
          "name": "stdout",
          "text": [
            "2024-04-29 15:17:56,201 INFO sqlalchemy.engine.Engine INSERT INTO orders (user_id, item_id, order_quantity, price, total_cost) VALUES (?, ?, ?, ?, ?) RETURNING order_id\n"
          ]
        },
        {
          "output_type": "stream",
          "name": "stderr",
          "text": [
            "INFO:sqlalchemy.engine.Engine:INSERT INTO orders (user_id, item_id, order_quantity, price, total_cost) VALUES (?, ?, ?, ?, ?) RETURNING order_id\n"
          ]
        },
        {
          "output_type": "stream",
          "name": "stdout",
          "text": [
            "2024-04-29 15:17:56,203 INFO sqlalchemy.engine.Engine [insertmanyvalues 4/5 (ordered; batch not supported)] (19, 15, 15, 25, 375)\n"
          ]
        },
        {
          "output_type": "stream",
          "name": "stderr",
          "text": [
            "INFO:sqlalchemy.engine.Engine:[insertmanyvalues 4/5 (ordered; batch not supported)] (19, 15, 15, 25, 375)\n"
          ]
        },
        {
          "output_type": "stream",
          "name": "stdout",
          "text": [
            "2024-04-29 15:17:56,205 INFO sqlalchemy.engine.Engine INSERT INTO orders (user_id, item_id, order_quantity, price, total_cost) VALUES (?, ?, ?, ?, ?) RETURNING order_id\n"
          ]
        },
        {
          "output_type": "stream",
          "name": "stderr",
          "text": [
            "INFO:sqlalchemy.engine.Engine:INSERT INTO orders (user_id, item_id, order_quantity, price, total_cost) VALUES (?, ?, ?, ?, ?) RETURNING order_id\n"
          ]
        },
        {
          "output_type": "stream",
          "name": "stdout",
          "text": [
            "2024-04-29 15:17:56,207 INFO sqlalchemy.engine.Engine [insertmanyvalues 5/5 (ordered; batch not supported)] (16, 36, 56, 2, 112)\n"
          ]
        },
        {
          "output_type": "stream",
          "name": "stderr",
          "text": [
            "INFO:sqlalchemy.engine.Engine:[insertmanyvalues 5/5 (ordered; batch not supported)] (16, 36, 56, 2, 112)\n"
          ]
        },
        {
          "output_type": "stream",
          "name": "stdout",
          "text": [
            "2024-04-29 15:17:56,211 INFO sqlalchemy.engine.Engine COMMIT\n"
          ]
        },
        {
          "output_type": "stream",
          "name": "stderr",
          "text": [
            "INFO:sqlalchemy.engine.Engine:COMMIT\n"
          ]
        },
        {
          "output_type": "stream",
          "name": "stdout",
          "text": [
            "2024-04-29 15:17:56,222 INFO sqlalchemy.engine.Engine BEGIN (implicit)\n"
          ]
        },
        {
          "output_type": "stream",
          "name": "stderr",
          "text": [
            "INFO:sqlalchemy.engine.Engine:BEGIN (implicit)\n"
          ]
        },
        {
          "output_type": "stream",
          "name": "stdout",
          "text": [
            "2024-04-29 15:17:56,228 INFO sqlalchemy.engine.Engine SELECT orders.order_id AS orders_order_id, orders.user_id AS orders_user_id, orders.item_id AS orders_item_id, orders.order_quantity AS orders_order_quantity, orders.price AS orders_price, orders.total_cost AS orders_total_cost \n",
            "FROM orders \n",
            "WHERE orders.order_id = ?\n",
            " LIMIT ? OFFSET ?\n"
          ]
        },
        {
          "output_type": "stream",
          "name": "stderr",
          "text": [
            "INFO:sqlalchemy.engine.Engine:SELECT orders.order_id AS orders_order_id, orders.user_id AS orders_user_id, orders.item_id AS orders_item_id, orders.order_quantity AS orders_order_quantity, orders.price AS orders_price, orders.total_cost AS orders_total_cost \n",
            "FROM orders \n",
            "WHERE orders.order_id = ?\n",
            " LIMIT ? OFFSET ?\n"
          ]
        },
        {
          "output_type": "stream",
          "name": "stdout",
          "text": [
            "2024-04-29 15:17:56,233 INFO sqlalchemy.engine.Engine [generated in 0.00533s] (2, 1, 0)\n"
          ]
        },
        {
          "output_type": "stream",
          "name": "stderr",
          "text": [
            "INFO:sqlalchemy.engine.Engine:[generated in 0.00533s] (2, 1, 0)\n"
          ]
        },
        {
          "output_type": "stream",
          "name": "stdout",
          "text": [
            "2024-04-29 15:17:56,239 INFO sqlalchemy.engine.Engine DELETE FROM orders WHERE orders.order_id = ?\n"
          ]
        },
        {
          "output_type": "stream",
          "name": "stderr",
          "text": [
            "INFO:sqlalchemy.engine.Engine:DELETE FROM orders WHERE orders.order_id = ?\n"
          ]
        },
        {
          "output_type": "stream",
          "name": "stdout",
          "text": [
            "2024-04-29 15:17:56,241 INFO sqlalchemy.engine.Engine [generated in 0.00231s] (2,)\n"
          ]
        },
        {
          "output_type": "stream",
          "name": "stderr",
          "text": [
            "INFO:sqlalchemy.engine.Engine:[generated in 0.00231s] (2,)\n"
          ]
        },
        {
          "output_type": "stream",
          "name": "stdout",
          "text": [
            "2024-04-29 15:17:56,244 INFO sqlalchemy.engine.Engine COMMIT\n"
          ]
        },
        {
          "output_type": "stream",
          "name": "stderr",
          "text": [
            "INFO:sqlalchemy.engine.Engine:COMMIT\n"
          ]
        },
        {
          "output_type": "stream",
          "name": "stdout",
          "text": [
            "Order deleted successfully.\n",
            "2024-04-29 15:17:56,253 INFO sqlalchemy.engine.Engine BEGIN (implicit)\n"
          ]
        },
        {
          "output_type": "stream",
          "name": "stderr",
          "text": [
            "INFO:sqlalchemy.engine.Engine:BEGIN (implicit)\n"
          ]
        },
        {
          "output_type": "stream",
          "name": "stdout",
          "text": [
            "2024-04-29 15:17:56,257 INFO sqlalchemy.engine.Engine SELECT orders.order_id AS orders_order_id, orders.user_id AS orders_user_id, orders.item_id AS orders_item_id, orders.order_quantity AS orders_order_quantity, orders.price AS orders_price, orders.total_cost AS orders_total_cost \n",
            "FROM orders\n"
          ]
        },
        {
          "output_type": "stream",
          "name": "stderr",
          "text": [
            "INFO:sqlalchemy.engine.Engine:SELECT orders.order_id AS orders_order_id, orders.user_id AS orders_user_id, orders.item_id AS orders_item_id, orders.order_quantity AS orders_order_quantity, orders.price AS orders_price, orders.total_cost AS orders_total_cost \n",
            "FROM orders\n"
          ]
        },
        {
          "output_type": "stream",
          "name": "stdout",
          "text": [
            "2024-04-29 15:17:56,259 INFO sqlalchemy.engine.Engine [generated in 0.00234s] ()\n"
          ]
        },
        {
          "output_type": "stream",
          "name": "stderr",
          "text": [
            "INFO:sqlalchemy.engine.Engine:[generated in 0.00234s] ()\n"
          ]
        },
        {
          "output_type": "stream",
          "name": "stdout",
          "text": [
            "1 10 10 20 5 100\n",
            "3 12 120 30 32 960\n",
            "4 19 15 15 25 375\n",
            "5 16 36 56 2 112\n",
            "2024-04-29 15:17:56,263 INFO sqlalchemy.engine.Engine ROLLBACK\n"
          ]
        },
        {
          "output_type": "stream",
          "name": "stderr",
          "text": [
            "INFO:sqlalchemy.engine.Engine:ROLLBACK\n"
          ]
        }
      ]
    }
  ]
}