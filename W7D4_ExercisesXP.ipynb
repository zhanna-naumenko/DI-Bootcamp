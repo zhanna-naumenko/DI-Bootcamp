{
  "nbformat": 4,
  "nbformat_minor": 0,
  "metadata": {
    "colab": {
      "provenance": [],
      "authorship_tag": "ABX9TyN/oF1utB8ymEV/oQM06cER",
      "include_colab_link": true
    },
    "kernelspec": {
      "name": "python3",
      "display_name": "Python 3"
    },
    "language_info": {
      "name": "python"
    }
  },
  "cells": [
    {
      "cell_type": "markdown",
      "metadata": {
        "id": "view-in-github",
        "colab_type": "text"
      },
      "source": [
        "<a href=\"https://colab.research.google.com/github/zhanna-naumenko/DI-Bootcamp/blob/main/W7D4_ExercisesXP.ipynb\" target=\"_parent\"><img src=\"https://colab.research.google.com/assets/colab-badge.svg\" alt=\"Open In Colab\"/></a>"
      ]
    },
    {
      "cell_type": "markdown",
      "source": [
        "**Exercise 1**\n",
        "1.   The problem statement is that the loan applicant defaulting on their loan.\n",
        "2.   Types of data that we would need for analysis:\n",
        "\n",
        "*   Personal information. Which can be like name, surname, age, employment status, education etc.\n",
        "*   Loan details, such as amount, term, natural log, FICO credit score,  interest rate, purpose of the loan, the borrower's number of derogatory public records etc.\n",
        "*   Financial information, such as salary,existing debts, credit score etc.\n",
        "*   Historical payment behavior, like previous defaults, late payments etc.\n",
        "3. The source to collect data can be different, such as financial institutions internal records, credit bureaus, banks, the network of peer groups, community leaders, friends and enemies etc"
      ],
      "metadata": {
        "id": "pNtPHKRKtUX1"
      }
    },
    {
      "cell_type": "markdown",
      "source": [
        "**Exercise 2**\n",
        "\n",
        "The main features for loan analysis is a repayment history, credit score and income amount. Because, they can show us does an applicant has a positive history of making timely payment on previous loans or negative. Credit score gives an understanding of creditworthiness of the applicant and incom level helps us to suggest will it be a lower risk of default or high, is his financial stability low or high. An important role in analysis have loan amount, term and purpose of the loan.\n",
        "Higher loan amounts may increase the risk of default, especially if the borrower has limited income or financial resources. The reason for taking out the loan can also influence the likelihood of default the same as a term. The duration of the loan can impact default rates. Longer loan terms may increase the risk of default, as there is more time for financial circumstances to change.\n",
        "And of course we should pay attantion to the age of applicant, as younger applicants may have less financial experience and stability compared to older applicants. However, this may vary depending on the context."
      ],
      "metadata": {
        "id": "rNV-kLC9x_Vb"
      }
    },
    {
      "cell_type": "markdown",
      "source": [
        "**Exercise 3**\n",
        "Firstly we need to divide the dataset into training and testing, then use the traini data to train the machine learning model on features relevat to predicting loan defaults. After that we can use the trained model to make predictions on the test dataset."
      ],
      "metadata": {
        "id": "ya_AfVdvWlM6"
      }
    },
    {
      "cell_type": "markdown",
      "source": [
        "**Exercise 4**\n",
        "To predict stock prices we can use time series forecasting type of the machine learning, that will leverages past stock prices to predict future ones.\n",
        "\n",
        "To organize a library Books we can use unsupervised learning, i.e. clustering, that will split the books by categories and will helps us to group up similar items together without labeled data.\n",
        "\n",
        "To program the robot to find shortest path in a maze we can use reinforcement learning, that will lern the robot through trial and error to optimize its behavior. Reinforcement learning is well-suited for this task as it enables the robot to learn from its interactions with the environment, receiving feedback  based on its actions."
      ],
      "metadata": {
        "id": "Lq_frr57ax6C"
      }
    },
    {
      "cell_type": "markdown",
      "source": [
        "**Exercise 5**\n",
        "\n",
        "For the supervised learning we can choose the strategy to split the dataset into training and testing sets. Than train the model in the training set using an algorithm such as logistic regression, decision trees or random forests. We can use such metrics as accuracy, precision, recall, F1-score and the cross validation and ROC method. Accuracy will show us overall correctness of the model, precision - proportion of true positive predictions out of all positive predictions, recall - proportion of true positive predictions out of all actual positives, F1-score - harmonic mean of precision and recall. Conserning the methods we choose, cross-validation helps us to ensure the model's generalization ability, use k-fold cross-validation and the ROC curves method is the nice way to make a plot to visualize the trade-off between true positive rate and false positive rate.\n",
        "\n",
        "For the unsupervised learning we can shoose the stratage that will choose an appropriate clustering algorithm such as K-means, Hierarchical clustering etc. Than we can assess the quality of clusters using various techniques. We will use the sihouette score, that will measure of how similar an object is to its own cluster compared to other clusters. And we can use the elbow method to make a plot that will show us the optimal number of clusters. Than we can use metrics like Davies–Bouldin index or Calinski-Harabasz index to evaluate cluster validity. But evaluating clustering performance can be subjective as it relies on intrinsic cluster quality measures. Interpretability of clusters may vary depending on the algorithm and data.\n",
        "\n",
        "For the reinforcement learning we can choose the strategy that will define a suitable reward function that reflects the desired behavior of the RL agent. Than we can train the RL agent using algorithms like Q-learning, Deep Q-Networks, or Policy Gradient methods. Than we will evaluate the RL agent's performance based on its interaction with the environment over multiple episodes. We can use the cumulative reward to see total reward accumulated by the agent over time, convergence to measure how quickly the agent learns optimal behavior, and exploration vs. exploitation balance. Evaluating RL models can be complex due to the dynamic nature of the environment and the long-term nature of reward accumulation. RL models may suffer from the exploration-exploitation dilemma, where the agent may need to sacrifice short-term rewards for long-term gains."
      ],
      "metadata": {
        "id": "BPUR37f33-5F"
      }
    }
  ]
}